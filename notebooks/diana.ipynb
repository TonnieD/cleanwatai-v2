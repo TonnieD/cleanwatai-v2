{
 "cells": [
  {
   "cell_type": "code",
   "execution_count": 1,
   "id": "6179c192",
   "metadata": {},
   "outputs": [],
   "source": [
    "%load_ext autoreload\n",
    "%autoreload 2"
   ]
  },
  {
   "cell_type": "code",
   "execution_count": 2,
   "id": "51399f9e",
   "metadata": {},
   "outputs": [],
   "source": [
    "# setup\n",
    "import ee, geemap, pandas as pd, geopandas as gpd\n",
    "from shapely.geometry import Point\n",
    "from scripts.extract_data import get_wpdx_kenya\n",
    "ee.Authenticate()\n",
    "ee.Initialize()\n"
   ]
  },
  {
   "cell_type": "markdown",
   "id": "e300babe",
   "metadata": {},
   "source": [
    "- wpdx data - base"
   ]
  },
  {
   "cell_type": "code",
   "execution_count": 3,
   "id": "8be729f5",
   "metadata": {},
   "outputs": [
    {
     "data": {
      "text/html": [
       "\n",
       "            <style>\n",
       "                .geemap-dark {\n",
       "                    --jp-widgets-color: white;\n",
       "                    --jp-widgets-label-color: white;\n",
       "                    --jp-ui-font-color1: white;\n",
       "                    --jp-layout-color2: #454545;\n",
       "                    background-color: #383838;\n",
       "                }\n",
       "\n",
       "                .geemap-dark .jupyter-button {\n",
       "                    --jp-layout-color3: #383838;\n",
       "                }\n",
       "\n",
       "                .geemap-colab {\n",
       "                    background-color: var(--colab-primary-surface-color, white);\n",
       "                }\n",
       "\n",
       "                .geemap-colab .jupyter-button {\n",
       "                    --jp-layout-color3: var(--colab-primary-surface-color, white);\n",
       "                }\n",
       "            </style>\n",
       "            "
      ],
      "text/plain": [
       "<IPython.core.display.HTML object>"
      ]
     },
     "metadata": {},
     "output_type": "display_data"
    },
    {
     "name": "stdout",
     "output_type": "stream",
     "text": [
      "✅ || wpdx_kenya.csv already exists with 21953 rows, skipping fetch.\n"
     ]
    },
    {
     "data": {
      "application/vnd.microsoft.datawrangler.viewer.v0+json": {
       "columns": [
        {
         "name": "index",
         "rawType": "object",
         "type": "string"
        },
        {
         "name": "0",
         "rawType": "int64",
         "type": "integer"
        }
       ],
       "ref": "c8ffc179-0891-44e9-a064-bd6a5acbfbfe",
       "rows": [
        [
         "fecal_coliform_value",
         "21953"
        ],
        [
         "clean_adm4",
         "21953"
        ],
        [
         "scheme_id",
         "21953"
        ],
        [
         "fecal_coliform_presence",
         "21953"
        ],
        [
         "rehab_year",
         "21953"
        ],
        [
         "rehabilitator",
         "21953"
        ],
        [
         "is_duplicate",
         "21288"
        ],
        [
         "_pop_who_would_gain_access",
         "20166"
        ],
        [
         "rehab_priority",
         "19898"
        ],
        [
         "pay",
         "19770"
        ],
        [
         "notes",
         "18612"
        ],
        [
         "pay_clean",
         "18361"
        ],
        [
         "orig_lnk",
         "18316"
        ],
        [
         "installer",
         "18104"
        ],
        [
         "management_clean",
         "11891"
        ],
        [
         "management",
         "11850"
        ],
        [
         "install_year",
         "11786"
        ],
        [
         "subjective_quality_clean",
         "11778"
        ],
        [
         "photo_lnk",
         "11771"
        ],
        [
         "subjective_quality",
         "11721"
        ],
        [
         "status",
         "11603"
        ],
        [
         "converted",
         "11561"
        ],
        [
         "water_tech",
         "11271"
        ],
        [
         "_water_tech_category",
         "6597"
        ],
        [
         "adm3",
         "5920"
        ],
        [
         "water_tech_clean",
         "5907"
        ],
        [
         "adm2",
         "5208"
        ],
        [
         "adm1",
         "2683"
        ],
        [
         "activity_id",
         "2209"
        ],
        [
         "pressure",
         "1847"
        ],
        [
         "usage_cap",
         "1054"
        ],
        [
         "crucialness",
         "930"
        ],
        [
         "served_population",
         "849"
        ],
        [
         "local_population",
         "849"
        ],
        [
         "water_source_clean",
         "117"
        ],
        [
         "water_source_category",
         "117"
        ],
        [
         "country_id",
         "71"
        ],
        [
         "country_name",
         "71"
        ],
        [
         "water_source",
         "59"
        ],
        [
         "distance_to_city",
         "48"
        ],
        [
         "cluster_size",
         "0"
        ],
        [
         "row_id",
         "0"
        ],
        [
         "location_id",
         "0"
        ],
        [
         "new_georeferenced_column_",
         "0"
        ],
        [
         "lat_lon_deg",
         "0"
        ],
        [
         "public_data_source",
         "0"
        ],
        [
         "count",
         "0"
        ],
        [
         "created_timestamp",
         "0"
        ],
        [
         "updated",
         "0"
        ],
        [
         "is_urban",
         "0"
        ]
       ],
       "shape": {
        "columns": 1,
        "rows": 73
       }
      },
      "text/plain": [
       "fecal_coliform_value       21953\n",
       "clean_adm4                 21953\n",
       "scheme_id                  21953\n",
       "fecal_coliform_presence    21953\n",
       "rehab_year                 21953\n",
       "                           ...  \n",
       "distance_to_tertiary           0\n",
       "distance_to_town               0\n",
       "water_point_history            0\n",
       "days_since_report              0\n",
       "dataset_title                  0\n",
       "Length: 73, dtype: int64"
      ]
     },
     "execution_count": 3,
     "metadata": {},
     "output_type": "execute_result"
    }
   ],
   "source": [
    "# Load and Sample WPdx\n",
    "import re\n",
    "\n",
    "wpdx = get_wpdx_kenya()\n",
    "\n",
    "wpdx.head()\n",
    "wpdx.isnull().sum().sort_values(ascending=False)\n"
   ]
  },
  {
   "cell_type": "code",
   "execution_count": 4,
   "id": "d1baba0b",
   "metadata": {},
   "outputs": [
    {
     "data": {
      "text/html": [
       "\n",
       "            <style>\n",
       "                .geemap-dark {\n",
       "                    --jp-widgets-color: white;\n",
       "                    --jp-widgets-label-color: white;\n",
       "                    --jp-ui-font-color1: white;\n",
       "                    --jp-layout-color2: #454545;\n",
       "                    background-color: #383838;\n",
       "                }\n",
       "\n",
       "                .geemap-dark .jupyter-button {\n",
       "                    --jp-layout-color3: #383838;\n",
       "                }\n",
       "\n",
       "                .geemap-colab {\n",
       "                    background-color: var(--colab-primary-surface-color, white);\n",
       "                }\n",
       "\n",
       "                .geemap-colab .jupyter-button {\n",
       "                    --jp-layout-color3: var(--colab-primary-surface-color, white);\n",
       "                }\n",
       "            </style>\n",
       "            "
      ],
      "text/plain": [
       "<IPython.core.display.HTML object>"
      ]
     },
     "metadata": {},
     "output_type": "display_data"
    },
    {
     "data": {
      "text/plain": [
       "Index(['row_id', 'source', 'lat_deg', 'lon_deg', 'report_date', 'status_id',\n",
       "       'water_source_clean', 'water_source_category', 'water_tech_clean',\n",
       "       '_water_tech_category', 'facility_type', 'clean_country_name',\n",
       "       'clean_country_id', 'clean_adm1', 'clean_adm2', 'clean_adm3',\n",
       "       'clean_adm4', 'install_year', 'installer', 'rehab_year',\n",
       "       'rehabilitator', 'management_clean', 'status_clean', 'pay_clean',\n",
       "       'fecal_coliform_presence', 'fecal_coliform_value',\n",
       "       'subjective_quality_clean', 'activity_id', 'scheme_id', 'wpdx_id',\n",
       "       'notes', 'orig_lnk', 'photo_lnk', 'country_id', 'data_lnk',\n",
       "       'distance_to_primary', 'distance_to_secondary', 'distance_to_tertiary',\n",
       "       'distance_to_city', 'distance_to_town', 'water_point_history',\n",
       "       'local_population', 'served_population', 'rehab_priority',\n",
       "       '_pop_who_would_gain_access', 'crucialness', 'pressure', 'usage_cap',\n",
       "       'days_since_report', 'staleness_score', 'is_latest', 'location_id',\n",
       "       'is_urban', 'cluster_size', 'country_name', 'water_source',\n",
       "       'water_tech', 'status', 'adm1', 'adm2', 'adm3', 'management', 'pay',\n",
       "       'subjective_quality', 'new_georeferenced_column_', 'lat_lon_deg',\n",
       "       'public_data_source', 'converted', 'count', 'created_timestamp',\n",
       "       'updated', 'is_duplicate', 'dataset_title'],\n",
       "      dtype='object')"
      ]
     },
     "execution_count": 4,
     "metadata": {},
     "output_type": "execute_result"
    }
   ],
   "source": [
    "wpdx.columns "
   ]
  },
  {
   "cell_type": "code",
   "execution_count": 5,
   "id": "5de34c7d",
   "metadata": {},
   "outputs": [
    {
     "data": {
      "text/html": [
       "\n",
       "            <style>\n",
       "                .geemap-dark {\n",
       "                    --jp-widgets-color: white;\n",
       "                    --jp-widgets-label-color: white;\n",
       "                    --jp-ui-font-color1: white;\n",
       "                    --jp-layout-color2: #454545;\n",
       "                    background-color: #383838;\n",
       "                }\n",
       "\n",
       "                .geemap-dark .jupyter-button {\n",
       "                    --jp-layout-color3: #383838;\n",
       "                }\n",
       "\n",
       "                .geemap-colab {\n",
       "                    background-color: var(--colab-primary-surface-color, white);\n",
       "                }\n",
       "\n",
       "                .geemap-colab .jupyter-button {\n",
       "                    --jp-layout-color3: var(--colab-primary-surface-color, white);\n",
       "                }\n",
       "            </style>\n",
       "            "
      ],
      "text/plain": [
       "<IPython.core.display.HTML object>"
      ]
     },
     "metadata": {},
     "output_type": "display_data"
    },
    {
     "name": "stdout",
     "output_type": "stream",
     "text": [
      "Sampled 5000 water points for GEE processing.\n"
     ]
    }
   ],
   "source": [
    "# --- Standardize and Rename Columns ---\n",
    "# No need for the full generic column cleaning with re.sub if you know the exact names.\n",
    "# However, for robustness, we can still ensure they are lowercased and stripped IF needed.\n",
    "# For now, let's target the exact names you provided.\n",
    "\n",
    "# Rename 'wpdx_id' to 'pt_id'\n",
    "if 'wpdx_id' in wpdx.columns:\n",
    "    wpdx.rename(columns={'wpdx_id': 'pt_id'}, inplace=True)\n",
    "else:\n",
    "    # If for some reason 'wpdx_id' is missing, you'd need to identify the correct ID column.\n",
    "    raise KeyError(\"'wpdx_id' column not found. Please verify the actual ID column name.\")\n",
    "\n",
    "# Ensure 'pt_id' is string type\n",
    "wpdx['pt_id'] = wpdx['pt_id'].astype(str)\n",
    "\n",
    "# Ensure 'lat_deg' and 'lon_deg' are numeric and rounded\n",
    "# They are already correctly named, just need conversion and null check.\n",
    "wpdx['latitude'] = pd.to_numeric(wpdx['lat_deg'], errors='coerce').round(6)\n",
    "wpdx['longitude'] = pd.to_numeric(wpdx['lon_deg'], errors='coerce').round(6)\n",
    "wpdx.dropna(subset=['latitude', 'longitude'], inplace=True)\n",
    "\n",
    "\n",
    "# Filter for Kenya and non-null lat/lon\n",
    "# Using 'clean_country_name' as per your original intent and its presence.\n",
    "if 'clean_country_name' in wpdx.columns:\n",
    "    wpdx = wpdx[(wpdx['clean_country_name'].str.lower() == 'kenya')]\n",
    "else:\n",
    "    raise KeyError(\"'country_name' column not found. Please verify the country column name.\")\n",
    "\n",
    "# Sample 5000 points\n",
    "DESIRED_SAMPLED_POINTS_COUNT = 5000\n",
    "if len(wpdx) >= DESIRED_SAMPLED_POINTS_COUNT:\n",
    "    wpdx = wpdx.sample(n=DESIRED_SAMPLED_POINTS_COUNT, random_state=42).reset_index(drop=True)\n",
    "else:\n",
    "    print(f\"Warning: Less than {DESIRED_SAMPLED_POINTS_COUNT} points available for sampling. Using all {len(wpdx)} points.\")\n",
    "\n",
    "print(f\"Sampled {len(wpdx)} water points for GEE processing.\")\n",
    "\n",
    "# --- Prepare for GEE (select only necessary columns with correct names for geemap) ---\n",
    "wpdx_for_gee = wpdx[['pt_id', 'latitude', 'longitude']]\n",
    "# Note: geemap.pandas_to_ee expects 'latitude' and 'longitude' by default if no other names specified.\n",
    "# So, we map lat_deg/lon_deg to latitude/longitude for clean passing."
   ]
  },
  {
   "cell_type": "code",
   "execution_count": 6,
   "id": "81806c85",
   "metadata": {},
   "outputs": [
    {
     "data": {
      "text/html": [
       "\n",
       "            <style>\n",
       "                .geemap-dark {\n",
       "                    --jp-widgets-color: white;\n",
       "                    --jp-widgets-label-color: white;\n",
       "                    --jp-ui-font-color1: white;\n",
       "                    --jp-layout-color2: #454545;\n",
       "                    background-color: #383838;\n",
       "                }\n",
       "\n",
       "                .geemap-dark .jupyter-button {\n",
       "                    --jp-layout-color3: #383838;\n",
       "                }\n",
       "\n",
       "                .geemap-colab {\n",
       "                    background-color: var(--colab-primary-surface-color, white);\n",
       "                }\n",
       "\n",
       "                .geemap-colab .jupyter-button {\n",
       "                    --jp-layout-color3: var(--colab-primary-surface-color, white);\n",
       "                }\n",
       "            </style>\n",
       "            "
      ],
      "text/plain": [
       "<IPython.core.display.HTML object>"
      ]
     },
     "metadata": {},
     "output_type": "display_data"
    },
    {
     "data": {
      "application/vnd.microsoft.datawrangler.viewer.v0+json": {
       "columns": [
        {
         "name": "index",
         "rawType": "int64",
         "type": "integer"
        },
        {
         "name": "pt_id",
         "rawType": "object",
         "type": "string"
        },
        {
         "name": "latitude",
         "rawType": "float64",
         "type": "float"
        },
        {
         "name": "longitude",
         "rawType": "float64",
         "type": "float"
        }
       ],
       "ref": "2708b9e5-8d7e-4f9b-906a-dacdcbac7231",
       "rows": [
        [
         "0",
         "6GGP5HF3+VR8",
         "0.174668",
         "34.554572"
        ],
        [
         "1",
         "6GGP6HC8+85Q",
         "0.22083",
         "34.565483"
        ],
        [
         "2",
         "6GGP28VQ+MWR",
         "0.044235",
         "34.339775"
        ],
        [
         "3",
         "6GFPHQ2V+2MF",
         "-0.449933",
         "34.794163"
        ],
        [
         "4",
         "6GGPFRWJ+VH8",
         "0.49716",
         "34.831463"
        ]
       ],
       "shape": {
        "columns": 3,
        "rows": 5
       }
      },
      "text/html": [
       "<div>\n",
       "<style scoped>\n",
       "    .dataframe tbody tr th:only-of-type {\n",
       "        vertical-align: middle;\n",
       "    }\n",
       "\n",
       "    .dataframe tbody tr th {\n",
       "        vertical-align: top;\n",
       "    }\n",
       "\n",
       "    .dataframe thead th {\n",
       "        text-align: right;\n",
       "    }\n",
       "</style>\n",
       "<table border=\"1\" class=\"dataframe\">\n",
       "  <thead>\n",
       "    <tr style=\"text-align: right;\">\n",
       "      <th></th>\n",
       "      <th>pt_id</th>\n",
       "      <th>latitude</th>\n",
       "      <th>longitude</th>\n",
       "    </tr>\n",
       "  </thead>\n",
       "  <tbody>\n",
       "    <tr>\n",
       "      <th>0</th>\n",
       "      <td>6GGP5HF3+VR8</td>\n",
       "      <td>0.174668</td>\n",
       "      <td>34.554572</td>\n",
       "    </tr>\n",
       "    <tr>\n",
       "      <th>1</th>\n",
       "      <td>6GGP6HC8+85Q</td>\n",
       "      <td>0.220830</td>\n",
       "      <td>34.565483</td>\n",
       "    </tr>\n",
       "    <tr>\n",
       "      <th>2</th>\n",
       "      <td>6GGP28VQ+MWR</td>\n",
       "      <td>0.044235</td>\n",
       "      <td>34.339775</td>\n",
       "    </tr>\n",
       "    <tr>\n",
       "      <th>3</th>\n",
       "      <td>6GFPHQ2V+2MF</td>\n",
       "      <td>-0.449933</td>\n",
       "      <td>34.794163</td>\n",
       "    </tr>\n",
       "    <tr>\n",
       "      <th>4</th>\n",
       "      <td>6GGPFRWJ+VH8</td>\n",
       "      <td>0.497160</td>\n",
       "      <td>34.831463</td>\n",
       "    </tr>\n",
       "  </tbody>\n",
       "</table>\n",
       "</div>"
      ],
      "text/plain": [
       "          pt_id  latitude  longitude\n",
       "0  6GGP5HF3+VR8  0.174668  34.554572\n",
       "1  6GGP6HC8+85Q  0.220830  34.565483\n",
       "2  6GGP28VQ+MWR  0.044235  34.339775\n",
       "3  6GFPHQ2V+2MF -0.449933  34.794163\n",
       "4  6GGPFRWJ+VH8  0.497160  34.831463"
      ]
     },
     "execution_count": 6,
     "metadata": {},
     "output_type": "execute_result"
    }
   ],
   "source": [
    "wpdx_for_gee.head()"
   ]
  },
  {
   "cell_type": "code",
   "execution_count": 7,
   "id": "4c83b367",
   "metadata": {},
   "outputs": [
    {
     "data": {
      "text/html": [
       "\n",
       "            <style>\n",
       "                .geemap-dark {\n",
       "                    --jp-widgets-color: white;\n",
       "                    --jp-widgets-label-color: white;\n",
       "                    --jp-ui-font-color1: white;\n",
       "                    --jp-layout-color2: #454545;\n",
       "                    background-color: #383838;\n",
       "                }\n",
       "\n",
       "                .geemap-dark .jupyter-button {\n",
       "                    --jp-layout-color3: #383838;\n",
       "                }\n",
       "\n",
       "                .geemap-colab {\n",
       "                    background-color: var(--colab-primary-surface-color, white);\n",
       "                }\n",
       "\n",
       "                .geemap-colab .jupyter-button {\n",
       "                    --jp-layout-color3: var(--colab-primary-surface-color, white);\n",
       "                }\n",
       "            </style>\n",
       "            "
      ],
      "text/plain": [
       "<IPython.core.display.HTML object>"
      ]
     },
     "metadata": {},
     "output_type": "display_data"
    },
    {
     "name": "stdout",
     "output_type": "stream",
     "text": [
      "Date range for composites: 2025-04-01 to 2025-06-30\n",
      "Calculated START_7: 2025-06-23\n",
      "Calculated START_30: 2025-05-31\n",
      "Calculated START_90: 2025-04-01\n"
     ]
    }
   ],
   "source": [
    "# Set the END date to June 30th, 2025 \n",
    "END_DATE = '2025-06-30' \n",
    "\n",
    "# Recalculate start dates based on the new END date\n",
    "START_7_DAYS  = ee.Date(END_DATE).advance(-7, 'day').format('YYYY-MM-dd').getInfo()\n",
    "START_30_DAYS = ee.Date(END_DATE).advance(-30, 'day').format('YYYY-MM-dd').getInfo()\n",
    "START_90_DAYS = ee.Date(END_DATE).advance(-90, 'day').format('YYYY-MM-dd').getInfo()\n",
    "\n",
    "print(f\"Date range for composites: {START_90_DAYS} to {END_DATE}\")\n",
    "print(f\"Calculated START_7: {START_7_DAYS}\")\n",
    "print(f\"Calculated START_30: {START_30_DAYS}\")\n",
    "print(f\"Calculated START_90: {START_90_DAYS}\")"
   ]
  },
  {
   "cell_type": "code",
   "execution_count": 8,
   "id": "abc9d70d",
   "metadata": {},
   "outputs": [
    {
     "data": {
      "text/html": [
       "\n",
       "            <style>\n",
       "                .geemap-dark {\n",
       "                    --jp-widgets-color: white;\n",
       "                    --jp-widgets-label-color: white;\n",
       "                    --jp-ui-font-color1: white;\n",
       "                    --jp-layout-color2: #454545;\n",
       "                    background-color: #383838;\n",
       "                }\n",
       "\n",
       "                .geemap-dark .jupyter-button {\n",
       "                    --jp-layout-color3: #383838;\n",
       "                }\n",
       "\n",
       "                .geemap-colab {\n",
       "                    background-color: var(--colab-primary-surface-color, white);\n",
       "                }\n",
       "\n",
       "                .geemap-colab .jupyter-button {\n",
       "                    --jp-layout-color3: var(--colab-primary-surface-color, white);\n",
       "                }\n",
       "            </style>\n",
       "            "
      ],
      "text/plain": [
       "<IPython.core.display.HTML object>"
      ]
     },
     "metadata": {},
     "output_type": "display_data"
    },
    {
     "name": "stderr",
     "output_type": "stream",
     "text": [
      "c:\\Users\\ADMIN\\anaconda3\\envs\\learn-env\\lib\\site-packages\\ee\\deprecation.py:207: DeprecationWarning: \n",
      "\n",
      "Attention required for NASA_USDA/HSL/SMAP_soil_moisture! You are using a deprecated asset.\n",
      "To ensure continued functionality, please update it.\n",
      "Learn more: https://developers.google.com/earth-engine/datasets/catalog/NASA_USDA_HSL_SMAP_soil_moisture\n",
      "\n",
      "  warnings.warn(warning, category=DeprecationWarning)\n"
     ]
    }
   ],
   "source": [
    "# Define the image collections\n",
    "chirps = ee.ImageCollection(\"UCSB-CHG/CHIRPS/DAILY\").select(\"precipitation\")\n",
    "ndvi = ee.ImageCollection(\"MODIS/061/MOD13Q1\").select(\"NDVI\")\n",
    "lst = ee.ImageCollection(\"MODIS/061/MOD11A2\").select(\"LST_Day_1km\")\n",
    "soil = ee.ImageCollection(\"NASA_USDA/HSL/SMAP_soil_moisture\").select(\"ssm\")\n",
    "pop = ee.Image(\"WorldPop/GP/100m/pop/KEN_2020\").select(\"population\") # 'pop' band in WorldPop 100m dataset is 'population'"
   ]
  },
  {
   "cell_type": "code",
   "execution_count": 9,
   "id": "844d8786",
   "metadata": {},
   "outputs": [
    {
     "data": {
      "text/html": [
       "\n",
       "            <style>\n",
       "                .geemap-dark {\n",
       "                    --jp-widgets-color: white;\n",
       "                    --jp-widgets-label-color: white;\n",
       "                    --jp-ui-font-color1: white;\n",
       "                    --jp-layout-color2: #454545;\n",
       "                    background-color: #383838;\n",
       "                }\n",
       "\n",
       "                .geemap-dark .jupyter-button {\n",
       "                    --jp-layout-color3: #383838;\n",
       "                }\n",
       "\n",
       "                .geemap-colab {\n",
       "                    background-color: var(--colab-primary-surface-color, white);\n",
       "                }\n",
       "\n",
       "                .geemap-colab .jupyter-button {\n",
       "                    --jp-layout-color3: var(--colab-primary-surface-color, white);\n",
       "                }\n",
       "            </style>\n",
       "            "
      ],
      "text/plain": [
       "<IPython.core.display.HTML object>"
      ]
     },
     "metadata": {},
     "output_type": "display_data"
    },
    {
     "name": "stdout",
     "output_type": "stream",
     "text": [
      "Converted 5000 water points to ee.FeatureCollection.\n"
     ]
    }
   ],
   "source": [
    "features = []\n",
    "for _, row in wpdx_for_gee.iterrows():\n",
    "    geom = ee.Geometry.Point([row['longitude'], row['latitude']])\n",
    "    properties = row.drop(['latitude', 'longitude']).to_dict()\n",
    "    features.append(ee.Feature(geom, properties))\n",
    "\n",
    "wpdx_fc = ee.FeatureCollection(features)\n",
    "print(f\"Converted {wpdx_fc.size().getInfo()} water points to ee.FeatureCollection.\")"
   ]
  },
  {
   "cell_type": "code",
   "execution_count": 10,
   "id": "35693a3f",
   "metadata": {},
   "outputs": [
    {
     "data": {
      "text/html": [
       "\n",
       "            <style>\n",
       "                .geemap-dark {\n",
       "                    --jp-widgets-color: white;\n",
       "                    --jp-widgets-label-color: white;\n",
       "                    --jp-ui-font-color1: white;\n",
       "                    --jp-layout-color2: #454545;\n",
       "                    background-color: #383838;\n",
       "                }\n",
       "\n",
       "                .geemap-dark .jupyter-button {\n",
       "                    --jp-layout-color3: #383838;\n",
       "                }\n",
       "\n",
       "                .geemap-colab {\n",
       "                    background-color: var(--colab-primary-surface-color, white);\n",
       "                }\n",
       "\n",
       "                .geemap-colab .jupyter-button {\n",
       "                    --jp-layout-color3: var(--colab-primary-surface-color, white);\n",
       "                }\n",
       "            </style>\n",
       "            "
      ],
      "text/plain": [
       "<IPython.core.display.HTML object>"
      ]
     },
     "metadata": {},
     "output_type": "display_data"
    },
    {
     "name": "stdout",
     "output_type": "stream",
     "text": [
      "Extraction function defined.\n"
     ]
    }
   ],
   "source": [
    "# Function for Extraction \n",
    "\n",
    "\n",
    "def extract_var(ic_or_img, start, end, band, scale):\n",
    "    \"\"\"\n",
    "    Extracts mean value of a band for each feature in wpdx_fc from an ImageCollection or Image.\n",
    "    Applies scale factors and handles static images.\n",
    "    \"\"\"\n",
    "    if isinstance(ic_or_img, ee.ImageCollection):\n",
    "        img = ic_or_img.filterDate(start, end).mean().select(band)\n",
    "    else: # Assume it's an ee.Image for static data\n",
    "        img = ic_or_img.select(band)\n",
    "\n",
    "    # Apply specific scale factors/conversions\n",
    "    if band == \"NDVI\":\n",
    "        img = img.multiply(0.0001) # MODIS NDVI scale factor\n",
    "    elif band == \"LST_Day_1km\":\n",
    "        img = img.multiply(0.02).subtract(273.15) # MODIS LST scale factor (K to C)\n",
    "\n",
    "    # Sample regions and return as FeatureCollection\n",
    "    return img.sampleRegions(collection=wpdx_fc, scale=scale, geometries=True)\n",
    "\n",
    "print(\"Extraction function defined.\")\n"
   ]
  },
  {
   "cell_type": "code",
   "execution_count": 11,
   "id": "6374ff59",
   "metadata": {},
   "outputs": [
    {
     "data": {
      "text/html": [
       "\n",
       "            <style>\n",
       "                .geemap-dark {\n",
       "                    --jp-widgets-color: white;\n",
       "                    --jp-widgets-label-color: white;\n",
       "                    --jp-ui-font-color1: white;\n",
       "                    --jp-layout-color2: #454545;\n",
       "                    background-color: #383838;\n",
       "                }\n",
       "\n",
       "                .geemap-dark .jupyter-button {\n",
       "                    --jp-layout-color3: #383838;\n",
       "                }\n",
       "\n",
       "                .geemap-colab {\n",
       "                    background-color: var(--colab-primary-surface-color, white);\n",
       "                }\n",
       "\n",
       "                .geemap-colab .jupyter-button {\n",
       "                    --jp-layout-color3: var(--colab-primary-surface-color, white);\n",
       "                }\n",
       "            </style>\n",
       "            "
      ],
      "text/plain": [
       "<IPython.core.display.HTML object>"
      ]
     },
     "metadata": {},
     "output_type": "display_data"
    },
    {
     "name": "stdout",
     "output_type": "stream",
     "text": [
      "Environmental FeatureCollections generated.\n"
     ]
    }
   ],
   "source": [
    "# --- 4. Apply for All Variables ---\n",
    "\n",
    "# CHIRPS (Daily Precipitation)\n",
    "chirps_7_fc = extract_var(chirps, START_7_DAYS, END_DATE, \"precipitation\", 5000)\n",
    "chirps_30_fc = extract_var(chirps, START_30_DAYS, END_DATE, \"precipitation\", 5000)\n",
    "chirps_90_fc = extract_var(chirps, START_90_DAYS, END_DATE, \"precipitation\", 5000)\n",
    "\n",
    "# NDVI (16-day composite)\n",
    "ndvi_7_fc = extract_var(ndvi, START_7_DAYS, END_DATE, \"NDVI\", 250)\n",
    "ndvi_30_fc = extract_var(ndvi, START_30_DAYS, END_DATE, \"NDVI\", 250)\n",
    "ndvi_90_fc = extract_var(ndvi, START_90_DAYS, END_DATE, \"NDVI\", 250)\n",
    "\n",
    "# LST (8-day composite)\n",
    "lst_7_fc = extract_var(lst, START_7_DAYS, END_DATE, \"LST_Day_1km\", 1000)\n",
    "lst_30_fc = extract_var(lst, START_30_DAYS, END_DATE, \"LST_Day_1km\", 1000)\n",
    "lst_90_fc = extract_var(lst, START_90_DAYS, END_DATE, \"LST_Day_1km\", 1000)\n",
    "\n",
    "# Soil Moisture (Daily)\n",
    "soil_7_fc = extract_var(soil, START_7_DAYS, END_DATE, \"ssm\", 9000)\n",
    "soil_30_fc = extract_var(soil, START_30_DAYS, END_DATE, \"ssm\", 9000)\n",
    "soil_90_fc = extract_var(soil, START_90_DAYS, END_DATE, \"ssm\", 9000)\n",
    "\n",
    "# Population Density (Static Image)\n",
    "pop_feat_fc = extract_var(pop, None, None, \"population\", 100)\n",
    "\n",
    "print(\"Environmental FeatureCollections generated.\")"
   ]
  },
  {
   "cell_type": "code",
   "execution_count": 12,
   "id": "4f01cddd",
   "metadata": {},
   "outputs": [
    {
     "data": {
      "text/html": [
       "\n",
       "            <style>\n",
       "                .geemap-dark {\n",
       "                    --jp-widgets-color: white;\n",
       "                    --jp-widgets-label-color: white;\n",
       "                    --jp-ui-font-color1: white;\n",
       "                    --jp-layout-color2: #454545;\n",
       "                    background-color: #383838;\n",
       "                }\n",
       "\n",
       "                .geemap-dark .jupyter-button {\n",
       "                    --jp-layout-color3: #383838;\n",
       "                }\n",
       "\n",
       "                .geemap-colab {\n",
       "                    background-color: var(--colab-primary-surface-color, white);\n",
       "                }\n",
       "\n",
       "                .geemap-colab .jupyter-button {\n",
       "                    --jp-layout-color3: var(--colab-primary-surface-color, white);\n",
       "                }\n",
       "            </style>\n",
       "            "
      ],
      "text/plain": [
       "<IPython.core.display.HTML object>"
      ]
     },
     "metadata": {},
     "output_type": "display_data"
    },
    {
     "name": "stdout",
     "output_type": "stream",
     "text": [
      "\n",
      "--- Example Retrieved Data (first feature) ---\n",
      "CHIRPS 30-day (precipitation): {'precipitation': 5.8042988777160645, 'pt_id': '6GGP5HF3+VR8'}\n",
      "NDVI 30-day (NDVI): {'NDVI': 0.7792, 'pt_id': '6GGP5HF3+VR8'}\n",
      "LST 30-day (LST_Day_1km): {'LST_Day_1km': 23.620000000000005, 'pt_id': '6GGP5HF3+VR8'}\n",
      "\n",
      "Could not retrieve example data (might be empty FeatureCollection or other GEE error): Image.select: Band pattern 'ssm' was applied to an Image with no bands. See https://developers.google.com/earth-engine/guides/debugging#no-bands\n"
     ]
    }
   ],
   "source": [
    "#  Accessing Data \n",
    "try:\n",
    "    print(\"\\n--- Example Retrieved Data (first feature) ---\")\n",
    "    print(f\"CHIRPS 30-day (precipitation): {chirps_30_fc.first().getInfo().get('properties')}\")\n",
    "    print(f\"NDVI 30-day (NDVI): {ndvi_30_fc.first().getInfo().get('properties')}\")\n",
    "    print(f\"LST 30-day (LST_Day_1km): {lst_30_fc.first().getInfo().get('properties')}\")\n",
    "    print(f\"Soil 30-day (ssm): {soil_30_fc.first().getInfo().get('properties')}\")\n",
    "    print(f\"Population (population): {pop_feat_fc.first().getInfo().get('properties')}\")\n",
    "except Exception as e:\n",
    "    print(f\"\\nCould not retrieve example data (might be empty FeatureCollection or other GEE error): {e}\")\n"
   ]
  },
  {
   "cell_type": "markdown",
   "id": "443222ec",
   "metadata": {},
   "source": [
    "- the soil one needs to be removed maybe"
   ]
  },
  {
   "cell_type": "code",
   "execution_count": 13,
   "id": "aaa0ec7c",
   "metadata": {},
   "outputs": [
    {
     "data": {
      "text/html": [
       "\n",
       "            <style>\n",
       "                .geemap-dark {\n",
       "                    --jp-widgets-color: white;\n",
       "                    --jp-widgets-label-color: white;\n",
       "                    --jp-ui-font-color1: white;\n",
       "                    --jp-layout-color2: #454545;\n",
       "                    background-color: #383838;\n",
       "                }\n",
       "\n",
       "                .geemap-dark .jupyter-button {\n",
       "                    --jp-layout-color3: #383838;\n",
       "                }\n",
       "\n",
       "                .geemap-colab {\n",
       "                    background-color: var(--colab-primary-surface-color, white);\n",
       "                }\n",
       "\n",
       "                .geemap-colab .jupyter-button {\n",
       "                    --jp-layout-color3: var(--colab-primary-surface-color, white);\n",
       "                }\n",
       "            </style>\n",
       "            "
      ],
      "text/plain": [
       "<IPython.core.display.HTML object>"
      ]
     },
     "metadata": {},
     "output_type": "display_data"
    },
    {
     "name": "stdout",
     "output_type": "stream",
     "text": [
      "\n",
      "--- Example Retrieved Data (first feature) ---\n"
     ]
    },
    {
     "name": "stdout",
     "output_type": "stream",
     "text": [
      "CHIRPS 30-day (precipitation): {'precipitation': 5.8042988777160645, 'pt_id': '6GGP5HF3+VR8'}\n",
      "NDVI 30-day (NDVI): {'NDVI': 0.7792, 'pt_id': '6GGP5HF3+VR8'}\n",
      "LST 30-day (LST_Day_1km): {'LST_Day_1km': 23.620000000000005, 'pt_id': '6GGP5HF3+VR8'}\n",
      "Population (population): {'population': 10.462027549743652, 'pt_id': '6GGP5HF3+VR8'}\n"
     ]
    }
   ],
   "source": [
    "# Accessing Data without soil\n",
    "try:\n",
    "    print(\"\\n--- Example Retrieved Data (first feature) ---\")\n",
    "    print(f\"CHIRPS 30-day (precipitation): {chirps_30_fc.first().getInfo().get('properties')}\")\n",
    "    print(f\"NDVI 30-day (NDVI): {ndvi_30_fc.first().getInfo().get('properties')}\")\n",
    "    print(f\"LST 30-day (LST_Day_1km): {lst_30_fc.first().getInfo().get('properties')}\")\n",
    "    print(f\"Population (population): {pop_feat_fc.first().getInfo().get('properties')}\")\n",
    "except Exception as e:\n",
    "    print(f\"\\nCould not retrieve example data (might be empty FeatureCollection or other GEE error): {e}\")\n"
   ]
  },
  {
   "cell_type": "markdown",
   "id": "98099e01",
   "metadata": {},
   "source": [
    "## Convert to Pandas Dataframes"
   ]
  },
  {
   "cell_type": "code",
   "execution_count": 19,
   "id": "c13fa380",
   "metadata": {},
   "outputs": [
    {
     "data": {
      "text/html": [
       "\n",
       "            <style>\n",
       "                .geemap-dark {\n",
       "                    --jp-widgets-color: white;\n",
       "                    --jp-widgets-label-color: white;\n",
       "                    --jp-ui-font-color1: white;\n",
       "                    --jp-layout-color2: #454545;\n",
       "                    background-color: #383838;\n",
       "                }\n",
       "\n",
       "                .geemap-dark .jupyter-button {\n",
       "                    --jp-layout-color3: #383838;\n",
       "                }\n",
       "\n",
       "                .geemap-colab {\n",
       "                    background-color: var(--colab-primary-surface-color, white);\n",
       "                }\n",
       "\n",
       "                .geemap-colab .jupyter-button {\n",
       "                    --jp-layout-color3: var(--colab-primary-surface-color, white);\n",
       "                }\n",
       "            </style>\n",
       "            "
      ],
      "text/plain": [
       "<IPython.core.display.HTML object>"
      ]
     },
     "metadata": {},
     "output_type": "display_data"
    }
   ],
   "source": [
    "from datetime import datetime\n",
    "\n",
    "df_chirps_7 = geemap.ee_to_df(chirps_7_fc)\n",
    "df_chirps_30 = geemap.ee_to_df(chirps_30_fc)\n",
    "df_chirps_90 = geemap.ee_to_df(chirps_90_fc)\n",
    "\n",
    "df_ndvi_7 = geemap.ee_to_df(ndvi_7_fc)\n",
    "df_ndvi_30 = geemap.ee_to_df(ndvi_30_fc)\n",
    "df_ndvi_90 = geemap.ee_to_df(ndvi_90_fc)\n",
    "\n",
    "df_lst_7 = geemap.ee_to_df(lst_7_fc)\n",
    "df_lst_30 = geemap.ee_to_df(lst_30_fc)\n",
    "df_lst_90 = geemap.ee_to_df(lst_90_fc)\n",
    "\n",
    "df_pop = geemap.ee_to_df(pop_feat_fc)\n",
    "\n",
    "final_df = wpdx.copy()\n",
    "\n",
    "def merge_ee_df(main_df, ee_df, new_col_prefix):\n",
    "    data_cols = [col for col in ee_df.columns if col not in ['pt_id', 'system:index', '.geo']]\n",
    "    if not data_cols:\n",
    "        return main_df\n",
    "    extracted_col_name = data_cols[0]\n",
    "    ee_df_renamed = ee_df[['pt_id', extracted_col_name]].rename(columns={extracted_col_name: f'{new_col_prefix}_{extracted_col_name}'})\n",
    "    return pd.merge(main_df, ee_df_renamed, on='pt_id', how='left')\n",
    "\n",
    "final_df = merge_ee_df(final_df, df_chirps_7, 'chirps_7')\n",
    "final_df = merge_ee_df(final_df, df_chirps_30, 'chirps_30')\n",
    "final_df = merge_ee_df(final_df, df_chirps_90, 'chirps_90')\n",
    "\n",
    "final_df = merge_ee_df(final_df, df_ndvi_7, 'ndvi_7')\n",
    "final_df = merge_ee_df(final_df, df_ndvi_30, 'ndvi_30')\n",
    "final_df = merge_ee_df(final_df, df_ndvi_90, 'ndvi_90')\n",
    "\n",
    "final_df = merge_ee_df(final_df, df_lst_7, 'lst_7')\n",
    "final_df = merge_ee_df(final_df, df_lst_30, 'lst_30')\n",
    "final_df = merge_ee_df(final_df, df_lst_90, 'lst_90')\n",
    "\n",
    "final_df = merge_ee_df(final_df, df_pop, 'pop')\n",
    "\n",
    "output_csv_filename = \"../data/processed/wpdx_processed.csv\"\n",
    "final_df.to_csv(output_csv_filename, index=False)"
   ]
  },
  {
   "cell_type": "code",
   "execution_count": 20,
   "id": "930429f5",
   "metadata": {},
   "outputs": [
    {
     "data": {
      "text/html": [
       "\n",
       "            <style>\n",
       "                .geemap-dark {\n",
       "                    --jp-widgets-color: white;\n",
       "                    --jp-widgets-label-color: white;\n",
       "                    --jp-ui-font-color1: white;\n",
       "                    --jp-layout-color2: #454545;\n",
       "                    background-color: #383838;\n",
       "                }\n",
       "\n",
       "                .geemap-dark .jupyter-button {\n",
       "                    --jp-layout-color3: #383838;\n",
       "                }\n",
       "\n",
       "                .geemap-colab {\n",
       "                    background-color: var(--colab-primary-surface-color, white);\n",
       "                }\n",
       "\n",
       "                .geemap-colab .jupyter-button {\n",
       "                    --jp-layout-color3: var(--colab-primary-surface-color, white);\n",
       "                }\n",
       "            </style>\n",
       "            "
      ],
      "text/plain": [
       "<IPython.core.display.HTML object>"
      ]
     },
     "metadata": {},
     "output_type": "display_data"
    },
    {
     "data": {
      "application/vnd.microsoft.datawrangler.viewer.v0+json": {
       "columns": [
        {
         "name": "index",
         "rawType": "int64",
         "type": "integer"
        },
        {
         "name": "row_id",
         "rawType": "int64",
         "type": "integer"
        },
        {
         "name": "source",
         "rawType": "object",
         "type": "string"
        },
        {
         "name": "lat_deg",
         "rawType": "float64",
         "type": "float"
        },
        {
         "name": "lon_deg",
         "rawType": "float64",
         "type": "float"
        },
        {
         "name": "report_date",
         "rawType": "object",
         "type": "string"
        },
        {
         "name": "status_id",
         "rawType": "object",
         "type": "string"
        },
        {
         "name": "water_source_clean",
         "rawType": "object",
         "type": "string"
        },
        {
         "name": "water_source_category",
         "rawType": "object",
         "type": "string"
        },
        {
         "name": "water_tech_clean",
         "rawType": "object",
         "type": "unknown"
        },
        {
         "name": "_water_tech_category",
         "rawType": "object",
         "type": "unknown"
        },
        {
         "name": "facility_type",
         "rawType": "object",
         "type": "string"
        },
        {
         "name": "clean_country_name",
         "rawType": "object",
         "type": "string"
        },
        {
         "name": "clean_country_id",
         "rawType": "object",
         "type": "string"
        },
        {
         "name": "clean_adm1",
         "rawType": "object",
         "type": "string"
        },
        {
         "name": "clean_adm2",
         "rawType": "object",
         "type": "string"
        },
        {
         "name": "clean_adm3",
         "rawType": "object",
         "type": "string"
        },
        {
         "name": "clean_adm4",
         "rawType": "float64",
         "type": "float"
        },
        {
         "name": "install_year",
         "rawType": "float64",
         "type": "float"
        },
        {
         "name": "installer",
         "rawType": "object",
         "type": "unknown"
        },
        {
         "name": "rehab_year",
         "rawType": "float64",
         "type": "float"
        },
        {
         "name": "rehabilitator",
         "rawType": "float64",
         "type": "float"
        },
        {
         "name": "management_clean",
         "rawType": "object",
         "type": "unknown"
        },
        {
         "name": "status_clean",
         "rawType": "object",
         "type": "string"
        },
        {
         "name": "pay_clean",
         "rawType": "object",
         "type": "unknown"
        },
        {
         "name": "fecal_coliform_presence",
         "rawType": "float64",
         "type": "float"
        },
        {
         "name": "fecal_coliform_value",
         "rawType": "float64",
         "type": "float"
        },
        {
         "name": "subjective_quality_clean",
         "rawType": "object",
         "type": "unknown"
        },
        {
         "name": "activity_id",
         "rawType": "object",
         "type": "string"
        },
        {
         "name": "scheme_id",
         "rawType": "float64",
         "type": "float"
        },
        {
         "name": "pt_id",
         "rawType": "object",
         "type": "string"
        },
        {
         "name": "notes",
         "rawType": "object",
         "type": "unknown"
        },
        {
         "name": "orig_lnk",
         "rawType": "object",
         "type": "unknown"
        },
        {
         "name": "photo_lnk",
         "rawType": "object",
         "type": "unknown"
        },
        {
         "name": "country_id",
         "rawType": "object",
         "type": "string"
        },
        {
         "name": "data_lnk",
         "rawType": "object",
         "type": "string"
        },
        {
         "name": "distance_to_primary",
         "rawType": "float64",
         "type": "float"
        },
        {
         "name": "distance_to_secondary",
         "rawType": "float64",
         "type": "float"
        },
        {
         "name": "distance_to_tertiary",
         "rawType": "float64",
         "type": "float"
        },
        {
         "name": "distance_to_city",
         "rawType": "float64",
         "type": "float"
        },
        {
         "name": "distance_to_town",
         "rawType": "float64",
         "type": "float"
        },
        {
         "name": "water_point_history",
         "rawType": "object",
         "type": "string"
        },
        {
         "name": "local_population",
         "rawType": "float64",
         "type": "float"
        },
        {
         "name": "served_population",
         "rawType": "float64",
         "type": "float"
        },
        {
         "name": "rehab_priority",
         "rawType": "float64",
         "type": "float"
        },
        {
         "name": "_pop_who_would_gain_access",
         "rawType": "float64",
         "type": "float"
        },
        {
         "name": "crucialness",
         "rawType": "float64",
         "type": "float"
        },
        {
         "name": "pressure",
         "rawType": "float64",
         "type": "float"
        },
        {
         "name": "usage_cap",
         "rawType": "float64",
         "type": "float"
        },
        {
         "name": "days_since_report",
         "rawType": "int64",
         "type": "integer"
        },
        {
         "name": "staleness_score",
         "rawType": "float64",
         "type": "float"
        },
        {
         "name": "is_latest",
         "rawType": "bool",
         "type": "boolean"
        },
        {
         "name": "location_id",
         "rawType": "int64",
         "type": "integer"
        },
        {
         "name": "is_urban",
         "rawType": "bool",
         "type": "boolean"
        },
        {
         "name": "cluster_size",
         "rawType": "int64",
         "type": "integer"
        },
        {
         "name": "country_name",
         "rawType": "object",
         "type": "string"
        },
        {
         "name": "water_source",
         "rawType": "object",
         "type": "string"
        },
        {
         "name": "water_tech",
         "rawType": "object",
         "type": "unknown"
        },
        {
         "name": "status",
         "rawType": "object",
         "type": "unknown"
        },
        {
         "name": "adm1",
         "rawType": "object",
         "type": "string"
        },
        {
         "name": "adm2",
         "rawType": "object",
         "type": "string"
        },
        {
         "name": "adm3",
         "rawType": "object",
         "type": "string"
        },
        {
         "name": "management",
         "rawType": "object",
         "type": "unknown"
        },
        {
         "name": "pay",
         "rawType": "object",
         "type": "unknown"
        },
        {
         "name": "subjective_quality",
         "rawType": "object",
         "type": "unknown"
        },
        {
         "name": "new_georeferenced_column_",
         "rawType": "object",
         "type": "string"
        },
        {
         "name": "lat_lon_deg",
         "rawType": "object",
         "type": "string"
        },
        {
         "name": "public_data_source",
         "rawType": "object",
         "type": "string"
        },
        {
         "name": "converted",
         "rawType": "object",
         "type": "unknown"
        },
        {
         "name": "count",
         "rawType": "int64",
         "type": "integer"
        },
        {
         "name": "created_timestamp",
         "rawType": "object",
         "type": "string"
        },
        {
         "name": "updated",
         "rawType": "object",
         "type": "string"
        },
        {
         "name": "is_duplicate",
         "rawType": "object",
         "type": "unknown"
        },
        {
         "name": "dataset_title",
         "rawType": "object",
         "type": "string"
        },
        {
         "name": "latitude",
         "rawType": "float64",
         "type": "float"
        },
        {
         "name": "longitude",
         "rawType": "float64",
         "type": "float"
        },
        {
         "name": "chirps_7_precipitation",
         "rawType": "float64",
         "type": "float"
        },
        {
         "name": "chirps_30_precipitation",
         "rawType": "float64",
         "type": "float"
        },
        {
         "name": "chirps_90_precipitation",
         "rawType": "float64",
         "type": "float"
        },
        {
         "name": "ndvi_7_NDVI",
         "rawType": "float64",
         "type": "float"
        },
        {
         "name": "ndvi_30_NDVI",
         "rawType": "float64",
         "type": "float"
        },
        {
         "name": "ndvi_90_NDVI",
         "rawType": "float64",
         "type": "float"
        },
        {
         "name": "lst_7_LST_Day_1km",
         "rawType": "float64",
         "type": "float"
        },
        {
         "name": "lst_30_LST_Day_1km",
         "rawType": "float64",
         "type": "float"
        },
        {
         "name": "lst_90_LST_Day_1km",
         "rawType": "float64",
         "type": "float"
        },
        {
         "name": "pop_population",
         "rawType": "float64",
         "type": "float"
        }
       ],
       "ref": "ef6c3b65-d7e9-41c1-a5d1-47cbb34682f4",
       "rows": [
        [
         "0",
         "215873",
         "Evidence Action",
         "0.1746683333",
         "34.5545716667",
         "2023-02-11T00:00:00.000",
         "Yes",
         "Protected Well",
         "Well",
         "Motorized Pump - Electric",
         "Motorized Pump",
         "Improved",
         "Kenya",
         "KEN",
         "Kakamega",
         "Khwisero",
         "Kisa Central",
         null,
         null,
         null,
         null,
         null,
         null,
         "Non-Functional",
         null,
         null,
         null,
         null,
         "10360365",
         null,
         "6GGP5HF3+VR8",
         null,
         null,
         null,
         "KE",
         "https://catalog.waterpointdata.org/datasets/evidence-action-kenya-2023-2024-66217272",
         "9183.615387949634",
         "429.8411969045763",
         "6642.740054394348",
         "24850.73496713258",
         "4452.0847894311",
         "{\"2023-02-11\": {\"source\": \"Evidence Action\", \"status_id\": \"Yes\", \"water_source_clean\": \"Protected Well\", \"water_tech_clean\": \"Motorized Pump - Electric\"}}",
         "2712.0",
         "251.0",
         null,
         null,
         "0.092551622418879",
         "0.8366666666666667",
         "300.0",
         "498",
         "85.47244265543571",
         "True",
         "424804",
         "False",
         "1",
         "Kenya",
         "Protected Spring (not powered by solar/electricity)",
         null,
         null,
         "Kakamega",
         "Khwisero",
         "Wambulishe",
         null,
         null,
         null,
         "POINT (34.5545716667 0.1746683333)",
         "(0.1746683333°, 34.5545716667°)",
         "https://catalog.waterpointdata.org/datafiles/evidence-action-kenya-2023-2024-66217272.xlsx",
         null,
         "1",
         "2024-04-18T19:20:18.000",
         "2024-04-18T19:20:18.000",
         null,
         "Evidence Action_Kenya_2023-2024",
         "0.174668",
         "34.554572",
         "4.914062023162842",
         "5.8042988777160645",
         "11.215961456298828",
         "0.7685000000000001",
         "0.7792",
         "0.76585",
         "23.350000000000023",
         "23.620000000000005",
         "24.402727272727304",
         "10.462027549743652"
        ],
        [
         "1",
         "215240",
         "Evidence Action",
         "0.2208299934864044",
         "34.56548309326172",
         "2023-11-15T00:00:00.000",
         "Yes",
         "Protected Well",
         "Well",
         "Motorized Pump - Electric",
         "Motorized Pump",
         "Improved",
         "Kenya",
         "KEN",
         "Kakamega",
         "Butere",
         "Marama North",
         null,
         null,
         null,
         null,
         null,
         null,
         "Non-Functional",
         null,
         null,
         null,
         null,
         "10350314",
         null,
         "6GGP6HC8+85Q",
         null,
         null,
         null,
         "KE",
         "https://catalog.waterpointdata.org/datasets/evidence-action-kenya-2023-2024-66217272",
         "9834.545268755326",
         "3503.2821247059774",
         "1517.239132387216",
         "21670.55471390281",
         "5409.694760788651",
         "{\"2023-11-15\": {\"source\": \"Evidence Action\", \"status_id\": \"Yes\", \"water_source_clean\": \"Protected Well\", \"water_tech_clean\": \"Motorized Pump - Electric\"}}",
         "2245.0",
         "124.0",
         null,
         null,
         "0.0552338530066815",
         "0.4133333333333333",
         "300.0",
         "221",
         "93.27089144096396",
         "True",
         "429698",
         "False",
         "1",
         "Kenya",
         "Protected Spring (not powered by solar/electricity)",
         null,
         null,
         "Kakamega",
         "Butere",
         "Inaya",
         null,
         null,
         null,
         "POINT (34.56548309326172 0.2208299934864044)",
         "(0.22082999348640442°, 34.56548309326172°)",
         "https://catalog.waterpointdata.org/datafiles/evidence-action-kenya-2023-2024-66217272.xlsx",
         null,
         "1",
         "2024-04-18T19:20:18.000",
         "2024-04-18T19:20:18.000",
         null,
         "Evidence Action_Kenya_2023-2024",
         "0.22083",
         "34.565483",
         "3.862696409225464",
         "5.864280700683594",
         "11.359582901000977",
         "0.7642",
         "0.77615",
         "0.7458166666666667",
         "23.630000000000052",
         "23.370000000000005",
         "24.260909090909138",
         "6.315442085266113"
        ],
        [
         "2",
         "194605",
         "Evidence Action",
         "0.0442349985241889",
         "34.33977508544922",
         "2023-11-15T00:00:00.000",
         "Yes",
         "Protected Well",
         "Well",
         "Motorized Pump - Electric",
         "Motorized Pump",
         "Improved",
         "Kenya",
         "KEN",
         "Siaya",
         "Alego Usonga",
         "South East Alego",
         null,
         null,
         null,
         null,
         null,
         null,
         "Non-Functional",
         null,
         null,
         null,
         null,
         "10220031",
         null,
         "6GGP28VQ+MWR",
         null,
         null,
         null,
         "KE",
         "https://catalog.waterpointdata.org/datasets/evidence-action-kenya-2023-2024-66217272",
         "12946.140250343971",
         "399.8488152113533",
         "5794.867044175745",
         "48916.565807831015",
         "6224.175722962272",
         "{\"2023-11-15\": {\"source\": \"Evidence Action\", \"status_id\": \"Yes\", \"water_source_clean\": \"Protected Well\", \"water_tech_clean\": \"Motorized Pump - Electric\"}}",
         "2519.0",
         "503.0",
         null,
         null,
         "0.1996824136562127",
         "1.6766666666666667",
         "300.0",
         "221",
         "93.27089144096396",
         "True",
         "429638",
         "False",
         "1",
         "Kenya",
         "Protected Spring (not powered by solar/electricity)",
         null,
         null,
         "Siaya",
         "Alego Usonga",
         "Bar_Agulu",
         null,
         null,
         null,
         "POINT (34.33977508544922 0.044234998524189)",
         "(0.044234998524188995°, 34.33977508544922°)",
         "https://catalog.waterpointdata.org/datafiles/evidence-action-kenya-2023-2024-66217272.xlsx",
         null,
         "1",
         "2024-04-18T19:20:18.000",
         "2024-04-18T19:20:18.000",
         null,
         "Evidence Action_Kenya_2023-2024",
         "0.044235",
         "34.339775",
         "2.1135671138763428",
         "2.798804521560669",
         "7.549499034881592",
         "0.7348",
         "0.73455",
         "0.71665",
         "24.890000000000043",
         "24.350000000000023",
         "24.922000000000025",
         "5.745560646057129"
        ],
        [
         "3",
         "219017",
         "Evidence Action",
         "-0.4499333202838897",
         "34.79416275024414",
         "2023-11-17T00:00:00.000",
         "Yes",
         "Borehole/Tubewell",
         "Well",
         null,
         null,
         "Improved",
         "Kenya",
         "KEN",
         "Homa Bay",
         "Kabondo Kasipul",
         "Kokwanyo/Kakelo",
         null,
         null,
         null,
         null,
         null,
         null,
         "Non-Functional",
         null,
         null,
         null,
         null,
         "10490048",
         null,
         "6GFPHQ2V+2MF",
         null,
         null,
         null,
         "KE",
         "https://catalog.waterpointdata.org/datasets/evidence-action-kenya-2023-2024-66217272",
         "23978.703448061144",
         "9027.692765516033",
         "5864.685444137268",
         "24445.561710271264",
         "9379.488104936052",
         "{\"2023-11-17\": {\"source\": \"Evidence Action\", \"status_id\": \"Yes\", \"water_source_clean\": \"Borehole/Tubewell\"}}",
         "1502.0",
         "686.0",
         null,
         null,
         "0.4567243675099867",
         "2.286666666666666",
         "300.0",
         "219",
         "93.32971041054398",
         "True",
         "430221",
         "False",
         "1",
         "Kenya",
         "Borehole",
         null,
         null,
         "Homa Bay",
         "Rachuonyo East",
         "Kakello Kamroth",
         null,
         null,
         null,
         "POINT (34.79416275024414 -0.4499333202838898)",
         "(-0.44993332028388977°, 34.79416275024414°)",
         "https://catalog.waterpointdata.org/datafiles/evidence-action-kenya-2023-2024-66217272.xlsx",
         null,
         "1",
         "2024-04-18T19:20:18.000",
         "2024-04-18T19:20:18.000",
         null,
         "Evidence Action_Kenya_2023-2024",
         "-0.449933",
         "34.794163",
         "2.045830488204956",
         "2.790391445159912",
         "7.499787330627441",
         "0.7235",
         "0.7342000000000001",
         "0.7300166666666668",
         "24.410000000000025",
         "24.310000000000002",
         "24.433636363636367",
         "3.1033058166503906"
        ],
        [
         "4",
         "587740",
         "USAID/KEA KIWASH",
         "0.4971599",
         "34.831463",
         "2021-02-05T00:00:00.000",
         "No",
         "Undefined Well",
         "Well",
         "Public Tapstand",
         "Public Tapstand",
         "Improved",
         "Kenya",
         "KEN",
         "Kakamega",
         "Malava",
         "Butali/Chegulo",
         null,
         "2014.0",
         null,
         null,
         null,
         "Private Operator/Delegated Management",
         "Non-Functional, dry season",
         null,
         null,
         null,
         "Acceptable quality",
         "kakamegamapping-96SVAJ",
         null,
         "6GGPFRWJ+VH8",
         null,
         null,
         "https://api.mwater.co/v3/images/b09a0f8f55e6453e89e3333505c6186e",
         "KE",
         "https://catalog.waterpointdata.org/datasets/usaid-kiwash-kenya-2021-6372a622",
         "24860.72749529318",
         "20338.383953520424",
         "4072.968359562325",
         "25326.529082254987",
         "14067.6033080141",
         "{\"2021-02-05\": {\"photo_lnk\": \"https://api.mwater.co/v3/images/b09a0f8f55e6453e89e3333505c6186e\", \"source\": \"USAID/KEA KIWASH\", \"status_id\": \"No\", \"water_source_clean\": \"Undefined Well\", \"water_tech_clean\": \"Public Tapstand\"}}",
         "2889.0",
         "910.0",
         "910.0",
         "5.76637077331543",
         "0.314987885081343",
         "3.033333333333333",
         "300.0",
         "1234",
         "67.7752514743934",
         "True",
         "406678",
         "False",
         "1",
         "Kenya",
         "Protected hand dug/ shallow well",
         "KIOSK, public tap",
         "No- due to seasonal drought",
         "Kakamega",
         "Malava",
         "Butali/chegulo",
         "Private operator/ professional manager",
         null,
         "Yes, the water is treated and safe for drinking",
         "POINT (34.831463 0.4971599)",
         "(0.4971599°, 34.831463°)",
         "https://catalog.waterpointdata.org/datafiles/usaid-kiwash-kenya-2021-6372a622.csv",
         "#status_id, #orig_lnk",
         "1",
         "2022-11-14T20:33:38.000",
         "2022-11-14T20:33:38.000",
         null,
         "USAID_KIWASH_Kenya_2021",
         "0.49716",
         "34.831463",
         "4.0754523277282715",
         "5.655031204223633",
         "9.077164649963379",
         "0.7256",
         "0.7433500000000001",
         "0.7118666666666668",
         "23.79000000000002",
         "23.435000000000002",
         "24.326000000000022",
         "7.758868217468262"
        ]
       ],
       "shape": {
        "columns": 85,
        "rows": 5
       }
      },
      "text/html": [
       "<div>\n",
       "<style scoped>\n",
       "    .dataframe tbody tr th:only-of-type {\n",
       "        vertical-align: middle;\n",
       "    }\n",
       "\n",
       "    .dataframe tbody tr th {\n",
       "        vertical-align: top;\n",
       "    }\n",
       "\n",
       "    .dataframe thead th {\n",
       "        text-align: right;\n",
       "    }\n",
       "</style>\n",
       "<table border=\"1\" class=\"dataframe\">\n",
       "  <thead>\n",
       "    <tr style=\"text-align: right;\">\n",
       "      <th></th>\n",
       "      <th>row_id</th>\n",
       "      <th>source</th>\n",
       "      <th>lat_deg</th>\n",
       "      <th>lon_deg</th>\n",
       "      <th>report_date</th>\n",
       "      <th>status_id</th>\n",
       "      <th>water_source_clean</th>\n",
       "      <th>water_source_category</th>\n",
       "      <th>water_tech_clean</th>\n",
       "      <th>_water_tech_category</th>\n",
       "      <th>...</th>\n",
       "      <th>chirps_7_precipitation</th>\n",
       "      <th>chirps_30_precipitation</th>\n",
       "      <th>chirps_90_precipitation</th>\n",
       "      <th>ndvi_7_NDVI</th>\n",
       "      <th>ndvi_30_NDVI</th>\n",
       "      <th>ndvi_90_NDVI</th>\n",
       "      <th>lst_7_LST_Day_1km</th>\n",
       "      <th>lst_30_LST_Day_1km</th>\n",
       "      <th>lst_90_LST_Day_1km</th>\n",
       "      <th>pop_population</th>\n",
       "    </tr>\n",
       "  </thead>\n",
       "  <tbody>\n",
       "    <tr>\n",
       "      <th>0</th>\n",
       "      <td>215873</td>\n",
       "      <td>Evidence Action</td>\n",
       "      <td>0.174668</td>\n",
       "      <td>34.554572</td>\n",
       "      <td>2023-02-11T00:00:00.000</td>\n",
       "      <td>Yes</td>\n",
       "      <td>Protected Well</td>\n",
       "      <td>Well</td>\n",
       "      <td>Motorized Pump - Electric</td>\n",
       "      <td>Motorized Pump</td>\n",
       "      <td>...</td>\n",
       "      <td>4.914062</td>\n",
       "      <td>5.804299</td>\n",
       "      <td>11.215961</td>\n",
       "      <td>0.7685</td>\n",
       "      <td>0.77920</td>\n",
       "      <td>0.765850</td>\n",
       "      <td>23.35</td>\n",
       "      <td>23.620</td>\n",
       "      <td>24.402727</td>\n",
       "      <td>10.462028</td>\n",
       "    </tr>\n",
       "    <tr>\n",
       "      <th>1</th>\n",
       "      <td>215240</td>\n",
       "      <td>Evidence Action</td>\n",
       "      <td>0.220830</td>\n",
       "      <td>34.565483</td>\n",
       "      <td>2023-11-15T00:00:00.000</td>\n",
       "      <td>Yes</td>\n",
       "      <td>Protected Well</td>\n",
       "      <td>Well</td>\n",
       "      <td>Motorized Pump - Electric</td>\n",
       "      <td>Motorized Pump</td>\n",
       "      <td>...</td>\n",
       "      <td>3.862696</td>\n",
       "      <td>5.864281</td>\n",
       "      <td>11.359583</td>\n",
       "      <td>0.7642</td>\n",
       "      <td>0.77615</td>\n",
       "      <td>0.745817</td>\n",
       "      <td>23.63</td>\n",
       "      <td>23.370</td>\n",
       "      <td>24.260909</td>\n",
       "      <td>6.315442</td>\n",
       "    </tr>\n",
       "    <tr>\n",
       "      <th>2</th>\n",
       "      <td>194605</td>\n",
       "      <td>Evidence Action</td>\n",
       "      <td>0.044235</td>\n",
       "      <td>34.339775</td>\n",
       "      <td>2023-11-15T00:00:00.000</td>\n",
       "      <td>Yes</td>\n",
       "      <td>Protected Well</td>\n",
       "      <td>Well</td>\n",
       "      <td>Motorized Pump - Electric</td>\n",
       "      <td>Motorized Pump</td>\n",
       "      <td>...</td>\n",
       "      <td>2.113567</td>\n",
       "      <td>2.798805</td>\n",
       "      <td>7.549499</td>\n",
       "      <td>0.7348</td>\n",
       "      <td>0.73455</td>\n",
       "      <td>0.716650</td>\n",
       "      <td>24.89</td>\n",
       "      <td>24.350</td>\n",
       "      <td>24.922000</td>\n",
       "      <td>5.745561</td>\n",
       "    </tr>\n",
       "    <tr>\n",
       "      <th>3</th>\n",
       "      <td>219017</td>\n",
       "      <td>Evidence Action</td>\n",
       "      <td>-0.449933</td>\n",
       "      <td>34.794163</td>\n",
       "      <td>2023-11-17T00:00:00.000</td>\n",
       "      <td>Yes</td>\n",
       "      <td>Borehole/Tubewell</td>\n",
       "      <td>Well</td>\n",
       "      <td>NaN</td>\n",
       "      <td>NaN</td>\n",
       "      <td>...</td>\n",
       "      <td>2.045830</td>\n",
       "      <td>2.790391</td>\n",
       "      <td>7.499787</td>\n",
       "      <td>0.7235</td>\n",
       "      <td>0.73420</td>\n",
       "      <td>0.730017</td>\n",
       "      <td>24.41</td>\n",
       "      <td>24.310</td>\n",
       "      <td>24.433636</td>\n",
       "      <td>3.103306</td>\n",
       "    </tr>\n",
       "    <tr>\n",
       "      <th>4</th>\n",
       "      <td>587740</td>\n",
       "      <td>USAID/KEA KIWASH</td>\n",
       "      <td>0.497160</td>\n",
       "      <td>34.831463</td>\n",
       "      <td>2021-02-05T00:00:00.000</td>\n",
       "      <td>No</td>\n",
       "      <td>Undefined Well</td>\n",
       "      <td>Well</td>\n",
       "      <td>Public Tapstand</td>\n",
       "      <td>Public Tapstand</td>\n",
       "      <td>...</td>\n",
       "      <td>4.075452</td>\n",
       "      <td>5.655031</td>\n",
       "      <td>9.077165</td>\n",
       "      <td>0.7256</td>\n",
       "      <td>0.74335</td>\n",
       "      <td>0.711867</td>\n",
       "      <td>23.79</td>\n",
       "      <td>23.435</td>\n",
       "      <td>24.326000</td>\n",
       "      <td>7.758868</td>\n",
       "    </tr>\n",
       "  </tbody>\n",
       "</table>\n",
       "<p>5 rows × 85 columns</p>\n",
       "</div>"
      ],
      "text/plain": [
       "   row_id            source   lat_deg    lon_deg              report_date  \\\n",
       "0  215873   Evidence Action  0.174668  34.554572  2023-02-11T00:00:00.000   \n",
       "1  215240   Evidence Action  0.220830  34.565483  2023-11-15T00:00:00.000   \n",
       "2  194605   Evidence Action  0.044235  34.339775  2023-11-15T00:00:00.000   \n",
       "3  219017   Evidence Action -0.449933  34.794163  2023-11-17T00:00:00.000   \n",
       "4  587740  USAID/KEA KIWASH  0.497160  34.831463  2021-02-05T00:00:00.000   \n",
       "\n",
       "  status_id water_source_clean water_source_category  \\\n",
       "0       Yes     Protected Well                  Well   \n",
       "1       Yes     Protected Well                  Well   \n",
       "2       Yes     Protected Well                  Well   \n",
       "3       Yes  Borehole/Tubewell                  Well   \n",
       "4        No     Undefined Well                  Well   \n",
       "\n",
       "            water_tech_clean _water_tech_category  ... chirps_7_precipitation  \\\n",
       "0  Motorized Pump - Electric       Motorized Pump  ...               4.914062   \n",
       "1  Motorized Pump - Electric       Motorized Pump  ...               3.862696   \n",
       "2  Motorized Pump - Electric       Motorized Pump  ...               2.113567   \n",
       "3                        NaN                  NaN  ...               2.045830   \n",
       "4            Public Tapstand      Public Tapstand  ...               4.075452   \n",
       "\n",
       "  chirps_30_precipitation chirps_90_precipitation ndvi_7_NDVI ndvi_30_NDVI  \\\n",
       "0                5.804299               11.215961      0.7685      0.77920   \n",
       "1                5.864281               11.359583      0.7642      0.77615   \n",
       "2                2.798805                7.549499      0.7348      0.73455   \n",
       "3                2.790391                7.499787      0.7235      0.73420   \n",
       "4                5.655031                9.077165      0.7256      0.74335   \n",
       "\n",
       "  ndvi_90_NDVI  lst_7_LST_Day_1km  lst_30_LST_Day_1km lst_90_LST_Day_1km  \\\n",
       "0     0.765850              23.35              23.620          24.402727   \n",
       "1     0.745817              23.63              23.370          24.260909   \n",
       "2     0.716650              24.89              24.350          24.922000   \n",
       "3     0.730017              24.41              24.310          24.433636   \n",
       "4     0.711867              23.79              23.435          24.326000   \n",
       "\n",
       "   pop_population  \n",
       "0       10.462028  \n",
       "1        6.315442  \n",
       "2        5.745561  \n",
       "3        3.103306  \n",
       "4        7.758868  \n",
       "\n",
       "[5 rows x 85 columns]"
      ]
     },
     "execution_count": 20,
     "metadata": {},
     "output_type": "execute_result"
    }
   ],
   "source": [
    "final_df.head()"
   ]
  },
  {
   "cell_type": "code",
   "execution_count": 18,
   "id": "9ee6f559",
   "metadata": {},
   "outputs": [
    {
     "data": {
      "text/html": [
       "\n",
       "            <style>\n",
       "                .geemap-dark {\n",
       "                    --jp-widgets-color: white;\n",
       "                    --jp-widgets-label-color: white;\n",
       "                    --jp-ui-font-color1: white;\n",
       "                    --jp-layout-color2: #454545;\n",
       "                    background-color: #383838;\n",
       "                }\n",
       "\n",
       "                .geemap-dark .jupyter-button {\n",
       "                    --jp-layout-color3: #383838;\n",
       "                }\n",
       "\n",
       "                .geemap-colab {\n",
       "                    background-color: var(--colab-primary-surface-color, white);\n",
       "                }\n",
       "\n",
       "                .geemap-colab .jupyter-button {\n",
       "                    --jp-layout-color3: var(--colab-primary-surface-color, white);\n",
       "                }\n",
       "            </style>\n",
       "            "
      ],
      "text/plain": [
       "<IPython.core.display.HTML object>"
      ]
     },
     "metadata": {},
     "output_type": "display_data"
    },
    {
     "name": "stdout",
     "output_type": "stream",
     "text": [
      "<class 'pandas.core.frame.DataFrame'>\n",
      "RangeIndex: 21368 entries, 0 to 21367\n",
      "Data columns (total 85 columns):\n",
      " #   Column                      Non-Null Count  Dtype  \n",
      "---  ------                      --------------  -----  \n",
      " 0   row_id                      21368 non-null  int64  \n",
      " 1   source                      21368 non-null  object \n",
      " 2   lat_deg                     21368 non-null  float64\n",
      " 3   lon_deg                     21368 non-null  float64\n",
      " 4   report_date                 21368 non-null  object \n",
      " 5   status_id                   21368 non-null  object \n",
      " 6   water_source_clean          21342 non-null  object \n",
      " 7   water_source_category       21342 non-null  object \n",
      " 8   water_tech_clean            15937 non-null  object \n",
      " 9   _water_tech_category        15787 non-null  object \n",
      " 10  facility_type               21368 non-null  object \n",
      " 11  clean_country_name          21368 non-null  object \n",
      " 12  clean_country_id            21368 non-null  object \n",
      " 13  clean_adm1                  21368 non-null  object \n",
      " 14  clean_adm2                  21368 non-null  object \n",
      " 15  clean_adm3                  21368 non-null  object \n",
      " 16  clean_adm4                  0 non-null      float64\n",
      " 17  install_year                6403 non-null   float64\n",
      " 18  installer                   5025 non-null   object \n",
      " 19  rehab_year                  0 non-null      float64\n",
      " 20  rehabilitator               0 non-null      float64\n",
      " 21  management_clean            6398 non-null   object \n",
      " 22  status_clean                21368 non-null  object \n",
      " 23  pay_clean                   805 non-null    object \n",
      " 24  fecal_coliform_presence     0 non-null      float64\n",
      " 25  fecal_coliform_value        0 non-null      float64\n",
      " 26  subjective_quality_clean    6419 non-null   object \n",
      " 27  activity_id                 20864 non-null  object \n",
      " 28  scheme_id                   0 non-null      float64\n",
      " 29  pt_id                       21368 non-null  object \n",
      " 30  notes                       762 non-null    object \n",
      " 31  orig_lnk                    811 non-null    object \n",
      " 32  photo_lnk                   6419 non-null   object \n",
      " 33  country_id                  21354 non-null  object \n",
      " 34  data_lnk                    21368 non-null  object \n",
      " 35  distance_to_primary         21368 non-null  float64\n",
      " 36  distance_to_secondary       21368 non-null  float64\n",
      " 37  distance_to_tertiary        21368 non-null  float64\n",
      " 38  distance_to_city            21358 non-null  float64\n",
      " 39  distance_to_town            21368 non-null  float64\n",
      " 40  water_point_history         21368 non-null  object \n",
      " 41  local_population            21166 non-null  float64\n",
      " 42  served_population           21166 non-null  float64\n",
      " 43  rehab_priority              2531 non-null   float64\n",
      " 44  _pop_who_would_gain_access  2469 non-null   float64\n",
      " 45  crucialness                 21146 non-null  float64\n",
      " 46  pressure                    20930 non-null  float64\n",
      " 47  usage_cap                   21122 non-null  float64\n",
      " 48  days_since_report           21368 non-null  int64  \n",
      " 49  staleness_score             21368 non-null  float64\n",
      " 50  is_latest                   21368 non-null  bool   \n",
      " 51  location_id                 21368 non-null  int64  \n",
      " 52  is_urban                    21368 non-null  bool   \n",
      " 53  cluster_size                21368 non-null  int64  \n",
      " 54  country_name                21354 non-null  object \n",
      " 55  water_source                21349 non-null  object \n",
      " 56  water_tech                  6537 non-null   object \n",
      " 57  status                      6457 non-null   object \n",
      " 58  adm1                        20767 non-null  object \n",
      " 59  adm2                        20224 non-null  object \n",
      " 60  adm3                        20057 non-null  object \n",
      " 61  management                  6408 non-null   object \n",
      " 62  pay                         496 non-null    object \n",
      " 63  subjective_quality          6429 non-null   object \n",
      " 64  new_georeferenced_column_   21368 non-null  object \n",
      " 65  lat_lon_deg                 21368 non-null  object \n",
      " 66  public_data_source          21368 non-null  object \n",
      " 67  converted                   6462 non-null   object \n",
      " 68  count                       21368 non-null  int64  \n",
      " 69  created_timestamp           21368 non-null  object \n",
      " 70  updated                     21368 non-null  object \n",
      " 71  is_duplicate                157 non-null    object \n",
      " 72  dataset_title               21368 non-null  object \n",
      " 73  latitude                    21368 non-null  float64\n",
      " 74  longitude                   21368 non-null  float64\n",
      " 75  chirps_7_precipitation      21368 non-null  float64\n",
      " 76  chirps_30_precipitation     21368 non-null  float64\n",
      " 77  chirps_90_precipitation     21368 non-null  float64\n",
      " 78  ndvi_7_NDVI                 21368 non-null  float64\n",
      " 79  ndvi_30_NDVI                21368 non-null  float64\n",
      " 80  ndvi_90_NDVI                21368 non-null  float64\n",
      " 81  lst_7_LST_Day_1km           21201 non-null  float64\n",
      " 82  lst_30_LST_Day_1km          21368 non-null  float64\n",
      " 83  lst_90_LST_Day_1km          21368 non-null  float64\n",
      " 84  pop_population              21355 non-null  float64\n",
      "dtypes: bool(2), float64(34), int64(5), object(44)\n",
      "memory usage: 13.6+ MB\n"
     ]
    }
   ],
   "source": [
    "final_df.info()"
   ]
  }
 ],
 "metadata": {
  "kernelspec": {
   "display_name": "learn-env",
   "language": "python",
   "name": "python3"
  },
  "language_info": {
   "codemirror_mode": {
    "name": "ipython",
    "version": 3
   },
   "file_extension": ".py",
   "mimetype": "text/x-python",
   "name": "python",
   "nbconvert_exporter": "python",
   "pygments_lexer": "ipython3",
   "version": "3.8.5"
  }
 },
 "nbformat": 4,
 "nbformat_minor": 5
}
