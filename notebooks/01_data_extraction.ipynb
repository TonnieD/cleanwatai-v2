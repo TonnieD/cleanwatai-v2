{
 "cells": [
  {
   "cell_type": "code",
   "execution_count": 1,
   "id": "3dc82fe8",
   "metadata": {
    "execution": {
     "iopub.execute_input": "2025-07-27T13:01:43.937074Z",
     "iopub.status.busy": "2025-07-27T13:01:43.935458Z",
     "iopub.status.idle": "2025-07-27T13:01:48.175927Z",
     "shell.execute_reply": "2025-07-27T13:01:48.174402Z"
    }
   },
   "outputs": [
    {
     "name": "stdout",
     "output_type": "stream",
     "text": [
      "✅ || wpdx_kenya.csv already exists with 21953 rows, skipping fetch.\n",
      "Processing 1000 water points with temporal accuracy\n"
     ]
    }
   ],
   "source": [
    "\n",
    "import pandas as pd\n",
    "from datetime import datetime, timedelta\n",
    "import warnings\n",
    "%load_ext autoreload\n",
    "%autoreload 2\n",
    "from scripts.extract_data import get_wpdx_kenya , collapse_zinc_csv\n",
    "\n",
    "wpdx = get_wpdx_kenya()\n",
    "wpdx['report_date'] = pd.to_datetime(wpdx['report_date'])\n",
    "wpdx['env_start_date'] = wpdx['report_date'] - timedelta(days=30)\n",
    "wpdx['env_end_date'] = wpdx['report_date']\n",
    "\n",
    "sample_size = 1000 \n",
    "kenya_sample = wpdx.sample(n=sample_size, random_state=42).reset_index(drop=True)\n",
    "\n",
    "print(f\"Processing {len(kenya_sample)} water points with temporal accuracy\")"
   ]
  },
  {
   "cell_type": "code",
   "execution_count": 2,
   "id": "8a161a03",
   "metadata": {
    "execution": {
     "iopub.execute_input": "2025-07-27T13:01:48.180803Z",
     "iopub.status.busy": "2025-07-27T13:01:48.179196Z",
     "iopub.status.idle": "2025-07-27T13:01:48.260554Z",
     "shell.execute_reply": "2025-07-27T13:01:48.259541Z"
    }
   },
   "outputs": [
    {
     "name": "stdout",
     "output_type": "stream",
     "text": [
      "Sampled 5000 water points for GEE processing.\n"
     ]
    }
   ],
   "source": [
    "# --- Standardize and Rename Columns ---\n",
    "# No need for the full generic column cleaning with re.sub if you know the exact names.\n",
    "# However, for robustness, we can still ensure they are lowercased and stripped IF needed.\n",
    "# For now, let's target the exact names you provided.\n",
    "\n",
    "# Rename 'wpdx_id' to 'pt_id'\n",
    "if 'wpdx_id' in wpdx.columns:\n",
    "    wpdx.rename(columns={'wpdx_id': 'pt_id'}, inplace=True)\n",
    "else:\n",
    "    # If for some reason 'wpdx_id' is missing, you'd need to identify the correct ID column.\n",
    "    raise KeyError(\"'wpdx_id' column not found. Please verify the actual ID column name.\")\n",
    "\n",
    "# Ensure 'pt_id' is string type\n",
    "wpdx['pt_id'] = wpdx['pt_id'].astype(str)\n",
    "wpdx['latitude'] = pd.to_numeric(wpdx['lat_deg'], errors='coerce').round(6)\n",
    "wpdx['longitude'] = pd.to_numeric(wpdx['lon_deg'], errors='coerce').round(6)\n",
    "wpdx.dropna(subset=['latitude', 'longitude'], inplace=True)\n",
    "if 'clean_country_name' in wpdx.columns:\n",
    "    wpdx = wpdx[(wpdx['clean_country_name'].str.lower() == 'kenya')]\n",
    "else:\n",
    "    raise KeyError(\"'country_name' column not found. Please verify the country column name.\")\n",
    "\n",
    "# Sample 5000 points\n",
    "DESIRED_SAMPLED_POINTS_COUNT = 5000\n",
    "if len(wpdx) >= DESIRED_SAMPLED_POINTS_COUNT:\n",
    "    wpdx = wpdx.sample(n=DESIRED_SAMPLED_POINTS_COUNT, random_state=42).reset_index(drop=True)\n",
    "else:\n",
    "    print(f\"Warning: Less than {DESIRED_SAMPLED_POINTS_COUNT} points available for sampling. Using all {len(wpdx)} points.\")\n",
    "\n",
    "print(f\"Sampled {len(wpdx)} water points for GEE processing.\")\n",
    "\n",
    "# --- Prepare for GEE (select only necessary columns with correct names for geemap) ---\n",
    "wpdx_for_gee = wpdx[['pt_id', 'latitude', 'longitude']]\n",
    "# Note: geemap.pandas_to_ee expects 'latitude' and 'longitude' by default if no other names specified.\n",
    "# So, we map lat_deg/lon_deg to latitude/longitude for clean passing."
   ]
  },
  {
   "cell_type": "code",
   "execution_count": 3,
   "id": "c3ab9d14",
   "metadata": {
    "execution": {
     "iopub.execute_input": "2025-07-27T13:01:48.265063Z",
     "iopub.status.busy": "2025-07-27T13:01:48.264550Z",
     "iopub.status.idle": "2025-07-27T13:01:48.308870Z",
     "shell.execute_reply": "2025-07-27T13:01:48.307837Z"
    }
   },
   "outputs": [
    {
     "data": {
      "text/html": [
       "<div>\n",
       "<style scoped>\n",
       "    .dataframe tbody tr th:only-of-type {\n",
       "        vertical-align: middle;\n",
       "    }\n",
       "\n",
       "    .dataframe tbody tr th {\n",
       "        vertical-align: top;\n",
       "    }\n",
       "\n",
       "    .dataframe thead th {\n",
       "        text-align: right;\n",
       "    }\n",
       "</style>\n",
       "<table border=\"1\" class=\"dataframe\">\n",
       "  <thead>\n",
       "    <tr style=\"text-align: right;\">\n",
       "      <th></th>\n",
       "      <th>pt_id</th>\n",
       "      <th>latitude</th>\n",
       "      <th>longitude</th>\n",
       "    </tr>\n",
       "  </thead>\n",
       "  <tbody>\n",
       "    <tr>\n",
       "      <th>0</th>\n",
       "      <td>6GGP5HF3+VR8</td>\n",
       "      <td>0.174668</td>\n",
       "      <td>34.554572</td>\n",
       "    </tr>\n",
       "    <tr>\n",
       "      <th>1</th>\n",
       "      <td>6GGP6HC8+85Q</td>\n",
       "      <td>0.220830</td>\n",
       "      <td>34.565483</td>\n",
       "    </tr>\n",
       "    <tr>\n",
       "      <th>2</th>\n",
       "      <td>6GGP28VQ+MWR</td>\n",
       "      <td>0.044235</td>\n",
       "      <td>34.339775</td>\n",
       "    </tr>\n",
       "    <tr>\n",
       "      <th>3</th>\n",
       "      <td>6GFPHQ2V+2MF</td>\n",
       "      <td>-0.449933</td>\n",
       "      <td>34.794163</td>\n",
       "    </tr>\n",
       "    <tr>\n",
       "      <th>4</th>\n",
       "      <td>6GGPFRWJ+VH8</td>\n",
       "      <td>0.497160</td>\n",
       "      <td>34.831463</td>\n",
       "    </tr>\n",
       "  </tbody>\n",
       "</table>\n",
       "</div>"
      ],
      "text/plain": [
       "          pt_id  latitude  longitude\n",
       "0  6GGP5HF3+VR8  0.174668  34.554572\n",
       "1  6GGP6HC8+85Q  0.220830  34.565483\n",
       "2  6GGP28VQ+MWR  0.044235  34.339775\n",
       "3  6GFPHQ2V+2MF -0.449933  34.794163\n",
       "4  6GGPFRWJ+VH8  0.497160  34.831463"
      ]
     },
     "execution_count": 3,
     "metadata": {},
     "output_type": "execute_result"
    }
   ],
   "source": [
    "wpdx_for_gee.head()"
   ]
  }
 ],
 "metadata": {
  "kernelspec": {
   "display_name": "base",
   "language": "python",
   "name": "python3"
  },
  "language_info": {
   "codemirror_mode": {
    "name": "ipython",
    "version": 3
   },
   "file_extension": ".py",
   "mimetype": "text/x-python",
   "name": "python",
   "nbconvert_exporter": "python",
   "pygments_lexer": "ipython3",
   "version": "3.12.7"
  }
 },
 "nbformat": 4,
 "nbformat_minor": 5
}
