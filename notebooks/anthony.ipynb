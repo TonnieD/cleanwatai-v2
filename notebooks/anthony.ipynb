{
 "cells": [
  {
   "cell_type": "markdown",
   "id": "bfcbc2bf",
   "metadata": {},
   "source": [
    "EXPLORATIONOF WPDX"
   ]
  },
  {
   "cell_type": "code",
   "execution_count": 395,
   "id": "f4b21c9f",
   "metadata": {},
   "outputs": [],
   "source": [
    "import numpy as np\n",
    "import pandas as pd\n",
    "import seaborn as sns\n",
    "import matplotlib.pyplot as plt\n",
    "%matplotlib inline"
   ]
  },
  {
   "cell_type": "code",
   "execution_count": 396,
   "id": "9c1afbbf",
   "metadata": {},
   "outputs": [
    {
     "name": "stderr",
     "output_type": "stream",
     "text": [
      "C:\\Users\\PINCHEZZ\\AppData\\Local\\Temp\\ipykernel_6564\\464967222.py:1: DtypeWarning: Columns (27) have mixed types. Specify dtype option on import or set low_memory=False.\n",
      "  df = pd.read_csv('../data/raw/wpdx_kenya.csv')\n"
     ]
    },
    {
     "data": {
      "text/html": [
       "<div>\n",
       "<style scoped>\n",
       "    .dataframe tbody tr th:only-of-type {\n",
       "        vertical-align: middle;\n",
       "    }\n",
       "\n",
       "    .dataframe tbody tr th {\n",
       "        vertical-align: top;\n",
       "    }\n",
       "\n",
       "    .dataframe thead th {\n",
       "        text-align: right;\n",
       "    }\n",
       "</style>\n",
       "<table border=\"1\" class=\"dataframe\">\n",
       "  <thead>\n",
       "    <tr style=\"text-align: right;\">\n",
       "      <th></th>\n",
       "      <th>row_id</th>\n",
       "      <th>source</th>\n",
       "      <th>lat_deg</th>\n",
       "      <th>lon_deg</th>\n",
       "      <th>report_date</th>\n",
       "      <th>status_id</th>\n",
       "      <th>water_source_clean</th>\n",
       "      <th>water_source_category</th>\n",
       "      <th>water_tech_clean</th>\n",
       "      <th>_water_tech_category</th>\n",
       "      <th>...</th>\n",
       "      <th>subjective_quality</th>\n",
       "      <th>new_georeferenced_column_</th>\n",
       "      <th>lat_lon_deg</th>\n",
       "      <th>public_data_source</th>\n",
       "      <th>converted</th>\n",
       "      <th>count</th>\n",
       "      <th>created_timestamp</th>\n",
       "      <th>updated</th>\n",
       "      <th>is_duplicate</th>\n",
       "      <th>dataset_title</th>\n",
       "    </tr>\n",
       "  </thead>\n",
       "  <tbody>\n",
       "    <tr>\n",
       "      <th>0</th>\n",
       "      <td>223047</td>\n",
       "      <td>Evidence Action</td>\n",
       "      <td>0.287917</td>\n",
       "      <td>34.661463</td>\n",
       "      <td>2024-12-01T00:00:00.000</td>\n",
       "      <td>Yes</td>\n",
       "      <td>Protected Well</td>\n",
       "      <td>Well</td>\n",
       "      <td>Motorized Pump - Electric</td>\n",
       "      <td>Motorized Pump</td>\n",
       "      <td>...</td>\n",
       "      <td>NaN</td>\n",
       "      <td>POINT (34.6614629 0.2879167)</td>\n",
       "      <td>(0.2879167°, 34.6614629°)</td>\n",
       "      <td>https://catalog.waterpointdata.org/datafiles/e...</td>\n",
       "      <td>NaN</td>\n",
       "      <td>1</td>\n",
       "      <td>2024-04-18T19:20:18.000</td>\n",
       "      <td>2024-04-18T19:20:18.000</td>\n",
       "      <td>NaN</td>\n",
       "      <td>Evidence Action_Kenya_2023-2024</td>\n",
       "    </tr>\n",
       "    <tr>\n",
       "      <th>1</th>\n",
       "      <td>221685</td>\n",
       "      <td>Evidence Action</td>\n",
       "      <td>0.382727</td>\n",
       "      <td>34.591831</td>\n",
       "      <td>2024-12-01T00:00:00.000</td>\n",
       "      <td>Yes</td>\n",
       "      <td>Borehole/Tubewell</td>\n",
       "      <td>Well</td>\n",
       "      <td>Public Tapstand</td>\n",
       "      <td>Public Tapstand</td>\n",
       "      <td>...</td>\n",
       "      <td>Yes, the water is treated and safe for drinking</td>\n",
       "      <td>POINT (34.59183120727539 0.3827266693115234)</td>\n",
       "      <td>(0.38272666931152344°, 34.59183120727539°)</td>\n",
       "      <td>https://catalog.waterpointdata.org/datafiles/e...</td>\n",
       "      <td>#status_id, #orig_lnk</td>\n",
       "      <td>1</td>\n",
       "      <td>2024-04-18T19:20:18.000</td>\n",
       "      <td>2024-04-18T19:20:18.000</td>\n",
       "      <td>NaN</td>\n",
       "      <td>Evidence Action_Kenya_2023-2024</td>\n",
       "    </tr>\n",
       "    <tr>\n",
       "      <th>2</th>\n",
       "      <td>221520</td>\n",
       "      <td>Evidence Action</td>\n",
       "      <td>0.311163</td>\n",
       "      <td>34.586723</td>\n",
       "      <td>2024-12-01T00:00:00.000</td>\n",
       "      <td>Yes</td>\n",
       "      <td>Borehole/Tubewell</td>\n",
       "      <td>Well</td>\n",
       "      <td>NaN</td>\n",
       "      <td>NaN</td>\n",
       "      <td>...</td>\n",
       "      <td>NaN</td>\n",
       "      <td>POINT (34.58672332763672 0.3111633360385895)</td>\n",
       "      <td>(0.3111633360385895°, 34.58672332763672°)</td>\n",
       "      <td>https://catalog.waterpointdata.org/datafiles/e...</td>\n",
       "      <td>NaN</td>\n",
       "      <td>1</td>\n",
       "      <td>2024-04-18T19:20:18.000</td>\n",
       "      <td>2024-04-18T19:20:18.000</td>\n",
       "      <td>NaN</td>\n",
       "      <td>Evidence Action_Kenya_2023-2024</td>\n",
       "    </tr>\n",
       "    <tr>\n",
       "      <th>3</th>\n",
       "      <td>221691</td>\n",
       "      <td>Evidence Action</td>\n",
       "      <td>0.397245</td>\n",
       "      <td>34.595146</td>\n",
       "      <td>2024-12-01T00:00:00.000</td>\n",
       "      <td>Yes</td>\n",
       "      <td>Protected Well</td>\n",
       "      <td>Well</td>\n",
       "      <td>Motorized Pump - Electric</td>\n",
       "      <td>Motorized Pump</td>\n",
       "      <td>...</td>\n",
       "      <td>NaN</td>\n",
       "      <td>POINT (34.59514617919922 0.3972449898719788)</td>\n",
       "      <td>(0.39724498987197876°, 34.59514617919922°)</td>\n",
       "      <td>https://catalog.waterpointdata.org/datafiles/e...</td>\n",
       "      <td>NaN</td>\n",
       "      <td>1</td>\n",
       "      <td>2024-04-18T19:20:18.000</td>\n",
       "      <td>2024-04-18T19:20:18.000</td>\n",
       "      <td>NaN</td>\n",
       "      <td>Evidence Action_Kenya_2023-2024</td>\n",
       "    </tr>\n",
       "    <tr>\n",
       "      <th>4</th>\n",
       "      <td>222938</td>\n",
       "      <td>Evidence Action</td>\n",
       "      <td>0.298903</td>\n",
       "      <td>34.655777</td>\n",
       "      <td>2024-12-01T00:00:00.000</td>\n",
       "      <td>Yes</td>\n",
       "      <td>Protected Well</td>\n",
       "      <td>Well</td>\n",
       "      <td>Motorized Pump - Electric</td>\n",
       "      <td>Motorized Pump</td>\n",
       "      <td>...</td>\n",
       "      <td>NaN</td>\n",
       "      <td>POINT (34.6557765 0.298903)</td>\n",
       "      <td>(0.298903°, 34.6557765°)</td>\n",
       "      <td>https://catalog.waterpointdata.org/datafiles/e...</td>\n",
       "      <td>NaN</td>\n",
       "      <td>1</td>\n",
       "      <td>2024-04-18T19:20:18.000</td>\n",
       "      <td>2024-04-18T19:20:18.000</td>\n",
       "      <td>NaN</td>\n",
       "      <td>Evidence Action_Kenya_2023-2024</td>\n",
       "    </tr>\n",
       "  </tbody>\n",
       "</table>\n",
       "<p>5 rows × 73 columns</p>\n",
       "</div>"
      ],
      "text/plain": [
       "   row_id           source   lat_deg    lon_deg              report_date  \\\n",
       "0  223047  Evidence Action  0.287917  34.661463  2024-12-01T00:00:00.000   \n",
       "1  221685  Evidence Action  0.382727  34.591831  2024-12-01T00:00:00.000   \n",
       "2  221520  Evidence Action  0.311163  34.586723  2024-12-01T00:00:00.000   \n",
       "3  221691  Evidence Action  0.397245  34.595146  2024-12-01T00:00:00.000   \n",
       "4  222938  Evidence Action  0.298903  34.655777  2024-12-01T00:00:00.000   \n",
       "\n",
       "  status_id water_source_clean water_source_category  \\\n",
       "0       Yes     Protected Well                  Well   \n",
       "1       Yes  Borehole/Tubewell                  Well   \n",
       "2       Yes  Borehole/Tubewell                  Well   \n",
       "3       Yes     Protected Well                  Well   \n",
       "4       Yes     Protected Well                  Well   \n",
       "\n",
       "            water_tech_clean _water_tech_category  ...  \\\n",
       "0  Motorized Pump - Electric       Motorized Pump  ...   \n",
       "1            Public Tapstand      Public Tapstand  ...   \n",
       "2                        NaN                  NaN  ...   \n",
       "3  Motorized Pump - Electric       Motorized Pump  ...   \n",
       "4  Motorized Pump - Electric       Motorized Pump  ...   \n",
       "\n",
       "                                subjective_quality  \\\n",
       "0                                              NaN   \n",
       "1  Yes, the water is treated and safe for drinking   \n",
       "2                                              NaN   \n",
       "3                                              NaN   \n",
       "4                                              NaN   \n",
       "\n",
       "                      new_georeferenced_column_  \\\n",
       "0                  POINT (34.6614629 0.2879167)   \n",
       "1  POINT (34.59183120727539 0.3827266693115234)   \n",
       "2  POINT (34.58672332763672 0.3111633360385895)   \n",
       "3  POINT (34.59514617919922 0.3972449898719788)   \n",
       "4                   POINT (34.6557765 0.298903)   \n",
       "\n",
       "                                  lat_lon_deg  \\\n",
       "0                   (0.2879167°, 34.6614629°)   \n",
       "1  (0.38272666931152344°, 34.59183120727539°)   \n",
       "2   (0.3111633360385895°, 34.58672332763672°)   \n",
       "3  (0.39724498987197876°, 34.59514617919922°)   \n",
       "4                    (0.298903°, 34.6557765°)   \n",
       "\n",
       "                                  public_data_source              converted  \\\n",
       "0  https://catalog.waterpointdata.org/datafiles/e...                    NaN   \n",
       "1  https://catalog.waterpointdata.org/datafiles/e...  #status_id, #orig_lnk   \n",
       "2  https://catalog.waterpointdata.org/datafiles/e...                    NaN   \n",
       "3  https://catalog.waterpointdata.org/datafiles/e...                    NaN   \n",
       "4  https://catalog.waterpointdata.org/datafiles/e...                    NaN   \n",
       "\n",
       "  count        created_timestamp                  updated is_duplicate  \\\n",
       "0     1  2024-04-18T19:20:18.000  2024-04-18T19:20:18.000          NaN   \n",
       "1     1  2024-04-18T19:20:18.000  2024-04-18T19:20:18.000          NaN   \n",
       "2     1  2024-04-18T19:20:18.000  2024-04-18T19:20:18.000          NaN   \n",
       "3     1  2024-04-18T19:20:18.000  2024-04-18T19:20:18.000          NaN   \n",
       "4     1  2024-04-18T19:20:18.000  2024-04-18T19:20:18.000          NaN   \n",
       "\n",
       "                     dataset_title  \n",
       "0  Evidence Action_Kenya_2023-2024  \n",
       "1  Evidence Action_Kenya_2023-2024  \n",
       "2  Evidence Action_Kenya_2023-2024  \n",
       "3  Evidence Action_Kenya_2023-2024  \n",
       "4  Evidence Action_Kenya_2023-2024  \n",
       "\n",
       "[5 rows x 73 columns]"
      ]
     },
     "execution_count": 396,
     "metadata": {},
     "output_type": "execute_result"
    }
   ],
   "source": [
    "df = pd.read_csv('../data/raw/wpdx_kenya.csv')\n",
    "df.head()"
   ]
  },
  {
   "cell_type": "code",
   "execution_count": 397,
   "id": "875d9b3c",
   "metadata": {},
   "outputs": [
    {
     "data": {
      "text/plain": [
       "nan"
      ]
     },
     "execution_count": 397,
     "metadata": {},
     "output_type": "execute_result"
    }
   ],
   "source": [
    "df['subjective_quality'][2567]"
   ]
  },
  {
   "cell_type": "code",
   "execution_count": 398,
   "id": "4e621ebd",
   "metadata": {},
   "outputs": [
    {
     "name": "stdout",
     "output_type": "stream",
     "text": [
      "<class 'pandas.core.frame.DataFrame'>\n",
      "RangeIndex: 21953 entries, 0 to 21952\n",
      "Data columns (total 73 columns):\n",
      " #   Column                      Non-Null Count  Dtype  \n",
      "---  ------                      --------------  -----  \n",
      " 0   row_id                      21953 non-null  int64  \n",
      " 1   source                      21953 non-null  object \n",
      " 2   lat_deg                     21953 non-null  float64\n",
      " 3   lon_deg                     21953 non-null  float64\n",
      " 4   report_date                 21953 non-null  object \n",
      " 5   status_id                   21953 non-null  object \n",
      " 6   water_source_clean          21836 non-null  object \n",
      " 7   water_source_category       21836 non-null  object \n",
      " 8   water_tech_clean            16046 non-null  object \n",
      " 9   _water_tech_category        15356 non-null  object \n",
      " 10  facility_type               21953 non-null  object \n",
      " 11  clean_country_name          21953 non-null  object \n",
      " 12  clean_country_id            21953 non-null  object \n",
      " 13  clean_adm1                  21953 non-null  object \n",
      " 14  clean_adm2                  21953 non-null  object \n",
      " 15  clean_adm3                  21953 non-null  object \n",
      " 16  clean_adm4                  0 non-null      float64\n",
      " 17  install_year                10167 non-null  float64\n",
      " 18  installer                   3849 non-null   object \n",
      " 19  rehab_year                  0 non-null      float64\n",
      " 20  rehabilitator               0 non-null      float64\n",
      " 21  management_clean            10062 non-null  object \n",
      " 22  status_clean                21953 non-null  object \n",
      " 23  pay_clean                   3592 non-null   object \n",
      " 24  fecal_coliform_presence     0 non-null      float64\n",
      " 25  fecal_coliform_value        0 non-null      float64\n",
      " 26  subjective_quality_clean    10175 non-null  object \n",
      " 27  activity_id                 19744 non-null  object \n",
      " 28  scheme_id                   0 non-null      float64\n",
      " 29  wpdx_id                     21953 non-null  object \n",
      " 30  notes                       3341 non-null   object \n",
      " 31  orig_lnk                    3637 non-null   object \n",
      " 32  photo_lnk                   10182 non-null  object \n",
      " 33  country_id                  21882 non-null  object \n",
      " 34  data_lnk                    21953 non-null  object \n",
      " 35  distance_to_primary         21953 non-null  float64\n",
      " 36  distance_to_secondary       21953 non-null  float64\n",
      " 37  distance_to_tertiary        21953 non-null  float64\n",
      " 38  distance_to_city            21905 non-null  float64\n",
      " 39  distance_to_town            21953 non-null  float64\n",
      " 40  water_point_history         21953 non-null  object \n",
      " 41  local_population            21104 non-null  float64\n",
      " 42  served_population           21104 non-null  float64\n",
      " 43  rehab_priority              2055 non-null   float64\n",
      " 44  _pop_who_would_gain_access  1787 non-null   float64\n",
      " 45  crucialness                 21023 non-null  float64\n",
      " 46  pressure                    20106 non-null  float64\n",
      " 47  usage_cap                   20899 non-null  float64\n",
      " 48  days_since_report           21953 non-null  int64  \n",
      " 49  staleness_score             21953 non-null  float64\n",
      " 50  is_latest                   21953 non-null  bool   \n",
      " 51  location_id                 21953 non-null  int64  \n",
      " 52  is_urban                    21953 non-null  bool   \n",
      " 53  cluster_size                21953 non-null  int64  \n",
      " 54  country_name                21882 non-null  object \n",
      " 55  water_source                21894 non-null  object \n",
      " 56  water_tech                  10682 non-null  object \n",
      " 57  status                      10350 non-null  object \n",
      " 58  adm1                        19270 non-null  object \n",
      " 59  adm2                        16745 non-null  object \n",
      " 60  adm3                        16033 non-null  object \n",
      " 61  management                  10103 non-null  object \n",
      " 62  pay                         2183 non-null   object \n",
      " 63  subjective_quality          10232 non-null  object \n",
      " 64  new_georeferenced_column_   21953 non-null  object \n",
      " 65  lat_lon_deg                 21953 non-null  object \n",
      " 66  public_data_source          21953 non-null  object \n",
      " 67  converted                   10392 non-null  object \n",
      " 68  count                       21953 non-null  int64  \n",
      " 69  created_timestamp           21953 non-null  object \n",
      " 70  updated                     21953 non-null  object \n",
      " 71  is_duplicate                665 non-null    object \n",
      " 72  dataset_title               21953 non-null  object \n",
      "dtypes: bool(2), float64(22), int64(5), object(44)\n",
      "memory usage: 11.9+ MB\n"
     ]
    }
   ],
   "source": [
    "df.info()"
   ]
  },
  {
   "cell_type": "code",
   "execution_count": 399,
   "id": "c7725e34",
   "metadata": {},
   "outputs": [
    {
     "data": {
      "text/plain": [
       "426001"
      ]
     },
     "execution_count": 399,
     "metadata": {},
     "output_type": "execute_result"
    }
   ],
   "source": [
    "df.isna().sum().sum()"
   ]
  },
  {
   "cell_type": "code",
   "execution_count": 400,
   "id": "5f52e5cd",
   "metadata": {},
   "outputs": [
    {
     "data": {
      "text/plain": [
       "Index(['row_id', 'source', 'lat_deg', 'lon_deg', 'report_date', 'status_id',\n",
       "       'water_source_clean', 'water_source_category', 'water_tech_clean',\n",
       "       '_water_tech_category', 'facility_type', 'clean_country_name',\n",
       "       'clean_country_id', 'clean_adm1', 'clean_adm2', 'clean_adm3',\n",
       "       'clean_adm4', 'install_year', 'installer', 'rehab_year',\n",
       "       'rehabilitator', 'management_clean', 'status_clean', 'pay_clean',\n",
       "       'fecal_coliform_presence', 'fecal_coliform_value',\n",
       "       'subjective_quality_clean', 'activity_id', 'scheme_id', 'wpdx_id',\n",
       "       'notes', 'orig_lnk', 'photo_lnk', 'country_id', 'data_lnk',\n",
       "       'distance_to_primary', 'distance_to_secondary', 'distance_to_tertiary',\n",
       "       'distance_to_city', 'distance_to_town', 'water_point_history',\n",
       "       'local_population', 'served_population', 'rehab_priority',\n",
       "       '_pop_who_would_gain_access', 'crucialness', 'pressure', 'usage_cap',\n",
       "       'days_since_report', 'staleness_score', 'is_latest', 'location_id',\n",
       "       'is_urban', 'cluster_size', 'country_name', 'water_source',\n",
       "       'water_tech', 'status', 'adm1', 'adm2', 'adm3', 'management', 'pay',\n",
       "       'subjective_quality', 'new_georeferenced_column_', 'lat_lon_deg',\n",
       "       'public_data_source', 'converted', 'count', 'created_timestamp',\n",
       "       'updated', 'is_duplicate', 'dataset_title'],\n",
       "      dtype='object')"
      ]
     },
     "execution_count": 400,
     "metadata": {},
     "output_type": "execute_result"
    }
   ],
   "source": [
    "df.columns"
   ]
  },
  {
   "cell_type": "code",
   "execution_count": 401,
   "id": "3000ee6c",
   "metadata": {},
   "outputs": [
    {
     "data": {
      "text/plain": [
       "is_urban\n",
       "False    21523\n",
       "True       430\n",
       "Name: count, dtype: int64"
      ]
     },
     "execution_count": 401,
     "metadata": {},
     "output_type": "execute_result"
    }
   ],
   "source": [
    "df['is_urban'].value_counts()  #.head()"
   ]
  },
  {
   "cell_type": "code",
   "execution_count": 402,
   "id": "4fd0c24d",
   "metadata": {},
   "outputs": [],
   "source": [
    "df_duplicated = df.duplicated()"
   ]
  },
  {
   "cell_type": "code",
   "execution_count": 403,
   "id": "3359f516",
   "metadata": {},
   "outputs": [
    {
     "data": {
      "text/plain": [
       "0    False\n",
       "1    False\n",
       "2    False\n",
       "3    False\n",
       "4    False\n",
       "dtype: bool"
      ]
     },
     "execution_count": 403,
     "metadata": {},
     "output_type": "execute_result"
    }
   ],
   "source": [
    "df_duplicated.head()"
   ]
  },
  {
   "cell_type": "code",
   "execution_count": 404,
   "id": "f0048d52",
   "metadata": {},
   "outputs": [],
   "source": [
    "columns_to_keep = [\n",
    "    'lat_deg', 'lon_deg',\n",
    "    'clean_country_name', 'clean_adm1', 'clean_adm2', 'clean_adm3', 'is_urban',\n",
    "    'water_source_clean', 'water_source_category',\n",
    "    'water_tech_clean', '_water_tech_category',\n",
    "    'facility_type', 'install_year', 'rehab_year',\n",
    "    'status_clean', 'management_clean', 'pay_clean',\n",
    "    'local_population', 'served_population',\n",
    "    'report_date', 'days_since_report', 'staleness_score', 'is_latest',\n",
    "    'subjective_quality_clean', 'rehab_priority', 'crucialness',\n",
    "    'fecal_coliform_presence', 'fecal_coliform_value',\n",
    "    'distance_to_primary', 'distance_to_city', 'distance_to_town'\n",
    "]"
   ]
  },
  {
   "cell_type": "code",
   "execution_count": 405,
   "id": "7ccb564d",
   "metadata": {},
   "outputs": [
    {
     "name": "stdout",
     "output_type": "stream",
     "text": [
      "31\n"
     ]
    }
   ],
   "source": [
    "print(len(columns_to_keep))"
   ]
  },
  {
   "cell_type": "code",
   "execution_count": 406,
   "id": "2e2b2cb1",
   "metadata": {},
   "outputs": [
    {
     "name": "stdout",
     "output_type": "stream",
     "text": [
      "<class 'pandas.core.frame.DataFrame'>\n",
      "RangeIndex: 21953 entries, 0 to 21952\n",
      "Data columns (total 31 columns):\n",
      " #   Column                    Non-Null Count  Dtype  \n",
      "---  ------                    --------------  -----  \n",
      " 0   lat_deg                   21953 non-null  float64\n",
      " 1   lon_deg                   21953 non-null  float64\n",
      " 2   clean_country_name        21953 non-null  object \n",
      " 3   clean_adm1                21953 non-null  object \n",
      " 4   clean_adm2                21953 non-null  object \n",
      " 5   clean_adm3                21953 non-null  object \n",
      " 6   is_urban                  21953 non-null  bool   \n",
      " 7   water_source_clean        21836 non-null  object \n",
      " 8   water_source_category     21836 non-null  object \n",
      " 9   water_tech_clean          16046 non-null  object \n",
      " 10  _water_tech_category      15356 non-null  object \n",
      " 11  facility_type             21953 non-null  object \n",
      " 12  install_year              10167 non-null  float64\n",
      " 13  rehab_year                0 non-null      float64\n",
      " 14  status_clean              21953 non-null  object \n",
      " 15  management_clean          10062 non-null  object \n",
      " 16  pay_clean                 3592 non-null   object \n",
      " 17  local_population          21104 non-null  float64\n",
      " 18  served_population         21104 non-null  float64\n",
      " 19  report_date               21953 non-null  object \n",
      " 20  days_since_report         21953 non-null  int64  \n",
      " 21  staleness_score           21953 non-null  float64\n",
      " 22  is_latest                 21953 non-null  bool   \n",
      " 23  subjective_quality_clean  10175 non-null  object \n",
      " 24  rehab_priority            2055 non-null   float64\n",
      " 25  crucialness               21023 non-null  float64\n",
      " 26  fecal_coliform_presence   0 non-null      float64\n",
      " 27  fecal_coliform_value      0 non-null      float64\n",
      " 28  distance_to_primary       21953 non-null  float64\n",
      " 29  distance_to_city          21905 non-null  float64\n",
      " 30  distance_to_town          21953 non-null  float64\n",
      "dtypes: bool(2), float64(14), int64(1), object(14)\n",
      "memory usage: 4.9+ MB\n"
     ]
    }
   ],
   "source": [
    "df = df[columns_to_keep]\n",
    "df.info()"
   ]
  },
  {
   "cell_type": "code",
   "execution_count": 407,
   "id": "4e05a0f1",
   "metadata": {},
   "outputs": [],
   "source": [
    "def isna_count_in_col(df):\n",
    "    for col in df.columns:\n",
    "        if df[col].isna().sum() > 0:\n",
    "            print(f'{col} : {df[col].isna().sum()}')\n"
   ]
  },
  {
   "cell_type": "code",
   "execution_count": 408,
   "id": "8487d7b8",
   "metadata": {},
   "outputs": [
    {
     "name": "stdout",
     "output_type": "stream",
     "text": [
      "water_source_clean : 117\n",
      "water_source_category : 117\n",
      "water_tech_clean : 5907\n",
      "_water_tech_category : 6597\n",
      "install_year : 11786\n",
      "rehab_year : 21953\n",
      "management_clean : 11891\n",
      "pay_clean : 18361\n",
      "local_population : 849\n",
      "served_population : 849\n",
      "subjective_quality_clean : 11778\n",
      "rehab_priority : 19898\n",
      "crucialness : 930\n",
      "distance_to_city : 48\n"
     ]
    }
   ],
   "source": [
    "df = df.drop(columns = ['fecal_coliform_presence', 'fecal_coliform_value'])\n",
    "isna_count_in_col(df)"
   ]
  },
  {
   "cell_type": "markdown",
   "id": "628de06b",
   "metadata": {},
   "source": [
    "DATA CLEANING"
   ]
  },
  {
   "cell_type": "code",
   "execution_count": 409,
   "id": "9ad7e9fd",
   "metadata": {},
   "outputs": [
    {
     "data": {
      "text/plain": [
       "_water_tech_category\n",
       "Motorized Pump     7131\n",
       "Public Tapstand    5713\n",
       "Hand Pump          2431\n",
       "Rope and Bucket      81\n",
       "Name: count, dtype: int64"
      ]
     },
     "execution_count": 409,
     "metadata": {},
     "output_type": "execute_result"
    }
   ],
   "source": [
    "df['_water_tech_category'].value_counts()"
   ]
  },
  {
   "cell_type": "code",
   "execution_count": 410,
   "id": "5e6d7757",
   "metadata": {},
   "outputs": [
    {
     "data": {
      "text/plain": [
       "11"
      ]
     },
     "execution_count": 410,
     "metadata": {},
     "output_type": "execute_result"
    }
   ],
   "source": [
    "df['_water_tech_category'] = df['_water_tech_category'].bfill()\n",
    "df['_water_tech_category'].isna().sum()"
   ]
  },
  {
   "cell_type": "code",
   "execution_count": 411,
   "id": "2bddd052",
   "metadata": {},
   "outputs": [
    {
     "data": {
      "text/plain": [
       "0"
      ]
     },
     "execution_count": 411,
     "metadata": {},
     "output_type": "execute_result"
    }
   ],
   "source": [
    "df['_water_tech_category'] = df['_water_tech_category'].ffill()\n",
    "df['_water_tech_category'].isna().sum()"
   ]
  },
  {
   "cell_type": "code",
   "execution_count": 412,
   "id": "32aa0ae4",
   "metadata": {},
   "outputs": [
    {
     "name": "stdout",
     "output_type": "stream",
     "text": [
      "water_source_clean : 117\n",
      "water_source_category : 117\n",
      "water_tech_clean : 5907\n",
      "install_year : 11786\n",
      "rehab_year : 21953\n",
      "management_clean : 11891\n",
      "pay_clean : 18361\n",
      "local_population : 849\n",
      "served_population : 849\n",
      "subjective_quality_clean : 11778\n",
      "rehab_priority : 19898\n",
      "crucialness : 930\n",
      "distance_to_city : 48\n"
     ]
    }
   ],
   "source": [
    "isna_count_in_col(df)"
   ]
  },
  {
   "cell_type": "code",
   "execution_count": 413,
   "id": "aa83bbde",
   "metadata": {},
   "outputs": [
    {
     "data": {
      "text/plain": [
       "water_source_clean\n",
       "Protected Well             11706\n",
       "Borehole/Tubewell           6420\n",
       "Undefined Well              1329\n",
       "Sand or Sub-surface Dam      959\n",
       "Piped Water                  717\n",
       "Rainwater Harvesting         488\n",
       "Protected Spring             197\n",
       "Delivered Water               12\n",
       "Unprotected Well               7\n",
       "Undefined Spring               1\n",
       "Name: count, dtype: int64"
      ]
     },
     "execution_count": 413,
     "metadata": {},
     "output_type": "execute_result"
    }
   ],
   "source": [
    "df['water_source_clean'].value_counts()"
   ]
  },
  {
   "cell_type": "code",
   "execution_count": 414,
   "id": "25b9381c",
   "metadata": {},
   "outputs": [
    {
     "data": {
      "text/plain": [
       "0"
      ]
     },
     "execution_count": 414,
     "metadata": {},
     "output_type": "execute_result"
    }
   ],
   "source": [
    "df['water_source_clean'] = df['water_source_clean'].bfill()\n",
    "df['water_source_clean'].isna().sum()"
   ]
  },
  {
   "cell_type": "code",
   "execution_count": 415,
   "id": "c6564f9d",
   "metadata": {},
   "outputs": [
    {
     "data": {
      "text/plain": [
       "water_source_category\n",
       "Well                       19462\n",
       "Sand or Sub-surface Dam      959\n",
       "Piped Water                  717\n",
       "Rainwater Harvesting         488\n",
       "Spring                       198\n",
       "Delivered Water               12\n",
       "Name: count, dtype: int64"
      ]
     },
     "execution_count": 415,
     "metadata": {},
     "output_type": "execute_result"
    }
   ],
   "source": [
    "df['water_source_category'].value_counts()"
   ]
  },
  {
   "cell_type": "code",
   "execution_count": 416,
   "id": "82e8fd90",
   "metadata": {},
   "outputs": [
    {
     "data": {
      "text/plain": [
       "0"
      ]
     },
     "execution_count": 416,
     "metadata": {},
     "output_type": "execute_result"
    }
   ],
   "source": [
    "df['water_source_category'] = df['water_source_category'].bfill()\n",
    "df['water_source_category'].isna().sum()"
   ]
  },
  {
   "cell_type": "code",
   "execution_count": 417,
   "id": "ce60172c",
   "metadata": {},
   "outputs": [
    {
     "data": {
      "text/plain": [
       "water_tech_clean\n",
       "Motorized Pump - Electric    6848\n",
       "Public Tapstand              5713\n",
       "Hand Pump                    1039\n",
       "Hand Pump - Afridev          1017\n",
       "Hand Pump - Rope              694\n",
       "Motorized Pump                280\n",
       "Hand Pump - India Mark        138\n",
       "Hand Pump - Nira               98\n",
       "Rope and Bucket                81\n",
       "Hand Pump - Tara               63\n",
       "Hand Pump - Blue               54\n",
       "Hand Pump - SWN 80             13\n",
       "Motorized Pump - Diesel         3\n",
       "Hydram Pump                     3\n",
       "Hand Pump - Mono                2\n",
       "Name: count, dtype: int64"
      ]
     },
     "execution_count": 417,
     "metadata": {},
     "output_type": "execute_result"
    }
   ],
   "source": [
    "df['water_tech_clean'].value_counts()"
   ]
  },
  {
   "cell_type": "code",
   "execution_count": 418,
   "id": "6df5cb6a",
   "metadata": {},
   "outputs": [
    {
     "data": {
      "text/plain": [
       "0"
      ]
     },
     "execution_count": 418,
     "metadata": {},
     "output_type": "execute_result"
    }
   ],
   "source": [
    "df['water_tech_clean'] = df['water_tech_clean'].bfill()\n",
    "df['water_tech_clean'].isna().sum()"
   ]
  },
  {
   "cell_type": "code",
   "execution_count": 419,
   "id": "7cef2095",
   "metadata": {},
   "outputs": [
    {
     "data": {
      "text/plain": [
       "11786"
      ]
     },
     "execution_count": 419,
     "metadata": {},
     "output_type": "execute_result"
    }
   ],
   "source": [
    "df['install_year'].isna().sum()"
   ]
  },
  {
   "cell_type": "code",
   "execution_count": 420,
   "id": "7afe9a44",
   "metadata": {},
   "outputs": [
    {
     "data": {
      "text/plain": [
       "2009.0"
      ]
     },
     "execution_count": 420,
     "metadata": {},
     "output_type": "execute_result"
    }
   ],
   "source": [
    "df['install_year'].median()"
   ]
  },
  {
   "cell_type": "code",
   "execution_count": 421,
   "id": "1fe2ca15",
   "metadata": {},
   "outputs": [
    {
     "data": {
      "text/plain": [
       "0"
      ]
     },
     "execution_count": 421,
     "metadata": {},
     "output_type": "execute_result"
    }
   ],
   "source": [
    "df['install_year'] = df['install_year'].fillna(df['install_year'].median())\n",
    "df['install_year'].isna().sum()"
   ]
  },
  {
   "cell_type": "code",
   "execution_count": 422,
   "id": "b40cba43",
   "metadata": {},
   "outputs": [
    {
     "name": "stdout",
     "output_type": "stream",
     "text": [
      "rehab_year : 21953\n",
      "management_clean : 11891\n",
      "pay_clean : 18361\n",
      "local_population : 849\n",
      "served_population : 849\n",
      "subjective_quality_clean : 11778\n",
      "rehab_priority : 19898\n",
      "crucialness : 930\n",
      "distance_to_city : 48\n"
     ]
    }
   ],
   "source": [
    "isna_count_in_col(df)"
   ]
  },
  {
   "cell_type": "code",
   "execution_count": 423,
   "id": "6f3b2f9b",
   "metadata": {},
   "outputs": [
    {
     "name": "stdout",
     "output_type": "stream",
     "text": [
      "management_clean : 11891\n",
      "pay_clean : 18361\n",
      "local_population : 849\n",
      "served_population : 849\n",
      "subjective_quality_clean : 11778\n",
      "rehab_priority : 19898\n",
      "crucialness : 930\n",
      "distance_to_city : 48\n"
     ]
    }
   ],
   "source": [
    "df = df.drop(columns = ['rehab_year'])\n",
    "isna_count_in_col(df)"
   ]
  },
  {
   "cell_type": "code",
   "execution_count": 424,
   "id": "27ed29ea",
   "metadata": {},
   "outputs": [
    {
     "data": {
      "text/plain": [
       "management_clean\n",
       "Community Management                     6128\n",
       "Private Operator/Delegated Management    1625\n",
       "No Management                            1268\n",
       "Other                                    1011\n",
       "Other Institutional Management             17\n",
       "Direct Government Operation                13\n",
       "Name: count, dtype: int64"
      ]
     },
     "execution_count": 424,
     "metadata": {},
     "output_type": "execute_result"
    }
   ],
   "source": [
    "df['management_clean'].value_counts()"
   ]
  },
  {
   "cell_type": "code",
   "execution_count": 425,
   "id": "04af02f3",
   "metadata": {},
   "outputs": [
    {
     "data": {
      "text/plain": [
       "0"
      ]
     },
     "execution_count": 425,
     "metadata": {},
     "output_type": "execute_result"
    }
   ],
   "source": [
    "df['management_clean'] = df['management_clean'].bfill()\n",
    "df['management_clean'].isna().sum()"
   ]
  },
  {
   "cell_type": "code",
   "execution_count": 426,
   "id": "bd38f983",
   "metadata": {},
   "outputs": [
    {
     "data": {
      "text/plain": [
       "pay_clean\n",
       "No payment                         2072\n",
       "Fees collected – metered            959\n",
       "Fees collected – annually           217\n",
       "Fees collected – monthly            189\n",
       "Fees collected – upon breakdown     151\n",
       "Fees collected – basis unknown        4\n",
       "Name: count, dtype: int64"
      ]
     },
     "execution_count": 426,
     "metadata": {},
     "output_type": "execute_result"
    }
   ],
   "source": [
    "df['pay_clean'].value_counts()"
   ]
  },
  {
   "cell_type": "code",
   "execution_count": 427,
   "id": "5b765568",
   "metadata": {},
   "outputs": [
    {
     "data": {
      "text/plain": [
       "pay_clean\n",
       "No payment                         20433\n",
       "Fees collected – metered             959\n",
       "Fees collected – annually            217\n",
       "Fees collected – monthly             189\n",
       "Fees collected – upon breakdown      151\n",
       "Fees collected – basis unknown         4\n",
       "Name: count, dtype: int64"
      ]
     },
     "execution_count": 427,
     "metadata": {},
     "output_type": "execute_result"
    }
   ],
   "source": [
    "df['pay_clean'] = df['pay_clean'].fillna('No payment')\n",
    "df['pay_clean'].value_counts()"
   ]
  },
  {
   "cell_type": "code",
   "execution_count": 428,
   "id": "d1f31ac1",
   "metadata": {},
   "outputs": [
    {
     "data": {
      "text/plain": [
       "0"
      ]
     },
     "execution_count": 428,
     "metadata": {},
     "output_type": "execute_result"
    }
   ],
   "source": [
    "df['pay_clean'].isna().sum()"
   ]
  },
  {
   "cell_type": "code",
   "execution_count": 429,
   "id": "71cad3da",
   "metadata": {},
   "outputs": [
    {
     "data": {
      "text/plain": [
       "0    2635.0\n",
       "1    2696.0\n",
       "2    3093.0\n",
       "3    1501.0\n",
       "4    2203.0\n",
       "Name: local_population, dtype: float64"
      ]
     },
     "execution_count": 429,
     "metadata": {},
     "output_type": "execute_result"
    }
   ],
   "source": [
    "df['local_population'].head()"
   ]
  },
  {
   "cell_type": "code",
   "execution_count": 430,
   "id": "6d800149",
   "metadata": {},
   "outputs": [
    {
     "data": {
      "text/plain": [
       "0"
      ]
     },
     "execution_count": 430,
     "metadata": {},
     "output_type": "execute_result"
    }
   ],
   "source": [
    "df['local_population'] = df['local_population'].fillna(df['local_population'].mean())\n",
    "df['local_population'].isna().sum()"
   ]
  },
  {
   "cell_type": "code",
   "execution_count": 431,
   "id": "bbd77f10",
   "metadata": {},
   "outputs": [
    {
     "data": {
      "text/plain": [
       "0    628.0\n",
       "1    353.0\n",
       "2    213.0\n",
       "3    456.0\n",
       "4    405.0\n",
       "Name: served_population, dtype: float64"
      ]
     },
     "execution_count": 431,
     "metadata": {},
     "output_type": "execute_result"
    }
   ],
   "source": [
    "df['served_population'].head()"
   ]
  },
  {
   "cell_type": "code",
   "execution_count": 432,
   "id": "8a836eec",
   "metadata": {},
   "outputs": [
    {
     "data": {
      "text/plain": [
       "0"
      ]
     },
     "execution_count": 432,
     "metadata": {},
     "output_type": "execute_result"
    }
   ],
   "source": [
    "df['served_population'] = df['served_population'].fillna(df['served_population'].mean())\n",
    "df['served_population'].isna().sum()"
   ]
  },
  {
   "cell_type": "code",
   "execution_count": 433,
   "id": "a59fe3e4",
   "metadata": {},
   "outputs": [
    {
     "name": "stdout",
     "output_type": "stream",
     "text": [
      "subjective_quality_clean : 11778\n",
      "rehab_priority : 19898\n",
      "crucialness : 930\n",
      "distance_to_city : 48\n"
     ]
    }
   ],
   "source": [
    "isna_count_in_col(df)"
   ]
  },
  {
   "cell_type": "code",
   "execution_count": 434,
   "id": "80efbfcd",
   "metadata": {},
   "outputs": [
    {
     "data": {
      "text/plain": [
       "subjective_quality_clean\n",
       "Unacceptable quality    6485\n",
       "Acceptable quality      2757\n",
       "Bad taste                711\n",
       "Bad color                222\n",
       "Name: count, dtype: int64"
      ]
     },
     "execution_count": 434,
     "metadata": {},
     "output_type": "execute_result"
    }
   ],
   "source": [
    "df['subjective_quality_clean'].value_counts()"
   ]
  },
  {
   "cell_type": "code",
   "execution_count": 435,
   "id": "ae126126",
   "metadata": {},
   "outputs": [
    {
     "data": {
      "text/plain": [
       "rehab_priority\n",
       "0.0       17\n",
       "190.0      9\n",
       "80.0       9\n",
       "232.0      8\n",
       "142.0      8\n",
       "          ..\n",
       "926.0      1\n",
       "834.0      1\n",
       "870.0      1\n",
       "2334.0     1\n",
       "906.0      1\n",
       "Name: count, Length: 955, dtype: int64"
      ]
     },
     "execution_count": 435,
     "metadata": {},
     "output_type": "execute_result"
    }
   ],
   "source": [
    "df['rehab_priority'].value_counts()"
   ]
  },
  {
   "cell_type": "code",
   "execution_count": 436,
   "id": "94c52d96",
   "metadata": {},
   "outputs": [
    {
     "data": {
      "text/plain": [
       "crucialness\n",
       "1.000000    924\n",
       "0.500000      9\n",
       "0.111111      8\n",
       "0.140000      7\n",
       "0.064516      6\n",
       "           ... \n",
       "0.130470      1\n",
       "0.102601      1\n",
       "0.253435      1\n",
       "0.177496      1\n",
       "0.188917      1\n",
       "Name: count, Length: 18190, dtype: int64"
      ]
     },
     "execution_count": 436,
     "metadata": {},
     "output_type": "execute_result"
    }
   ],
   "source": [
    "df['crucialness'].value_counts()"
   ]
  },
  {
   "cell_type": "code",
   "execution_count": 437,
   "id": "49ed9d1d",
   "metadata": {},
   "outputs": [
    {
     "data": {
      "text/plain": [
       "0"
      ]
     },
     "execution_count": 437,
     "metadata": {},
     "output_type": "execute_result"
    }
   ],
   "source": [
    "df['crucialness'] = df['crucialness'].fillna(df['crucialness'].median())\n",
    "df['crucialness'].isna().sum()"
   ]
  },
  {
   "cell_type": "code",
   "execution_count": 438,
   "id": "cd24f6c1",
   "metadata": {},
   "outputs": [
    {
     "data": {
      "text/plain": [
       "0     9868.998481\n",
       "1    20760.630862\n",
       "2    18439.815660\n",
       "3    21351.632955\n",
       "4    10629.729922\n",
       "Name: distance_to_city, dtype: float64"
      ]
     },
     "execution_count": 438,
     "metadata": {},
     "output_type": "execute_result"
    }
   ],
   "source": [
    "df['distance_to_city'].head()"
   ]
  },
  {
   "cell_type": "code",
   "execution_count": 439,
   "id": "3ab46eb5",
   "metadata": {},
   "outputs": [
    {
     "data": {
      "text/plain": [
       "0"
      ]
     },
     "execution_count": 439,
     "metadata": {},
     "output_type": "execute_result"
    }
   ],
   "source": [
    "df['distance_to_city'] = df['distance_to_city'].fillna(df['distance_to_city'].mean())\n",
    "df['distance_to_city'].isna().sum()"
   ]
  },
  {
   "cell_type": "code",
   "execution_count": 440,
   "id": "202317fd",
   "metadata": {},
   "outputs": [
    {
     "name": "stdout",
     "output_type": "stream",
     "text": [
      "556.2686131386861\n",
      "374.0\n",
      "0    0.0\n",
      "Name: rehab_priority, dtype: float64\n"
     ]
    }
   ],
   "source": [
    "print(df['rehab_priority'].mean())\n",
    "print(df['rehab_priority'].median())\n",
    "print(df['rehab_priority'].mode())"
   ]
  },
  {
   "cell_type": "code",
   "execution_count": 441,
   "id": "334a9ce6",
   "metadata": {},
   "outputs": [
    {
     "data": {
      "text/plain": [
       "0"
      ]
     },
     "execution_count": 441,
     "metadata": {},
     "output_type": "execute_result"
    }
   ],
   "source": [
    "df['rehab_priority'] = df['rehab_priority'].fillna(df['rehab_priority'].median())\n",
    "df['rehab_priority'].isna().sum()"
   ]
  },
  {
   "cell_type": "code",
   "execution_count": 442,
   "id": "9d5a9b7d",
   "metadata": {},
   "outputs": [
    {
     "data": {
      "text/plain": [
       "0"
      ]
     },
     "execution_count": 442,
     "metadata": {},
     "output_type": "execute_result"
    }
   ],
   "source": [
    "df['subjective_quality_clean'] = df['subjective_quality_clean'].bfill()\n",
    "df['subjective_quality_clean'].isna().sum()"
   ]
  },
  {
   "cell_type": "code",
   "execution_count": 443,
   "id": "e6604700",
   "metadata": {},
   "outputs": [],
   "source": [
    "df.to_csv('../data/processed/wpdx_processed.csv')"
   ]
  },
  {
   "cell_type": "code",
   "execution_count": 444,
   "id": "ade34bda",
   "metadata": {},
   "outputs": [
    {
     "data": {
      "text/html": [
       "<div>\n",
       "<style scoped>\n",
       "    .dataframe tbody tr th:only-of-type {\n",
       "        vertical-align: middle;\n",
       "    }\n",
       "\n",
       "    .dataframe tbody tr th {\n",
       "        vertical-align: top;\n",
       "    }\n",
       "\n",
       "    .dataframe thead th {\n",
       "        text-align: right;\n",
       "    }\n",
       "</style>\n",
       "<table border=\"1\" class=\"dataframe\">\n",
       "  <thead>\n",
       "    <tr style=\"text-align: right;\">\n",
       "      <th></th>\n",
       "      <th>Unnamed: 0</th>\n",
       "      <th>lat_deg</th>\n",
       "      <th>lon_deg</th>\n",
       "      <th>clean_country_name</th>\n",
       "      <th>clean_adm1</th>\n",
       "      <th>clean_adm2</th>\n",
       "      <th>clean_adm3</th>\n",
       "      <th>is_urban</th>\n",
       "      <th>water_source_clean</th>\n",
       "      <th>water_source_category</th>\n",
       "      <th>...</th>\n",
       "      <th>report_date</th>\n",
       "      <th>days_since_report</th>\n",
       "      <th>staleness_score</th>\n",
       "      <th>is_latest</th>\n",
       "      <th>subjective_quality_clean</th>\n",
       "      <th>rehab_priority</th>\n",
       "      <th>crucialness</th>\n",
       "      <th>distance_to_primary</th>\n",
       "      <th>distance_to_city</th>\n",
       "      <th>distance_to_town</th>\n",
       "    </tr>\n",
       "  </thead>\n",
       "  <tbody>\n",
       "    <tr>\n",
       "      <th>0</th>\n",
       "      <td>0</td>\n",
       "      <td>0.287917</td>\n",
       "      <td>34.661463</td>\n",
       "      <td>Kenya</td>\n",
       "      <td>Kakamega</td>\n",
       "      <td>Lurambi</td>\n",
       "      <td>Butsotso Central</td>\n",
       "      <td>False</td>\n",
       "      <td>Protected Well</td>\n",
       "      <td>Well</td>\n",
       "      <td>...</td>\n",
       "      <td>2024-12-01T00:00:00.000</td>\n",
       "      <td>1</td>\n",
       "      <td>99.968484</td>\n",
       "      <td>True</td>\n",
       "      <td>Acceptable quality</td>\n",
       "      <td>374.0</td>\n",
       "      <td>0.238330</td>\n",
       "      <td>287.764240</td>\n",
       "      <td>9868.998481</td>\n",
       "      <td>9095.038598</td>\n",
       "    </tr>\n",
       "    <tr>\n",
       "      <th>1</th>\n",
       "      <td>1</td>\n",
       "      <td>0.382727</td>\n",
       "      <td>34.591831</td>\n",
       "      <td>Kenya</td>\n",
       "      <td>Kakamega</td>\n",
       "      <td>Mumias East</td>\n",
       "      <td>East Wanga</td>\n",
       "      <td>False</td>\n",
       "      <td>Borehole/Tubewell</td>\n",
       "      <td>Well</td>\n",
       "      <td>...</td>\n",
       "      <td>2024-12-01T00:00:00.000</td>\n",
       "      <td>1</td>\n",
       "      <td>99.968484</td>\n",
       "      <td>True</td>\n",
       "      <td>Acceptable quality</td>\n",
       "      <td>374.0</td>\n",
       "      <td>0.130935</td>\n",
       "      <td>7269.622548</td>\n",
       "      <td>20760.630862</td>\n",
       "      <td>7285.990111</td>\n",
       "    </tr>\n",
       "    <tr>\n",
       "      <th>2</th>\n",
       "      <td>2</td>\n",
       "      <td>0.311163</td>\n",
       "      <td>34.586723</td>\n",
       "      <td>Kenya</td>\n",
       "      <td>Kakamega</td>\n",
       "      <td>Mumias East</td>\n",
       "      <td>East Wanga</td>\n",
       "      <td>False</td>\n",
       "      <td>Borehole/Tubewell</td>\n",
       "      <td>Well</td>\n",
       "      <td>...</td>\n",
       "      <td>2024-12-01T00:00:00.000</td>\n",
       "      <td>1</td>\n",
       "      <td>99.968484</td>\n",
       "      <td>True</td>\n",
       "      <td>Acceptable quality</td>\n",
       "      <td>374.0</td>\n",
       "      <td>0.068865</td>\n",
       "      <td>251.747046</td>\n",
       "      <td>18439.815660</td>\n",
       "      <td>1838.649375</td>\n",
       "    </tr>\n",
       "    <tr>\n",
       "      <th>3</th>\n",
       "      <td>3</td>\n",
       "      <td>0.397245</td>\n",
       "      <td>34.595146</td>\n",
       "      <td>Kenya</td>\n",
       "      <td>Kakamega</td>\n",
       "      <td>Navakholo</td>\n",
       "      <td>Bunyala West</td>\n",
       "      <td>False</td>\n",
       "      <td>Protected Well</td>\n",
       "      <td>Well</td>\n",
       "      <td>...</td>\n",
       "      <td>2024-12-01T00:00:00.000</td>\n",
       "      <td>1</td>\n",
       "      <td>99.968484</td>\n",
       "      <td>True</td>\n",
       "      <td>Acceptable quality</td>\n",
       "      <td>374.0</td>\n",
       "      <td>0.303797</td>\n",
       "      <td>8909.317192</td>\n",
       "      <td>21351.632955</td>\n",
       "      <td>8933.390442</td>\n",
       "    </tr>\n",
       "    <tr>\n",
       "      <th>4</th>\n",
       "      <td>4</td>\n",
       "      <td>0.298903</td>\n",
       "      <td>34.655777</td>\n",
       "      <td>Kenya</td>\n",
       "      <td>Kakamega</td>\n",
       "      <td>Lurambi</td>\n",
       "      <td>Butsotso Central</td>\n",
       "      <td>False</td>\n",
       "      <td>Protected Well</td>\n",
       "      <td>Well</td>\n",
       "      <td>...</td>\n",
       "      <td>2024-12-01T00:00:00.000</td>\n",
       "      <td>1</td>\n",
       "      <td>99.968484</td>\n",
       "      <td>True</td>\n",
       "      <td>Acceptable quality</td>\n",
       "      <td>374.0</td>\n",
       "      <td>0.183840</td>\n",
       "      <td>1348.492303</td>\n",
       "      <td>10629.729922</td>\n",
       "      <td>9793.882332</td>\n",
       "    </tr>\n",
       "  </tbody>\n",
       "</table>\n",
       "<p>5 rows × 29 columns</p>\n",
       "</div>"
      ],
      "text/plain": [
       "   Unnamed: 0   lat_deg    lon_deg clean_country_name clean_adm1   clean_adm2  \\\n",
       "0           0  0.287917  34.661463              Kenya   Kakamega      Lurambi   \n",
       "1           1  0.382727  34.591831              Kenya   Kakamega  Mumias East   \n",
       "2           2  0.311163  34.586723              Kenya   Kakamega  Mumias East   \n",
       "3           3  0.397245  34.595146              Kenya   Kakamega    Navakholo   \n",
       "4           4  0.298903  34.655777              Kenya   Kakamega      Lurambi   \n",
       "\n",
       "         clean_adm3  is_urban water_source_clean water_source_category  ...  \\\n",
       "0  Butsotso Central     False     Protected Well                  Well  ...   \n",
       "1        East Wanga     False  Borehole/Tubewell                  Well  ...   \n",
       "2        East Wanga     False  Borehole/Tubewell                  Well  ...   \n",
       "3      Bunyala West     False     Protected Well                  Well  ...   \n",
       "4  Butsotso Central     False     Protected Well                  Well  ...   \n",
       "\n",
       "               report_date days_since_report staleness_score  is_latest  \\\n",
       "0  2024-12-01T00:00:00.000                 1       99.968484       True   \n",
       "1  2024-12-01T00:00:00.000                 1       99.968484       True   \n",
       "2  2024-12-01T00:00:00.000                 1       99.968484       True   \n",
       "3  2024-12-01T00:00:00.000                 1       99.968484       True   \n",
       "4  2024-12-01T00:00:00.000                 1       99.968484       True   \n",
       "\n",
       "  subjective_quality_clean rehab_priority crucialness  distance_to_primary  \\\n",
       "0       Acceptable quality          374.0    0.238330           287.764240   \n",
       "1       Acceptable quality          374.0    0.130935          7269.622548   \n",
       "2       Acceptable quality          374.0    0.068865           251.747046   \n",
       "3       Acceptable quality          374.0    0.303797          8909.317192   \n",
       "4       Acceptable quality          374.0    0.183840          1348.492303   \n",
       "\n",
       "   distance_to_city distance_to_town  \n",
       "0       9868.998481      9095.038598  \n",
       "1      20760.630862      7285.990111  \n",
       "2      18439.815660      1838.649375  \n",
       "3      21351.632955      8933.390442  \n",
       "4      10629.729922      9793.882332  \n",
       "\n",
       "[5 rows x 29 columns]"
      ]
     },
     "execution_count": 444,
     "metadata": {},
     "output_type": "execute_result"
    }
   ],
   "source": [
    "df = pd.read_csv('../data/processed/wpdx_processed.csv')\n",
    "df.head()"
   ]
  },
  {
   "cell_type": "code",
   "execution_count": 445,
   "id": "4fbb9501",
   "metadata": {},
   "outputs": [
    {
     "data": {
      "text/plain": [
       "False    21953\n",
       "Name: count, dtype: int64"
      ]
     },
     "execution_count": 445,
     "metadata": {},
     "output_type": "execute_result"
    }
   ],
   "source": [
    "df.duplicated().value_counts()"
   ]
  },
  {
   "cell_type": "code",
   "execution_count": 446,
   "id": "9e8e4454",
   "metadata": {},
   "outputs": [
    {
     "data": {
      "text/plain": [
       "39"
      ]
     },
     "execution_count": 446,
     "metadata": {},
     "output_type": "execute_result"
    }
   ],
   "source": [
    "len(df['clean_adm1'].unique())"
   ]
  },
  {
   "cell_type": "code",
   "execution_count": null,
   "id": "09b49630",
   "metadata": {},
   "outputs": [],
   "source": []
  },
  {
   "cell_type": "code",
   "execution_count": 447,
   "id": "74f1f001",
   "metadata": {},
   "outputs": [
    {
     "data": {
      "text/html": [
       "<div>\n",
       "<style scoped>\n",
       "    .dataframe tbody tr th:only-of-type {\n",
       "        vertical-align: middle;\n",
       "    }\n",
       "\n",
       "    .dataframe tbody tr th {\n",
       "        vertical-align: top;\n",
       "    }\n",
       "\n",
       "    .dataframe thead th {\n",
       "        text-align: right;\n",
       "    }\n",
       "</style>\n",
       "<table border=\"1\" class=\"dataframe\">\n",
       "  <thead>\n",
       "    <tr style=\"text-align: right;\">\n",
       "      <th></th>\n",
       "      <th>Unnamed: 0</th>\n",
       "      <th>entry_id</th>\n",
       "      <th>lead_id</th>\n",
       "      <th>lang</th>\n",
       "      <th>n_tokens</th>\n",
       "      <th>project_title</th>\n",
       "      <th>created_at</th>\n",
       "      <th>document</th>\n",
       "      <th>source_title</th>\n",
       "      <th>author_title</th>\n",
       "      <th>...</th>\n",
       "      <th>pillars_2d</th>\n",
       "      <th>subpillars_1d</th>\n",
       "      <th>subpillars_2d</th>\n",
       "      <th>displaced</th>\n",
       "      <th>non_displaced</th>\n",
       "      <th>affected</th>\n",
       "      <th>severity</th>\n",
       "      <th>age</th>\n",
       "      <th>gender</th>\n",
       "      <th>specific_needs_groups</th>\n",
       "    </tr>\n",
       "  </thead>\n",
       "  <tbody>\n",
       "    <tr>\n",
       "      <th>0</th>\n",
       "      <td>0</td>\n",
       "      <td>199921</td>\n",
       "      <td>44304</td>\n",
       "      <td>en</td>\n",
       "      <td>145</td>\n",
       "      <td>IMMAP/DFS Burkina Faso</td>\n",
       "      <td>2020-11-26 10:42:14.523264+00:00</td>\n",
       "      <td>Unknown</td>\n",
       "      <td>United Nations High Commissioner for Refugees</td>\n",
       "      <td>Unknown</td>\n",
       "      <td>...</td>\n",
       "      <td>[]</td>\n",
       "      <td>['Displacement-&gt;Type/Numbers/Movements']</td>\n",
       "      <td>[]</td>\n",
       "      <td>['Idp']</td>\n",
       "      <td>[]</td>\n",
       "      <td>['Displaced']</td>\n",
       "      <td>[]</td>\n",
       "      <td>[]</td>\n",
       "      <td>[]</td>\n",
       "      <td>[]</td>\n",
       "    </tr>\n",
       "    <tr>\n",
       "      <th>1</th>\n",
       "      <td>1</td>\n",
       "      <td>293791</td>\n",
       "      <td>52163</td>\n",
       "      <td>en</td>\n",
       "      <td>480</td>\n",
       "      <td>IMMAP/DFS Burkina Faso</td>\n",
       "      <td>2021-03-29 06:53:04.456578+00:00</td>\n",
       "      <td>https://allafrica.com/stories/202103160182.html</td>\n",
       "      <td>AllAfrica</td>\n",
       "      <td>Unknown</td>\n",
       "      <td>...</td>\n",
       "      <td>[]</td>\n",
       "      <td>['Context-&gt;Environment', 'Context-&gt;Economy']</td>\n",
       "      <td>[]</td>\n",
       "      <td>[]</td>\n",
       "      <td>[]</td>\n",
       "      <td>[]</td>\n",
       "      <td>[]</td>\n",
       "      <td>[]</td>\n",
       "      <td>[]</td>\n",
       "      <td>[]</td>\n",
       "    </tr>\n",
       "    <tr>\n",
       "      <th>2</th>\n",
       "      <td>2</td>\n",
       "      <td>169536</td>\n",
       "      <td>40366</td>\n",
       "      <td>en</td>\n",
       "      <td>879</td>\n",
       "      <td>IMMAP/DFS Burkina Faso</td>\n",
       "      <td>2020-10-06 21:23:24.022536+00:00</td>\n",
       "      <td>Unknown</td>\n",
       "      <td>Reliefweb</td>\n",
       "      <td>Unknown</td>\n",
       "      <td>...</td>\n",
       "      <td>['At Risk']</td>\n",
       "      <td>['Casualties-&gt;Dead', 'Context-&gt;Security &amp; Stab...</td>\n",
       "      <td>['At Risk-&gt;Risk And Vulnerabilities']</td>\n",
       "      <td>[]</td>\n",
       "      <td>[]</td>\n",
       "      <td>[]</td>\n",
       "      <td>[]</td>\n",
       "      <td>[]</td>\n",
       "      <td>[]</td>\n",
       "      <td>[]</td>\n",
       "    </tr>\n",
       "    <tr>\n",
       "      <th>3</th>\n",
       "      <td>3</td>\n",
       "      <td>169537</td>\n",
       "      <td>40366</td>\n",
       "      <td>en</td>\n",
       "      <td>642</td>\n",
       "      <td>IMMAP/DFS Burkina Faso</td>\n",
       "      <td>2020-10-06 21:23:25.409843+00:00</td>\n",
       "      <td>Unknown</td>\n",
       "      <td>Reliefweb</td>\n",
       "      <td>Unknown</td>\n",
       "      <td>...</td>\n",
       "      <td>[]</td>\n",
       "      <td>['Displacement-&gt;Type/Numbers/Movements', 'Disp...</td>\n",
       "      <td>[]</td>\n",
       "      <td>[]</td>\n",
       "      <td>[]</td>\n",
       "      <td>['Displaced']</td>\n",
       "      <td>[]</td>\n",
       "      <td>['&lt;18 Years', '18-59 Years Old']</td>\n",
       "      <td>['All', 'Female']</td>\n",
       "      <td>[]</td>\n",
       "    </tr>\n",
       "    <tr>\n",
       "      <th>4</th>\n",
       "      <td>4</td>\n",
       "      <td>155848</td>\n",
       "      <td>38493</td>\n",
       "      <td>en</td>\n",
       "      <td>600</td>\n",
       "      <td>IMMAP/DFS Burkina Faso</td>\n",
       "      <td>2020-09-08 12:42:54.252017+00:00</td>\n",
       "      <td>Unknown</td>\n",
       "      <td>UNHCR Portal</td>\n",
       "      <td>Unknown</td>\n",
       "      <td>...</td>\n",
       "      <td>['Capacities &amp; Response']</td>\n",
       "      <td>['Information And Communication-&gt;Communication...</td>\n",
       "      <td>['Capacities &amp; Response-&gt;International Response']</td>\n",
       "      <td>['Idp']</td>\n",
       "      <td>['Host']</td>\n",
       "      <td>['Non Displaced', 'Displaced']</td>\n",
       "      <td>[]</td>\n",
       "      <td>[]</td>\n",
       "      <td>[]</td>\n",
       "      <td>[]</td>\n",
       "    </tr>\n",
       "  </tbody>\n",
       "</table>\n",
       "<p>5 rows × 24 columns</p>\n",
       "</div>"
      ],
      "text/plain": [
       "   Unnamed: 0  entry_id  lead_id lang  n_tokens           project_title  \\\n",
       "0           0    199921    44304   en       145  IMMAP/DFS Burkina Faso   \n",
       "1           1    293791    52163   en       480  IMMAP/DFS Burkina Faso   \n",
       "2           2    169536    40366   en       879  IMMAP/DFS Burkina Faso   \n",
       "3           3    169537    40366   en       642  IMMAP/DFS Burkina Faso   \n",
       "4           4    155848    38493   en       600  IMMAP/DFS Burkina Faso   \n",
       "\n",
       "                         created_at  \\\n",
       "0  2020-11-26 10:42:14.523264+00:00   \n",
       "1  2021-03-29 06:53:04.456578+00:00   \n",
       "2  2020-10-06 21:23:24.022536+00:00   \n",
       "3  2020-10-06 21:23:25.409843+00:00   \n",
       "4  2020-09-08 12:42:54.252017+00:00   \n",
       "\n",
       "                                          document  \\\n",
       "0                                          Unknown   \n",
       "1  https://allafrica.com/stories/202103160182.html   \n",
       "2                                          Unknown   \n",
       "3                                          Unknown   \n",
       "4                                          Unknown   \n",
       "\n",
       "                                    source_title author_title  ...  \\\n",
       "0  United Nations High Commissioner for Refugees      Unknown  ...   \n",
       "1                                      AllAfrica      Unknown  ...   \n",
       "2                                      Reliefweb      Unknown  ...   \n",
       "3                                      Reliefweb      Unknown  ...   \n",
       "4                                   UNHCR Portal      Unknown  ...   \n",
       "\n",
       "                  pillars_2d  \\\n",
       "0                         []   \n",
       "1                         []   \n",
       "2                ['At Risk']   \n",
       "3                         []   \n",
       "4  ['Capacities & Response']   \n",
       "\n",
       "                                       subpillars_1d  \\\n",
       "0           ['Displacement->Type/Numbers/Movements']   \n",
       "1       ['Context->Environment', 'Context->Economy']   \n",
       "2  ['Casualties->Dead', 'Context->Security & Stab...   \n",
       "3  ['Displacement->Type/Numbers/Movements', 'Disp...   \n",
       "4  ['Information And Communication->Communication...   \n",
       "\n",
       "                                       subpillars_2d displaced non_displaced  \\\n",
       "0                                                 []   ['Idp']            []   \n",
       "1                                                 []        []            []   \n",
       "2              ['At Risk->Risk And Vulnerabilities']        []            []   \n",
       "3                                                 []        []            []   \n",
       "4  ['Capacities & Response->International Response']   ['Idp']      ['Host']   \n",
       "\n",
       "                         affected severity                               age  \\\n",
       "0                   ['Displaced']       []                                []   \n",
       "1                              []       []                                []   \n",
       "2                              []       []                                []   \n",
       "3                   ['Displaced']       []  ['<18 Years', '18-59 Years Old']   \n",
       "4  ['Non Displaced', 'Displaced']       []                                []   \n",
       "\n",
       "              gender specific_needs_groups  \n",
       "0                 []                    []  \n",
       "1                 []                    []  \n",
       "2                 []                    []  \n",
       "3  ['All', 'Female']                    []  \n",
       "4                 []                    []  \n",
       "\n",
       "[5 rows x 24 columns]"
      ]
     },
     "execution_count": 447,
     "metadata": {},
     "output_type": "execute_result"
    }
   ],
   "source": [
    "df = pd.read_csv('../data/raw/nlp.csv')\n",
    "df.head()"
   ]
  },
  {
   "cell_type": "code",
   "execution_count": 448,
   "id": "062957fb",
   "metadata": {},
   "outputs": [
    {
     "data": {
      "text/plain": [
       "Index(['Unnamed: 0', 'entry_id', 'lead_id', 'lang', 'n_tokens',\n",
       "       'project_title', 'created_at', 'document', 'source_title',\n",
       "       'author_title', 'excerpt', 'geo_location', 'sectors', 'pillars_1d',\n",
       "       'pillars_2d', 'subpillars_1d', 'subpillars_2d', 'displaced',\n",
       "       'non_displaced', 'affected', 'severity', 'age', 'gender',\n",
       "       'specific_needs_groups'],\n",
       "      dtype='object')"
      ]
     },
     "execution_count": 448,
     "metadata": {},
     "output_type": "execute_result"
    }
   ],
   "source": [
    "df.columns"
   ]
  },
  {
   "cell_type": "code",
   "execution_count": 449,
   "id": "b2b319e5",
   "metadata": {},
   "outputs": [
    {
     "data": {
      "text/plain": [
       "'[Ouagadougou] While accessibility to schools is certainly better than to advanced healthcare facilities, significant parts of the city on its edges, such as the south-eastern boundary, have travel times in excess of 45 minutes or even an hour.'"
      ]
     },
     "execution_count": 449,
     "metadata": {},
     "output_type": "execute_result"
    }
   ],
   "source": [
    "df['excerpt'][345]"
   ]
  },
  {
   "cell_type": "code",
   "execution_count": 450,
   "id": "2bceee17",
   "metadata": {},
   "outputs": [
    {
     "name": "stderr",
     "output_type": "stream",
     "text": [
      "C:\\Users\\PINCHEZZ\\AppData\\Local\\Temp\\ipykernel_6564\\464967222.py:1: DtypeWarning: Columns (27) have mixed types. Specify dtype option on import or set low_memory=False.\n",
      "  df = pd.read_csv('../data/raw/wpdx_kenya.csv')\n"
     ]
    },
    {
     "data": {
      "text/html": [
       "<div>\n",
       "<style scoped>\n",
       "    .dataframe tbody tr th:only-of-type {\n",
       "        vertical-align: middle;\n",
       "    }\n",
       "\n",
       "    .dataframe tbody tr th {\n",
       "        vertical-align: top;\n",
       "    }\n",
       "\n",
       "    .dataframe thead th {\n",
       "        text-align: right;\n",
       "    }\n",
       "</style>\n",
       "<table border=\"1\" class=\"dataframe\">\n",
       "  <thead>\n",
       "    <tr style=\"text-align: right;\">\n",
       "      <th></th>\n",
       "      <th>row_id</th>\n",
       "      <th>source</th>\n",
       "      <th>lat_deg</th>\n",
       "      <th>lon_deg</th>\n",
       "      <th>report_date</th>\n",
       "      <th>status_id</th>\n",
       "      <th>water_source_clean</th>\n",
       "      <th>water_source_category</th>\n",
       "      <th>water_tech_clean</th>\n",
       "      <th>_water_tech_category</th>\n",
       "      <th>...</th>\n",
       "      <th>subjective_quality</th>\n",
       "      <th>new_georeferenced_column_</th>\n",
       "      <th>lat_lon_deg</th>\n",
       "      <th>public_data_source</th>\n",
       "      <th>converted</th>\n",
       "      <th>count</th>\n",
       "      <th>created_timestamp</th>\n",
       "      <th>updated</th>\n",
       "      <th>is_duplicate</th>\n",
       "      <th>dataset_title</th>\n",
       "    </tr>\n",
       "  </thead>\n",
       "  <tbody>\n",
       "    <tr>\n",
       "      <th>0</th>\n",
       "      <td>223047</td>\n",
       "      <td>Evidence Action</td>\n",
       "      <td>0.287917</td>\n",
       "      <td>34.661463</td>\n",
       "      <td>2024-12-01T00:00:00.000</td>\n",
       "      <td>Yes</td>\n",
       "      <td>Protected Well</td>\n",
       "      <td>Well</td>\n",
       "      <td>Motorized Pump - Electric</td>\n",
       "      <td>Motorized Pump</td>\n",
       "      <td>...</td>\n",
       "      <td>NaN</td>\n",
       "      <td>POINT (34.6614629 0.2879167)</td>\n",
       "      <td>(0.2879167°, 34.6614629°)</td>\n",
       "      <td>https://catalog.waterpointdata.org/datafiles/e...</td>\n",
       "      <td>NaN</td>\n",
       "      <td>1</td>\n",
       "      <td>2024-04-18T19:20:18.000</td>\n",
       "      <td>2024-04-18T19:20:18.000</td>\n",
       "      <td>NaN</td>\n",
       "      <td>Evidence Action_Kenya_2023-2024</td>\n",
       "    </tr>\n",
       "    <tr>\n",
       "      <th>1</th>\n",
       "      <td>221685</td>\n",
       "      <td>Evidence Action</td>\n",
       "      <td>0.382727</td>\n",
       "      <td>34.591831</td>\n",
       "      <td>2024-12-01T00:00:00.000</td>\n",
       "      <td>Yes</td>\n",
       "      <td>Borehole/Tubewell</td>\n",
       "      <td>Well</td>\n",
       "      <td>Public Tapstand</td>\n",
       "      <td>Public Tapstand</td>\n",
       "      <td>...</td>\n",
       "      <td>Yes, the water is treated and safe for drinking</td>\n",
       "      <td>POINT (34.59183120727539 0.3827266693115234)</td>\n",
       "      <td>(0.38272666931152344°, 34.59183120727539°)</td>\n",
       "      <td>https://catalog.waterpointdata.org/datafiles/e...</td>\n",
       "      <td>#status_id, #orig_lnk</td>\n",
       "      <td>1</td>\n",
       "      <td>2024-04-18T19:20:18.000</td>\n",
       "      <td>2024-04-18T19:20:18.000</td>\n",
       "      <td>NaN</td>\n",
       "      <td>Evidence Action_Kenya_2023-2024</td>\n",
       "    </tr>\n",
       "    <tr>\n",
       "      <th>2</th>\n",
       "      <td>221520</td>\n",
       "      <td>Evidence Action</td>\n",
       "      <td>0.311163</td>\n",
       "      <td>34.586723</td>\n",
       "      <td>2024-12-01T00:00:00.000</td>\n",
       "      <td>Yes</td>\n",
       "      <td>Borehole/Tubewell</td>\n",
       "      <td>Well</td>\n",
       "      <td>NaN</td>\n",
       "      <td>NaN</td>\n",
       "      <td>...</td>\n",
       "      <td>NaN</td>\n",
       "      <td>POINT (34.58672332763672 0.3111633360385895)</td>\n",
       "      <td>(0.3111633360385895°, 34.58672332763672°)</td>\n",
       "      <td>https://catalog.waterpointdata.org/datafiles/e...</td>\n",
       "      <td>NaN</td>\n",
       "      <td>1</td>\n",
       "      <td>2024-04-18T19:20:18.000</td>\n",
       "      <td>2024-04-18T19:20:18.000</td>\n",
       "      <td>NaN</td>\n",
       "      <td>Evidence Action_Kenya_2023-2024</td>\n",
       "    </tr>\n",
       "    <tr>\n",
       "      <th>3</th>\n",
       "      <td>221691</td>\n",
       "      <td>Evidence Action</td>\n",
       "      <td>0.397245</td>\n",
       "      <td>34.595146</td>\n",
       "      <td>2024-12-01T00:00:00.000</td>\n",
       "      <td>Yes</td>\n",
       "      <td>Protected Well</td>\n",
       "      <td>Well</td>\n",
       "      <td>Motorized Pump - Electric</td>\n",
       "      <td>Motorized Pump</td>\n",
       "      <td>...</td>\n",
       "      <td>NaN</td>\n",
       "      <td>POINT (34.59514617919922 0.3972449898719788)</td>\n",
       "      <td>(0.39724498987197876°, 34.59514617919922°)</td>\n",
       "      <td>https://catalog.waterpointdata.org/datafiles/e...</td>\n",
       "      <td>NaN</td>\n",
       "      <td>1</td>\n",
       "      <td>2024-04-18T19:20:18.000</td>\n",
       "      <td>2024-04-18T19:20:18.000</td>\n",
       "      <td>NaN</td>\n",
       "      <td>Evidence Action_Kenya_2023-2024</td>\n",
       "    </tr>\n",
       "    <tr>\n",
       "      <th>4</th>\n",
       "      <td>222938</td>\n",
       "      <td>Evidence Action</td>\n",
       "      <td>0.298903</td>\n",
       "      <td>34.655777</td>\n",
       "      <td>2024-12-01T00:00:00.000</td>\n",
       "      <td>Yes</td>\n",
       "      <td>Protected Well</td>\n",
       "      <td>Well</td>\n",
       "      <td>Motorized Pump - Electric</td>\n",
       "      <td>Motorized Pump</td>\n",
       "      <td>...</td>\n",
       "      <td>NaN</td>\n",
       "      <td>POINT (34.6557765 0.298903)</td>\n",
       "      <td>(0.298903°, 34.6557765°)</td>\n",
       "      <td>https://catalog.waterpointdata.org/datafiles/e...</td>\n",
       "      <td>NaN</td>\n",
       "      <td>1</td>\n",
       "      <td>2024-04-18T19:20:18.000</td>\n",
       "      <td>2024-04-18T19:20:18.000</td>\n",
       "      <td>NaN</td>\n",
       "      <td>Evidence Action_Kenya_2023-2024</td>\n",
       "    </tr>\n",
       "  </tbody>\n",
       "</table>\n",
       "<p>5 rows × 73 columns</p>\n",
       "</div>"
      ],
      "text/plain": [
       "   row_id           source   lat_deg    lon_deg              report_date  \\\n",
       "0  223047  Evidence Action  0.287917  34.661463  2024-12-01T00:00:00.000   \n",
       "1  221685  Evidence Action  0.382727  34.591831  2024-12-01T00:00:00.000   \n",
       "2  221520  Evidence Action  0.311163  34.586723  2024-12-01T00:00:00.000   \n",
       "3  221691  Evidence Action  0.397245  34.595146  2024-12-01T00:00:00.000   \n",
       "4  222938  Evidence Action  0.298903  34.655777  2024-12-01T00:00:00.000   \n",
       "\n",
       "  status_id water_source_clean water_source_category  \\\n",
       "0       Yes     Protected Well                  Well   \n",
       "1       Yes  Borehole/Tubewell                  Well   \n",
       "2       Yes  Borehole/Tubewell                  Well   \n",
       "3       Yes     Protected Well                  Well   \n",
       "4       Yes     Protected Well                  Well   \n",
       "\n",
       "            water_tech_clean _water_tech_category  ...  \\\n",
       "0  Motorized Pump - Electric       Motorized Pump  ...   \n",
       "1            Public Tapstand      Public Tapstand  ...   \n",
       "2                        NaN                  NaN  ...   \n",
       "3  Motorized Pump - Electric       Motorized Pump  ...   \n",
       "4  Motorized Pump - Electric       Motorized Pump  ...   \n",
       "\n",
       "                                subjective_quality  \\\n",
       "0                                              NaN   \n",
       "1  Yes, the water is treated and safe for drinking   \n",
       "2                                              NaN   \n",
       "3                                              NaN   \n",
       "4                                              NaN   \n",
       "\n",
       "                      new_georeferenced_column_  \\\n",
       "0                  POINT (34.6614629 0.2879167)   \n",
       "1  POINT (34.59183120727539 0.3827266693115234)   \n",
       "2  POINT (34.58672332763672 0.3111633360385895)   \n",
       "3  POINT (34.59514617919922 0.3972449898719788)   \n",
       "4                   POINT (34.6557765 0.298903)   \n",
       "\n",
       "                                  lat_lon_deg  \\\n",
       "0                   (0.2879167°, 34.6614629°)   \n",
       "1  (0.38272666931152344°, 34.59183120727539°)   \n",
       "2   (0.3111633360385895°, 34.58672332763672°)   \n",
       "3  (0.39724498987197876°, 34.59514617919922°)   \n",
       "4                    (0.298903°, 34.6557765°)   \n",
       "\n",
       "                                  public_data_source              converted  \\\n",
       "0  https://catalog.waterpointdata.org/datafiles/e...                    NaN   \n",
       "1  https://catalog.waterpointdata.org/datafiles/e...  #status_id, #orig_lnk   \n",
       "2  https://catalog.waterpointdata.org/datafiles/e...                    NaN   \n",
       "3  https://catalog.waterpointdata.org/datafiles/e...                    NaN   \n",
       "4  https://catalog.waterpointdata.org/datafiles/e...                    NaN   \n",
       "\n",
       "  count        created_timestamp                  updated is_duplicate  \\\n",
       "0     1  2024-04-18T19:20:18.000  2024-04-18T19:20:18.000          NaN   \n",
       "1     1  2024-04-18T19:20:18.000  2024-04-18T19:20:18.000          NaN   \n",
       "2     1  2024-04-18T19:20:18.000  2024-04-18T19:20:18.000          NaN   \n",
       "3     1  2024-04-18T19:20:18.000  2024-04-18T19:20:18.000          NaN   \n",
       "4     1  2024-04-18T19:20:18.000  2024-04-18T19:20:18.000          NaN   \n",
       "\n",
       "                     dataset_title  \n",
       "0  Evidence Action_Kenya_2023-2024  \n",
       "1  Evidence Action_Kenya_2023-2024  \n",
       "2  Evidence Action_Kenya_2023-2024  \n",
       "3  Evidence Action_Kenya_2023-2024  \n",
       "4  Evidence Action_Kenya_2023-2024  \n",
       "\n",
       "[5 rows x 73 columns]"
      ]
     },
     "execution_count": 450,
     "metadata": {},
     "output_type": "execute_result"
    }
   ],
   "source": [
    "df = pd.read_csv('../data/raw/wpdx_kenya.csv')\n",
    "df.head()"
   ]
  },
  {
   "cell_type": "code",
   "execution_count": 451,
   "id": "51a00c9c",
   "metadata": {},
   "outputs": [
    {
     "data": {
      "text/plain": [
       "subjective_quality\n",
       "No, the water is not treated and safe for drinking                                           4025\n",
       "Yes, the water is treated and safe for drinking                                              2737\n",
       "Safe -Crisp and clear                                                                        2094\n",
       "Not tested Crisp and clear                                                                    374\n",
       "Safe Crisp and clear                                                                          267\n",
       "Unsafe Coloured (whitish- brownish)                                                           110\n",
       "Safe Crisp and clear|Salty                                                                    107\n",
       "UNSafe Coloured e.g whitish , brown, green                                                     60\n",
       "unspecified                                                                                    57\n",
       "Not tested Crisp and clear|Salty                                                               46\n",
       "Not tested Coloured (whitish- brownish)                                                        40\n",
       "UnSafe Crisp and clear                                                                         37\n",
       "Safe Salty                                                                                     26\n",
       "Safe Crisp and clear,Salty                                                                     25\n",
       "Unsafe Salty                                                                                   22\n",
       "UNSafeCrisp and clear                                                                          22\n",
       "Safe Coloured (whitish- brownish)                                                              22\n",
       "Crisp and clear                                                                                20\n",
       "Not tested                                                                                     14\n",
       "UNSafe Crisp and clear                                                                         14\n",
       "UnSafe Crisp and clear|Salty                                                                   10\n",
       "Safe Crisp and clear|Coloured (whitish- brownish)                                               9\n",
       "Safe Crisp and clear|Fluoride (e.g. brown teeth)                                                7\n",
       "Safe                                                                                            6\n",
       "Not tested Crisp and clear|Coloured (whitish- brownish)                                         6\n",
       "Coloured e.g whitish , brown, green                                                             5\n",
       "safe Salty                                                                                      5\n",
       "UnSafe Crisp and clear|Coloured (whitish- brownish)                                             4\n",
       "UNSafe Salty                                                                                    4\n",
       "Safe unspecified                                                                                4\n",
       "Unsafe Coloured (whitish- brownish)|Salty                                                       4\n",
       "UNSafe Crisp and clear,Salty                                                                    4\n",
       "UNSafe unspecified                                                                              4\n",
       "Safe Coloured e.g whitish , brown, green                                                        3\n",
       "Safe Crisp and clear|Salty|Fluoride (e.g. brown teeth)                                          3\n",
       "UNSafe Coloured e.g whitish or brown,Salty                                                      3\n",
       "Not tested Crisp and clear|Salty|Fluoride (e.g. brown teeth)                                    3\n",
       "Unsafe Fluoride (e.g. brown teeth)                                                              3\n",
       "UNSafeColoured e.g whitish , brown, green                                                       3\n",
       "Unsafe Coloured (whitish- brownish)|Fluoride (e.g. brown teeth)                                 2\n",
       "Not tested Crisp and clear|Coloured (whitish- brownish)|Salty|Fluoride (e.g. brown teeth)       2\n",
       "UnSafe Crisp and clear|Fluoride (e.g. brown teeth)                                              2\n",
       "UnSafe Crisp and clear|Coloured (whitish- brownish)|Salty|Fluoride (e.g. brown teeth)           2\n",
       "UNSafeCrisp and clear,Coloured e.g whitish or brown                                             1\n",
       "Crisp and clear|Salty                                                                           1\n",
       "Not testedSalty                                                                                 1\n",
       "SafeSalty                                                                                       1\n",
       "UNSafe Crisp and clear,Salty,Fluoride e.g brown teeth                                           1\n",
       "Not tested Crisp and clear|Fluoride (e.g. brown teeth)                                          1\n",
       "Not tested Coloured (whitish- brownish)|Salty                                                   1\n",
       "Not testedFluoride (e.g. brown teeth)                                                           1\n",
       "Safe Coloured (whitish- brownish)|Salty                                                         1\n",
       "UNSafe Coloured e.g whitish or brown, Fluoride e.g brown teeth                                  1\n",
       "Crisp and clear,Salty                                                                           1\n",
       "Unsafe Coloured (whitish- brownish)|Salty|Fluoride (e.g. brown teeth)                           1\n",
       "Safe Crisp and clear,Coloured e.g whitish or brown                                              1\n",
       "Not tested Coloured (whitish- brownish)|Fluoride (e.g. brown teeth)                             1\n",
       "Coloured (whitish- brownish)                                                                    1\n",
       "Name: count, dtype: int64"
      ]
     },
     "execution_count": 451,
     "metadata": {},
     "output_type": "execute_result"
    }
   ],
   "source": [
    "df['subjective_quality'].value_counts()"
   ]
  },
  {
   "cell_type": "code",
   "execution_count": 452,
   "id": "2b6c7f3f",
   "metadata": {},
   "outputs": [
    {
     "data": {
      "text/plain": [
       "11721"
      ]
     },
     "execution_count": 452,
     "metadata": {},
     "output_type": "execute_result"
    }
   ],
   "source": [
    "df['subjective_quality'].isna().sum()"
   ]
  },
  {
   "cell_type": "code",
   "execution_count": 453,
   "id": "af4e4a02",
   "metadata": {},
   "outputs": [
    {
     "data": {
      "text/html": [
       "<div>\n",
       "<style scoped>\n",
       "    .dataframe tbody tr th:only-of-type {\n",
       "        vertical-align: middle;\n",
       "    }\n",
       "\n",
       "    .dataframe tbody tr th {\n",
       "        vertical-align: top;\n",
       "    }\n",
       "\n",
       "    .dataframe thead th {\n",
       "        text-align: right;\n",
       "    }\n",
       "</style>\n",
       "<table border=\"1\" class=\"dataframe\">\n",
       "  <thead>\n",
       "    <tr style=\"text-align: right;\">\n",
       "      <th></th>\n",
       "      <th>Unnamed: 0</th>\n",
       "      <th>entry_id</th>\n",
       "      <th>lead_id</th>\n",
       "      <th>lang</th>\n",
       "      <th>n_tokens</th>\n",
       "      <th>project_title</th>\n",
       "      <th>created_at</th>\n",
       "      <th>document</th>\n",
       "      <th>source_title</th>\n",
       "      <th>author_title</th>\n",
       "      <th>...</th>\n",
       "      <th>pillars_2d</th>\n",
       "      <th>subpillars_1d</th>\n",
       "      <th>subpillars_2d</th>\n",
       "      <th>displaced</th>\n",
       "      <th>non_displaced</th>\n",
       "      <th>affected</th>\n",
       "      <th>severity</th>\n",
       "      <th>age</th>\n",
       "      <th>gender</th>\n",
       "      <th>specific_needs_groups</th>\n",
       "    </tr>\n",
       "  </thead>\n",
       "  <tbody>\n",
       "    <tr>\n",
       "      <th>0</th>\n",
       "      <td>0</td>\n",
       "      <td>199921</td>\n",
       "      <td>44304</td>\n",
       "      <td>en</td>\n",
       "      <td>145</td>\n",
       "      <td>IMMAP/DFS Burkina Faso</td>\n",
       "      <td>2020-11-26 10:42:14.523264+00:00</td>\n",
       "      <td>Unknown</td>\n",
       "      <td>United Nations High Commissioner for Refugees</td>\n",
       "      <td>Unknown</td>\n",
       "      <td>...</td>\n",
       "      <td>[]</td>\n",
       "      <td>['Displacement-&gt;Type/Numbers/Movements']</td>\n",
       "      <td>[]</td>\n",
       "      <td>['Idp']</td>\n",
       "      <td>[]</td>\n",
       "      <td>['Displaced']</td>\n",
       "      <td>[]</td>\n",
       "      <td>[]</td>\n",
       "      <td>[]</td>\n",
       "      <td>[]</td>\n",
       "    </tr>\n",
       "    <tr>\n",
       "      <th>1</th>\n",
       "      <td>1</td>\n",
       "      <td>293791</td>\n",
       "      <td>52163</td>\n",
       "      <td>en</td>\n",
       "      <td>480</td>\n",
       "      <td>IMMAP/DFS Burkina Faso</td>\n",
       "      <td>2021-03-29 06:53:04.456578+00:00</td>\n",
       "      <td>https://allafrica.com/stories/202103160182.html</td>\n",
       "      <td>AllAfrica</td>\n",
       "      <td>Unknown</td>\n",
       "      <td>...</td>\n",
       "      <td>[]</td>\n",
       "      <td>['Context-&gt;Environment', 'Context-&gt;Economy']</td>\n",
       "      <td>[]</td>\n",
       "      <td>[]</td>\n",
       "      <td>[]</td>\n",
       "      <td>[]</td>\n",
       "      <td>[]</td>\n",
       "      <td>[]</td>\n",
       "      <td>[]</td>\n",
       "      <td>[]</td>\n",
       "    </tr>\n",
       "    <tr>\n",
       "      <th>2</th>\n",
       "      <td>2</td>\n",
       "      <td>169536</td>\n",
       "      <td>40366</td>\n",
       "      <td>en</td>\n",
       "      <td>879</td>\n",
       "      <td>IMMAP/DFS Burkina Faso</td>\n",
       "      <td>2020-10-06 21:23:24.022536+00:00</td>\n",
       "      <td>Unknown</td>\n",
       "      <td>Reliefweb</td>\n",
       "      <td>Unknown</td>\n",
       "      <td>...</td>\n",
       "      <td>['At Risk']</td>\n",
       "      <td>['Casualties-&gt;Dead', 'Context-&gt;Security &amp; Stab...</td>\n",
       "      <td>['At Risk-&gt;Risk And Vulnerabilities']</td>\n",
       "      <td>[]</td>\n",
       "      <td>[]</td>\n",
       "      <td>[]</td>\n",
       "      <td>[]</td>\n",
       "      <td>[]</td>\n",
       "      <td>[]</td>\n",
       "      <td>[]</td>\n",
       "    </tr>\n",
       "    <tr>\n",
       "      <th>3</th>\n",
       "      <td>3</td>\n",
       "      <td>169537</td>\n",
       "      <td>40366</td>\n",
       "      <td>en</td>\n",
       "      <td>642</td>\n",
       "      <td>IMMAP/DFS Burkina Faso</td>\n",
       "      <td>2020-10-06 21:23:25.409843+00:00</td>\n",
       "      <td>Unknown</td>\n",
       "      <td>Reliefweb</td>\n",
       "      <td>Unknown</td>\n",
       "      <td>...</td>\n",
       "      <td>[]</td>\n",
       "      <td>['Displacement-&gt;Type/Numbers/Movements', 'Disp...</td>\n",
       "      <td>[]</td>\n",
       "      <td>[]</td>\n",
       "      <td>[]</td>\n",
       "      <td>['Displaced']</td>\n",
       "      <td>[]</td>\n",
       "      <td>['&lt;18 Years', '18-59 Years Old']</td>\n",
       "      <td>['All', 'Female']</td>\n",
       "      <td>[]</td>\n",
       "    </tr>\n",
       "    <tr>\n",
       "      <th>4</th>\n",
       "      <td>4</td>\n",
       "      <td>155848</td>\n",
       "      <td>38493</td>\n",
       "      <td>en</td>\n",
       "      <td>600</td>\n",
       "      <td>IMMAP/DFS Burkina Faso</td>\n",
       "      <td>2020-09-08 12:42:54.252017+00:00</td>\n",
       "      <td>Unknown</td>\n",
       "      <td>UNHCR Portal</td>\n",
       "      <td>Unknown</td>\n",
       "      <td>...</td>\n",
       "      <td>['Capacities &amp; Response']</td>\n",
       "      <td>['Information And Communication-&gt;Communication...</td>\n",
       "      <td>['Capacities &amp; Response-&gt;International Response']</td>\n",
       "      <td>['Idp']</td>\n",
       "      <td>['Host']</td>\n",
       "      <td>['Non Displaced', 'Displaced']</td>\n",
       "      <td>[]</td>\n",
       "      <td>[]</td>\n",
       "      <td>[]</td>\n",
       "      <td>[]</td>\n",
       "    </tr>\n",
       "  </tbody>\n",
       "</table>\n",
       "<p>5 rows × 24 columns</p>\n",
       "</div>"
      ],
      "text/plain": [
       "   Unnamed: 0  entry_id  lead_id lang  n_tokens           project_title  \\\n",
       "0           0    199921    44304   en       145  IMMAP/DFS Burkina Faso   \n",
       "1           1    293791    52163   en       480  IMMAP/DFS Burkina Faso   \n",
       "2           2    169536    40366   en       879  IMMAP/DFS Burkina Faso   \n",
       "3           3    169537    40366   en       642  IMMAP/DFS Burkina Faso   \n",
       "4           4    155848    38493   en       600  IMMAP/DFS Burkina Faso   \n",
       "\n",
       "                         created_at  \\\n",
       "0  2020-11-26 10:42:14.523264+00:00   \n",
       "1  2021-03-29 06:53:04.456578+00:00   \n",
       "2  2020-10-06 21:23:24.022536+00:00   \n",
       "3  2020-10-06 21:23:25.409843+00:00   \n",
       "4  2020-09-08 12:42:54.252017+00:00   \n",
       "\n",
       "                                          document  \\\n",
       "0                                          Unknown   \n",
       "1  https://allafrica.com/stories/202103160182.html   \n",
       "2                                          Unknown   \n",
       "3                                          Unknown   \n",
       "4                                          Unknown   \n",
       "\n",
       "                                    source_title author_title  ...  \\\n",
       "0  United Nations High Commissioner for Refugees      Unknown  ...   \n",
       "1                                      AllAfrica      Unknown  ...   \n",
       "2                                      Reliefweb      Unknown  ...   \n",
       "3                                      Reliefweb      Unknown  ...   \n",
       "4                                   UNHCR Portal      Unknown  ...   \n",
       "\n",
       "                  pillars_2d  \\\n",
       "0                         []   \n",
       "1                         []   \n",
       "2                ['At Risk']   \n",
       "3                         []   \n",
       "4  ['Capacities & Response']   \n",
       "\n",
       "                                       subpillars_1d  \\\n",
       "0           ['Displacement->Type/Numbers/Movements']   \n",
       "1       ['Context->Environment', 'Context->Economy']   \n",
       "2  ['Casualties->Dead', 'Context->Security & Stab...   \n",
       "3  ['Displacement->Type/Numbers/Movements', 'Disp...   \n",
       "4  ['Information And Communication->Communication...   \n",
       "\n",
       "                                       subpillars_2d displaced non_displaced  \\\n",
       "0                                                 []   ['Idp']            []   \n",
       "1                                                 []        []            []   \n",
       "2              ['At Risk->Risk And Vulnerabilities']        []            []   \n",
       "3                                                 []        []            []   \n",
       "4  ['Capacities & Response->International Response']   ['Idp']      ['Host']   \n",
       "\n",
       "                         affected severity                               age  \\\n",
       "0                   ['Displaced']       []                                []   \n",
       "1                              []       []                                []   \n",
       "2                              []       []                                []   \n",
       "3                   ['Displaced']       []  ['<18 Years', '18-59 Years Old']   \n",
       "4  ['Non Displaced', 'Displaced']       []                                []   \n",
       "\n",
       "              gender specific_needs_groups  \n",
       "0                 []                    []  \n",
       "1                 []                    []  \n",
       "2                 []                    []  \n",
       "3  ['All', 'Female']                    []  \n",
       "4                 []                    []  \n",
       "\n",
       "[5 rows x 24 columns]"
      ]
     },
     "execution_count": 453,
     "metadata": {},
     "output_type": "execute_result"
    }
   ],
   "source": [
    "df = pd.read_csv('../data/raw/nlp.csv')\n",
    "df.head()"
   ]
  },
  {
   "cell_type": "code",
   "execution_count": 459,
   "id": "80276cb7",
   "metadata": {},
   "outputs": [
    {
     "data": {
      "text/plain": [
       "Index(['Unnamed: 0', 'entry_id', 'lead_id', 'lang', 'n_tokens',\n",
       "       'project_title', 'created_at', 'document', 'source_title',\n",
       "       'author_title', 'excerpt', 'geo_location', 'sectors', 'pillars_1d',\n",
       "       'pillars_2d', 'subpillars_1d', 'subpillars_2d', 'displaced',\n",
       "       'non_displaced', 'affected', 'severity', 'age', 'gender',\n",
       "       'specific_needs_groups'],\n",
       "      dtype='object')"
      ]
     },
     "execution_count": 459,
     "metadata": {},
     "output_type": "execute_result"
    }
   ],
   "source": [
    "df.columns"
   ]
  },
  {
   "cell_type": "code",
   "execution_count": 457,
   "id": "8354a090",
   "metadata": {},
   "outputs": [],
   "source": [
    "keywords = [\n",
    "    \"contaminated\", \"dirty\", \"polluted\", \"unsafe\", \"hazardous\",\n",
    "    \"brown\", \"cloudy\", \"muddy\", \"smelly\", \"foul odor\",\n",
    "    \"discolored\", \"rusty\", \"sediment\", \"algae\", \"stagnant\",\n",
    "    \"fecal\", \"cholera\", \"typhoid\", \"e.coli\", \"diarrhea\",\n",
    "    \"unfit\", \"toxic\", \"nausea\", \"sickness\", \"illness\", \"infection\",\n",
    "    \"clean\", \"clear\", \"treated\", \"filtered\", \"purified\",\n",
    "    \"potable\", \"safe\", \"chlorinated\", \"boiled\", \"disinfected\",\n",
    "    \"UV treated\", \"reverse osmosis\", \"good taste\", \"no odor\",\n",
    "    \"fresh\", \"crystal clear\", \"transparent\",\n",
    "    \"filtration\", \"disinfection\", \"chlorination\", \"UV treatment\",\n",
    "    \"reverse osmosis\", \"boiling\", \"settling\", \"coagulation\",\n",
    "    \"aeration\", \"carbon filter\", \"chemical treatment\",\n",
    "    \"coliform\", \"turbidity\", \"pH\", \"arsenic\", \"nitrate\",\n",
    "    \"bacteria\", \"pathogen\", \"lead\", \"hardness\", \"contaminant level\"\n",
    "]\n"
   ]
  },
  {
   "cell_type": "code",
   "execution_count": 458,
   "id": "5efa6001",
   "metadata": {},
   "outputs": [],
   "source": [
    "import re\n",
    "\n",
    "pattern = '|'.join([re.escape(word) for word in keywords])"
   ]
  },
  {
   "cell_type": "code",
   "execution_count": 465,
   "id": "34b4bb2f",
   "metadata": {},
   "outputs": [
    {
     "data": {
      "text/html": [
       "<div>\n",
       "<style scoped>\n",
       "    .dataframe tbody tr th:only-of-type {\n",
       "        vertical-align: middle;\n",
       "    }\n",
       "\n",
       "    .dataframe tbody tr th {\n",
       "        vertical-align: top;\n",
       "    }\n",
       "\n",
       "    .dataframe thead th {\n",
       "        text-align: right;\n",
       "    }\n",
       "</style>\n",
       "<table border=\"1\" class=\"dataframe\">\n",
       "  <thead>\n",
       "    <tr style=\"text-align: right;\">\n",
       "      <th></th>\n",
       "      <th>Unnamed: 0</th>\n",
       "      <th>entry_id</th>\n",
       "      <th>lead_id</th>\n",
       "      <th>lang</th>\n",
       "      <th>n_tokens</th>\n",
       "      <th>project_title</th>\n",
       "      <th>created_at</th>\n",
       "      <th>document</th>\n",
       "      <th>source_title</th>\n",
       "      <th>author_title</th>\n",
       "      <th>...</th>\n",
       "      <th>pillars_2d</th>\n",
       "      <th>subpillars_1d</th>\n",
       "      <th>subpillars_2d</th>\n",
       "      <th>displaced</th>\n",
       "      <th>non_displaced</th>\n",
       "      <th>affected</th>\n",
       "      <th>severity</th>\n",
       "      <th>age</th>\n",
       "      <th>gender</th>\n",
       "      <th>specific_needs_groups</th>\n",
       "    </tr>\n",
       "  </thead>\n",
       "  <tbody>\n",
       "    <tr>\n",
       "      <th>2</th>\n",
       "      <td>2</td>\n",
       "      <td>169536</td>\n",
       "      <td>40366</td>\n",
       "      <td>en</td>\n",
       "      <td>879</td>\n",
       "      <td>IMMAP/DFS Burkina Faso</td>\n",
       "      <td>2020-10-06 21:23:24.022536+00:00</td>\n",
       "      <td>Unknown</td>\n",
       "      <td>Reliefweb</td>\n",
       "      <td>Unknown</td>\n",
       "      <td>...</td>\n",
       "      <td>['At Risk']</td>\n",
       "      <td>['Casualties-&gt;Dead', 'Context-&gt;Security &amp; Stab...</td>\n",
       "      <td>['At Risk-&gt;Risk And Vulnerabilities']</td>\n",
       "      <td>[]</td>\n",
       "      <td>[]</td>\n",
       "      <td>[]</td>\n",
       "      <td>[]</td>\n",
       "      <td>[]</td>\n",
       "      <td>[]</td>\n",
       "      <td>[]</td>\n",
       "    </tr>\n",
       "    <tr>\n",
       "      <th>15</th>\n",
       "      <td>15</td>\n",
       "      <td>161598</td>\n",
       "      <td>39538</td>\n",
       "      <td>en</td>\n",
       "      <td>524</td>\n",
       "      <td>IMMAP/DFS Burkina Faso</td>\n",
       "      <td>2020-09-17 17:11:17.685631+00:00</td>\n",
       "      <td>Unknown</td>\n",
       "      <td>UNHCR Portal</td>\n",
       "      <td>Unknown</td>\n",
       "      <td>...</td>\n",
       "      <td>[]</td>\n",
       "      <td>['Displacement-&gt;Intentions', 'Displacement-&gt;Ty...</td>\n",
       "      <td>[]</td>\n",
       "      <td>['Returnees', 'Refugees']</td>\n",
       "      <td>[]</td>\n",
       "      <td>['Displaced']</td>\n",
       "      <td>[]</td>\n",
       "      <td>[]</td>\n",
       "      <td>[]</td>\n",
       "      <td>[]</td>\n",
       "    </tr>\n",
       "    <tr>\n",
       "      <th>18</th>\n",
       "      <td>18</td>\n",
       "      <td>161391</td>\n",
       "      <td>39362</td>\n",
       "      <td>en</td>\n",
       "      <td>1294</td>\n",
       "      <td>IMMAP/DFS Burkina Faso</td>\n",
       "      <td>2020-09-17 13:29:50.403041+00:00</td>\n",
       "      <td>https://www.thenewhumanitarian.org/analysis/20...</td>\n",
       "      <td>The New Humanitarian</td>\n",
       "      <td>Unknown</td>\n",
       "      <td>...</td>\n",
       "      <td>[]</td>\n",
       "      <td>['Information And Communication-&gt;Communication...</td>\n",
       "      <td>[]</td>\n",
       "      <td>[]</td>\n",
       "      <td>[]</td>\n",
       "      <td>[]</td>\n",
       "      <td>[]</td>\n",
       "      <td>[]</td>\n",
       "      <td>[]</td>\n",
       "      <td>[]</td>\n",
       "    </tr>\n",
       "    <tr>\n",
       "      <th>20</th>\n",
       "      <td>20</td>\n",
       "      <td>159830</td>\n",
       "      <td>39379</td>\n",
       "      <td>en</td>\n",
       "      <td>992</td>\n",
       "      <td>IMMAP/DFS Burkina Faso</td>\n",
       "      <td>2020-09-16 08:04:06.018356+00:00</td>\n",
       "      <td>https://reliefweb.int/sites/reliefweb.int/file...</td>\n",
       "      <td>ReliefWeb</td>\n",
       "      <td>Unknown</td>\n",
       "      <td>...</td>\n",
       "      <td>['At Risk']</td>\n",
       "      <td>[]</td>\n",
       "      <td>['At Risk-&gt;Risk And Vulnerabilities']</td>\n",
       "      <td>[]</td>\n",
       "      <td>[]</td>\n",
       "      <td>[]</td>\n",
       "      <td>[]</td>\n",
       "      <td>[]</td>\n",
       "      <td>[]</td>\n",
       "      <td>[]</td>\n",
       "    </tr>\n",
       "    <tr>\n",
       "      <th>21</th>\n",
       "      <td>21</td>\n",
       "      <td>161284</td>\n",
       "      <td>39527</td>\n",
       "      <td>en</td>\n",
       "      <td>854</td>\n",
       "      <td>IMMAP/DFS Burkina Faso</td>\n",
       "      <td>2020-09-17 12:19:46.042241+00:00</td>\n",
       "      <td>Unknown</td>\n",
       "      <td>Reliefweb</td>\n",
       "      <td>Unknown</td>\n",
       "      <td>...</td>\n",
       "      <td>['Humanitarian Conditions', 'Impact']</td>\n",
       "      <td>[]</td>\n",
       "      <td>['Humanitarian Conditions-&gt;Living Standards', ...</td>\n",
       "      <td>[]</td>\n",
       "      <td>[]</td>\n",
       "      <td>[]</td>\n",
       "      <td>['Severe Issue']</td>\n",
       "      <td>['&lt;18 Years']</td>\n",
       "      <td>['All']</td>\n",
       "      <td>[]</td>\n",
       "    </tr>\n",
       "  </tbody>\n",
       "</table>\n",
       "<p>5 rows × 24 columns</p>\n",
       "</div>"
      ],
      "text/plain": [
       "    Unnamed: 0  entry_id  lead_id lang  n_tokens           project_title  \\\n",
       "2            2    169536    40366   en       879  IMMAP/DFS Burkina Faso   \n",
       "15          15    161598    39538   en       524  IMMAP/DFS Burkina Faso   \n",
       "18          18    161391    39362   en      1294  IMMAP/DFS Burkina Faso   \n",
       "20          20    159830    39379   en       992  IMMAP/DFS Burkina Faso   \n",
       "21          21    161284    39527   en       854  IMMAP/DFS Burkina Faso   \n",
       "\n",
       "                          created_at  \\\n",
       "2   2020-10-06 21:23:24.022536+00:00   \n",
       "15  2020-09-17 17:11:17.685631+00:00   \n",
       "18  2020-09-17 13:29:50.403041+00:00   \n",
       "20  2020-09-16 08:04:06.018356+00:00   \n",
       "21  2020-09-17 12:19:46.042241+00:00   \n",
       "\n",
       "                                             document          source_title  \\\n",
       "2                                             Unknown             Reliefweb   \n",
       "15                                            Unknown          UNHCR Portal   \n",
       "18  https://www.thenewhumanitarian.org/analysis/20...  The New Humanitarian   \n",
       "20  https://reliefweb.int/sites/reliefweb.int/file...             ReliefWeb   \n",
       "21                                            Unknown             Reliefweb   \n",
       "\n",
       "   author_title  ...                             pillars_2d  \\\n",
       "2       Unknown  ...                            ['At Risk']   \n",
       "15      Unknown  ...                                     []   \n",
       "18      Unknown  ...                                     []   \n",
       "20      Unknown  ...                            ['At Risk']   \n",
       "21      Unknown  ...  ['Humanitarian Conditions', 'Impact']   \n",
       "\n",
       "                                        subpillars_1d  \\\n",
       "2   ['Casualties->Dead', 'Context->Security & Stab...   \n",
       "15  ['Displacement->Intentions', 'Displacement->Ty...   \n",
       "18  ['Information And Communication->Communication...   \n",
       "20                                                 []   \n",
       "21                                                 []   \n",
       "\n",
       "                                        subpillars_2d  \\\n",
       "2               ['At Risk->Risk And Vulnerabilities']   \n",
       "15                                                 []   \n",
       "18                                                 []   \n",
       "20              ['At Risk->Risk And Vulnerabilities']   \n",
       "21  ['Humanitarian Conditions->Living Standards', ...   \n",
       "\n",
       "                    displaced non_displaced       affected          severity  \\\n",
       "2                          []            []             []                []   \n",
       "15  ['Returnees', 'Refugees']            []  ['Displaced']                []   \n",
       "18                         []            []             []                []   \n",
       "20                         []            []             []                []   \n",
       "21                         []            []             []  ['Severe Issue']   \n",
       "\n",
       "              age   gender specific_needs_groups  \n",
       "2              []       []                    []  \n",
       "15             []       []                    []  \n",
       "18             []       []                    []  \n",
       "20             []       []                    []  \n",
       "21  ['<18 Years']  ['All']                    []  \n",
       "\n",
       "[5 rows x 24 columns]"
      ]
     },
     "execution_count": 465,
     "metadata": {},
     "output_type": "execute_result"
    }
   ],
   "source": [
    "filtered_df = df[df['excerpt'].str.contains(pattern, case=False, na=False)]\n",
    "filtered_df.head()"
   ]
  },
  {
   "cell_type": "code",
   "execution_count": 469,
   "id": "6fe5ed59",
   "metadata": {},
   "outputs": [
    {
     "data": {
      "text/plain": [
       "'Widespread and indiscriminate violence by armed groups continues in several regions of the country, particularly in the Sahel, East, North and the Centre North. The military, authorities, local leaders and civilians are regular targets of the attacks. On 8 July, the Mayor of Pensa in the Centre North was ambushed and killed. A month later, on 11 August, the Grand Imam of the city of Djibo was kidnapped by armed groups. A few days later his body was found. His death comes months after the killing of the Mayor of Djibo in November 2019.'"
      ]
     },
     "execution_count": 469,
     "metadata": {},
     "output_type": "execute_result"
    }
   ],
   "source": [
    "filtered_df['excerpt'][2]"
   ]
  },
  {
   "cell_type": "code",
   "execution_count": null,
   "id": "a10b58f6",
   "metadata": {},
   "outputs": [],
   "source": []
  }
 ],
 "metadata": {
  "kernelspec": {
   "display_name": "learn-env",
   "language": "python",
   "name": "python3"
  },
  "language_info": {
   "codemirror_mode": {
    "name": "ipython",
    "version": 3
   },
   "file_extension": ".py",
   "mimetype": "text/x-python",
   "name": "python",
   "nbconvert_exporter": "python",
   "pygments_lexer": "ipython3",
   "version": "3.9.21"
  }
 },
 "nbformat": 4,
 "nbformat_minor": 5
}
