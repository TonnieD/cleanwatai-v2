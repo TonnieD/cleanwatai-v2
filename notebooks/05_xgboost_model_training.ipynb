{
 "cells": [
  {
   "cell_type": "code",
   "execution_count": 1,
   "id": "cbe5b29a",
   "metadata": {
    "execution": {
     "iopub.execute_input": "2025-07-27T13:02:37.703573Z",
     "iopub.status.busy": "2025-07-27T13:02:37.702573Z",
     "iopub.status.idle": "2025-07-27T13:02:37.741387Z",
     "shell.execute_reply": "2025-07-27T13:02:37.740374Z"
    }
   },
   "outputs": [],
   "source": [
    "%load_ext autoreload\n",
    "%autoreload 2"
   ]
  },
  {
   "cell_type": "code",
   "execution_count": null,
   "id": "e632a7a3",
   "metadata": {},
   "outputs": [],
   "source": []
  }
 ],
 "metadata": {
  "language_info": {
   "codemirror_mode": {
    "name": "ipython",
    "version": 3
   },
   "file_extension": ".py",
   "mimetype": "text/x-python",
   "name": "python",
   "nbconvert_exporter": "python",
   "pygments_lexer": "ipython3",
   "version": "3.12.7"
  }
 },
 "nbformat": 4,
 "nbformat_minor": 5
}
