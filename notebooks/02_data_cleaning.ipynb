{
 "cells": [
  {
   "cell_type": "code",
   "execution_count": 1,
   "id": "7d7897bf",
   "metadata": {
    "execution": {
     "iopub.execute_input": "2025-07-27T13:02:00.675883Z",
     "iopub.status.busy": "2025-07-27T13:02:00.674871Z",
     "iopub.status.idle": "2025-07-27T13:02:00.702948Z",
     "shell.execute_reply": "2025-07-27T13:02:00.702441Z"
    }
   },
   "outputs": [],
   "source": [
    "%load_ext autoreload\n",
    "%autoreload 2"
   ]
  },
  {
   "cell_type": "code",
   "execution_count": null,
   "id": "3cae3989",
   "metadata": {},
   "outputs": [],
   "source": []
  }
 ],
 "metadata": {
  "kernelspec": {
   "display_name": "base",
   "language": "python",
   "name": "python3"
  },
  "language_info": {
   "codemirror_mode": {
    "name": "ipython",
    "version": 3
   },
   "file_extension": ".py",
   "mimetype": "text/x-python",
   "name": "python",
   "nbconvert_exporter": "python",
   "pygments_lexer": "ipython3",
   "version": "3.12.7"
  }
 },
 "nbformat": 4,
 "nbformat_minor": 5
}
