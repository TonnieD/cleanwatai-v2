{
 "cells": [
  {
   "cell_type": "code",
   "execution_count": 1,
   "id": "a312923a",
   "metadata": {
    "execution": {
     "iopub.execute_input": "2025-07-27T13:03:15.193600Z",
     "iopub.status.busy": "2025-07-27T13:03:15.193600Z",
     "iopub.status.idle": "2025-07-27T13:03:15.237125Z",
     "shell.execute_reply": "2025-07-27T13:03:15.236063Z"
    }
   },
   "outputs": [],
   "source": [
    "%load_ext autoreload\n",
    "%autoreload 2"
   ]
  },
  {
   "cell_type": "code",
   "execution_count": null,
   "id": "70322b8c",
   "metadata": {},
   "outputs": [],
   "source": []
  }
 ],
 "metadata": {
  "language_info": {
   "codemirror_mode": {
    "name": "ipython",
    "version": 3
   },
   "file_extension": ".py",
   "mimetype": "text/x-python",
   "name": "python",
   "nbconvert_exporter": "python",
   "pygments_lexer": "ipython3",
   "version": "3.12.7"
  }
 },
 "nbformat": 4,
 "nbformat_minor": 5
}
