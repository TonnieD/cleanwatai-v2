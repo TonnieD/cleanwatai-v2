{
 "cells": [
  {
   "cell_type": "code",
   "execution_count": 1,
   "id": "8c94ae43",
   "metadata": {
    "execution": {
     "iopub.execute_input": "2025-07-27T13:03:26.184982Z",
     "iopub.status.busy": "2025-07-27T13:03:26.184982Z",
     "iopub.status.idle": "2025-07-27T13:03:26.226724Z",
     "shell.execute_reply": "2025-07-27T13:03:26.225200Z"
    }
   },
   "outputs": [],
   "source": [
    "%load_ext autoreload\n",
    "%autoreload 2"
   ]
  },
  {
   "cell_type": "code",
   "execution_count": 2,
   "id": "2d968fdd",
   "metadata": {
    "execution": {
     "iopub.execute_input": "2025-07-27T13:03:26.235513Z",
     "iopub.status.busy": "2025-07-27T13:03:26.234281Z",
     "iopub.status.idle": "2025-07-27T13:03:26.263193Z",
     "shell.execute_reply": "2025-07-27T13:03:26.261164Z"
    }
   },
   "outputs": [],
   "source": [
    "# !streamlit run ../app/streamlit_app.py"
   ]
  }
 ],
 "metadata": {
  "kernelspec": {
   "display_name": "base",
   "language": "python",
   "name": "python3"
  },
  "language_info": {
   "codemirror_mode": {
    "name": "ipython",
    "version": 3
   },
   "file_extension": ".py",
   "mimetype": "text/x-python",
   "name": "python",
   "nbconvert_exporter": "python",
   "pygments_lexer": "ipython3",
   "version": "3.12.7"
  }
 },
 "nbformat": 4,
 "nbformat_minor": 5
}
