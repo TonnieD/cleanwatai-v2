{
 "cells": [
  {
   "cell_type": "code",
   "execution_count": 1,
   "id": "7d511bab",
   "metadata": {
    "execution": {
     "iopub.execute_input": "2025-07-27T13:03:04.065892Z",
     "iopub.status.busy": "2025-07-27T13:03:04.065892Z",
     "iopub.status.idle": "2025-07-27T13:03:04.092702Z",
     "shell.execute_reply": "2025-07-27T13:03:04.090632Z"
    }
   },
   "outputs": [],
   "source": [
    "%load_ext autoreload\n",
    "%autoreload 2"
   ]
  },
  {
   "cell_type": "code",
   "execution_count": null,
   "id": "5ce2d4eb",
   "metadata": {},
   "outputs": [],
   "source": []
  }
 ],
 "metadata": {
  "language_info": {
   "codemirror_mode": {
    "name": "ipython",
    "version": 3
   },
   "file_extension": ".py",
   "mimetype": "text/x-python",
   "name": "python",
   "nbconvert_exporter": "python",
   "pygments_lexer": "ipython3",
   "version": "3.12.7"
  }
 },
 "nbformat": 4,
 "nbformat_minor": 5
}
